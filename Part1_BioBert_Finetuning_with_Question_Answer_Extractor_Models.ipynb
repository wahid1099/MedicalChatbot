{
 "cells": [
  {
   "cell_type": "code",
   "execution_count": 1,
   "metadata": {
    "colab": {
     "base_uri": "https://localhost:8080/"
    },
    "id": "FXG8IV72J-pX",
    "outputId": "95fa23cc-7447-4710-8530-6329df12775d"
   },
   "outputs": [
    {
     "name": "stdout",
     "output_type": "stream",
     "text": [
      "Collecting transformers\n",
      "\u001b[?25l  Downloading https://files.pythonhosted.org/packages/98/87/ef312eef26f5cecd8b17ae9654cdd8d1fae1eb6dbd87257d6d73c128a4d0/transformers-4.3.2-py3-none-any.whl (1.8MB)\n",
      "\u001b[K     |████████████████████████████████| 1.8MB 5.7MB/s \n",
      "\u001b[?25hRequirement already satisfied: packaging in /usr/local/lib/python3.6/dist-packages (from transformers) (20.9)\n",
      "Collecting sacremoses\n",
      "\u001b[?25l  Downloading https://files.pythonhosted.org/packages/7d/34/09d19aff26edcc8eb2a01bed8e98f13a1537005d31e95233fd48216eed10/sacremoses-0.0.43.tar.gz (883kB)\n",
      "\u001b[K     |████████████████████████████████| 890kB 52.3MB/s \n",
      "\u001b[?25hRequirement already satisfied: tqdm>=4.27 in /usr/local/lib/python3.6/dist-packages (from transformers) (4.41.1)\n",
      "Collecting tokenizers<0.11,>=0.10.1\n",
      "\u001b[?25l  Downloading https://files.pythonhosted.org/packages/fd/5b/44baae602e0a30bcc53fbdbc60bd940c15e143d252d658dfdefce736ece5/tokenizers-0.10.1-cp36-cp36m-manylinux2010_x86_64.whl (3.2MB)\n",
      "\u001b[K     |████████████████████████████████| 3.2MB 65.2MB/s \n",
      "\u001b[?25hRequirement already satisfied: dataclasses; python_version < \"3.7\" in /usr/local/lib/python3.6/dist-packages (from transformers) (0.8)\n",
      "Requirement already satisfied: filelock in /usr/local/lib/python3.6/dist-packages (from transformers) (3.0.12)\n",
      "Requirement already satisfied: regex!=2019.12.17 in /usr/local/lib/python3.6/dist-packages (from transformers) (2019.12.20)\n",
      "Requirement already satisfied: importlib-metadata; python_version < \"3.8\" in /usr/local/lib/python3.6/dist-packages (from transformers) (3.4.0)\n",
      "Requirement already satisfied: requests in /usr/local/lib/python3.6/dist-packages (from transformers) (2.23.0)\n",
      "Requirement already satisfied: numpy>=1.17 in /usr/local/lib/python3.6/dist-packages (from transformers) (1.19.5)\n",
      "Requirement already satisfied: pyparsing>=2.0.2 in /usr/local/lib/python3.6/dist-packages (from packaging->transformers) (2.4.7)\n",
      "Requirement already satisfied: six in /usr/local/lib/python3.6/dist-packages (from sacremoses->transformers) (1.15.0)\n",
      "Requirement already satisfied: click in /usr/local/lib/python3.6/dist-packages (from sacremoses->transformers) (7.1.2)\n",
      "Requirement already satisfied: joblib in /usr/local/lib/python3.6/dist-packages (from sacremoses->transformers) (1.0.0)\n",
      "Requirement already satisfied: typing-extensions>=3.6.4; python_version < \"3.8\" in /usr/local/lib/python3.6/dist-packages (from importlib-metadata; python_version < \"3.8\"->transformers) (3.7.4.3)\n",
      "Requirement already satisfied: zipp>=0.5 in /usr/local/lib/python3.6/dist-packages (from importlib-metadata; python_version < \"3.8\"->transformers) (3.4.0)\n",
      "Requirement already satisfied: chardet<4,>=3.0.2 in /usr/local/lib/python3.6/dist-packages (from requests->transformers) (3.0.4)\n",
      "Requirement already satisfied: idna<3,>=2.5 in /usr/local/lib/python3.6/dist-packages (from requests->transformers) (2.10)\n",
      "Requirement already satisfied: urllib3!=1.25.0,!=1.25.1,<1.26,>=1.21.1 in /usr/local/lib/python3.6/dist-packages (from requests->transformers) (1.24.3)\n",
      "Requirement already satisfied: certifi>=2017.4.17 in /usr/local/lib/python3.6/dist-packages (from requests->transformers) (2020.12.5)\n",
      "Building wheels for collected packages: sacremoses\n",
      "  Building wheel for sacremoses (setup.py) ... \u001b[?25l\u001b[?25hdone\n",
      "  Created wheel for sacremoses: filename=sacremoses-0.0.43-cp36-none-any.whl size=893261 sha256=8acae3a89f00dcf19eabd67995555f14e11b17e0215b4fc56c725d455c16978a\n",
      "  Stored in directory: /root/.cache/pip/wheels/29/3c/fd/7ce5c3f0666dab31a50123635e6fb5e19ceb42ce38d4e58f45\n",
      "Successfully built sacremoses\n",
      "Installing collected packages: sacremoses, tokenizers, transformers\n",
      "Successfully installed sacremoses-0.0.43 tokenizers-0.10.1 transformers-4.3.2\n"
     ]
    }
   ],
   "source": [
    "#installing the transformers library\r\n",
    "!pip install transformers"
   ]
  },
  {
   "cell_type": "code",
   "execution_count": 2,
   "metadata": {
    "colab": {
     "base_uri": "https://localhost:8080/",
     "height": 361,
     "referenced_widgets": [
      "65018498ec064d41912498864c6136e4",
      "a4c06561fb7d439c944a64f2130fbf88",
      "08d5c08a6dba4967bc0f8e99d5890ff1",
      "87599501d2114ebfaf0cff168e669d56",
      "746c4a1019cc456782ac4752d95af0c2",
      "da967ffe3501442f90433dded3b60599",
      "9658962e4cc94eb5a59902c2ae9f466f",
      "e79b232398be4000a846b59796cffaa5",
      "a139b2da98eb4b3fa081418ba7e78902",
      "99d729853a2d4b88a4c54b94287d102a",
      "d8e90b80b68849d08515fbd61ae44efb",
      "00ee7b72e9e24616b64a21060f179cf6",
      "63be850c06de44409bbf1559bbb89b81",
      "eac2b657dc2d4123aeadafecde438f38",
      "f8b478d4db204b3c97897fd4ec0d3ef9",
      "fef358b2cfe846b3adf435f522648c8b",
      "a759d19122854620991002a0fda238ee",
      "4ab5c680833141c6a53ce3407dd9cba8",
      "3464fdf5b7a24289b9274099068c8de1",
      "51d06128a21f4d15ba0c7aa4b1a2337c",
      "d25e9f98ff3849cc975302f96e448d82",
      "b6f799f9ce6e48bf931b7775eae1e06f",
      "36d446d79a5b42ac89b81591e1ddf610",
      "9a25809ded9e421ea0187b1e208e67a8",
      "7daa6e72e8a646e593430d115f0f2ced",
      "0562bdfb28c54cbfa7c408bb4890e5bc",
      "d4c57ff6acc0462d95a9c68e6ca39f7b",
      "10d6fc0e58b443ebb9035bdab2b34d48",
      "722e6026e95e416c82c3743e2b46dae7",
      "d36ce15e8db64364b5ebd31d70e30c0d",
      "cbc125898eeb4c3987b8c2fe6c7f5e63",
      "6fc0a0c12a0b4ec89eaf002571395e8c",
      "09e7ced103d44675b5a111b0c05f06f6",
      "72d2ab24343c477aa39a00d6719639bc",
      "8f5e7392fca746a4919c971d587603c8",
      "2ce98b6e383548c6bfc02a5734d90a5a",
      "89bb17d2e5ce40749999e31dbf9a5df0",
      "cc28b7bf09434cf8b15f8ec2ab8874fa",
      "00b8322cba31446098b56dd6a0dce4f0",
      "fc9b64ffb78446f78b6c81bad09c572d"
     ]
    },
    "id": "0UFd7JHfJ3V5",
    "outputId": "f4a9a8f3-35a3-4c52-80db-238923fe2f2c"
   },
   "outputs": [
    {
     "data": {
      "application/vnd.jupyter.widget-view+json": {
       "model_id": "65018498ec064d41912498864c6136e4",
       "version_major": 2,
       "version_minor": 0
      },
      "text/plain": [
       "HBox(children=(FloatProgress(value=0.0, description='Downloading', max=462.0, style=ProgressStyle(description_…"
      ]
     },
     "metadata": {
      "tags": []
     },
     "output_type": "display_data"
    },
    {
     "name": "stdout",
     "output_type": "stream",
     "text": [
      "\n"
     ]
    },
    {
     "data": {
      "application/vnd.jupyter.widget-view+json": {
       "model_id": "a139b2da98eb4b3fa081418ba7e78902",
       "version_major": 2,
       "version_minor": 0
      },
      "text/plain": [
       "HBox(children=(FloatProgress(value=0.0, description='Downloading', max=213450.0, style=ProgressStyle(descripti…"
      ]
     },
     "metadata": {
      "tags": []
     },
     "output_type": "display_data"
    },
    {
     "name": "stdout",
     "output_type": "stream",
     "text": [
      "\n"
     ]
    },
    {
     "data": {
      "application/vnd.jupyter.widget-view+json": {
       "model_id": "a759d19122854620991002a0fda238ee",
       "version_major": 2,
       "version_minor": 0
      },
      "text/plain": [
       "HBox(children=(FloatProgress(value=0.0, description='Downloading', max=112.0, style=ProgressStyle(description_…"
      ]
     },
     "metadata": {
      "tags": []
     },
     "output_type": "display_data"
    },
    {
     "name": "stdout",
     "output_type": "stream",
     "text": [
      "\n"
     ]
    },
    {
     "data": {
      "application/vnd.jupyter.widget-view+json": {
       "model_id": "7daa6e72e8a646e593430d115f0f2ced",
       "version_major": 2,
       "version_minor": 0
      },
      "text/plain": [
       "HBox(children=(FloatProgress(value=0.0, description='Downloading', max=85.0, style=ProgressStyle(description_w…"
      ]
     },
     "metadata": {
      "tags": []
     },
     "output_type": "display_data"
    },
    {
     "name": "stdout",
     "output_type": "stream",
     "text": [
      "\n"
     ]
    },
    {
     "data": {
      "application/vnd.jupyter.widget-view+json": {
       "model_id": "09e7ced103d44675b5a111b0c05f06f6",
       "version_major": 2,
       "version_minor": 0
      },
      "text/plain": [
       "HBox(children=(FloatProgress(value=0.0, description='Downloading', max=433503000.0, style=ProgressStyle(descri…"
      ]
     },
     "metadata": {
      "tags": []
     },
     "output_type": "display_data"
    },
    {
     "name": "stdout",
     "output_type": "stream",
     "text": [
      "\n"
     ]
    },
    {
     "name": "stderr",
     "output_type": "stream",
     "text": [
      "All model checkpoint layers were used when initializing TFBertModel.\n",
      "\n",
      "All the layers of TFBertModel were initialized from the model checkpoint at cambridgeltl/BioRedditBERT-uncased.\n",
      "If your task is similar to the task the model of the checkpoint was trained on, you can already use TFBertModel for predictions without further training.\n"
     ]
    }
   ],
   "source": [
    "#importing the pretrained biobert tokenizer and the biobert model\r\n",
    "from transformers import AutoTokenizer, TFAutoModel\r\n",
    "biobert_tokenizer = AutoTokenizer.from_pretrained(\"cambridgeltl/BioRedditBERT-uncased\")\r\n",
    "\r\n",
    "biobert_model = TFAutoModel.from_pretrained(\"cambridgeltl/BioRedditBERT-uncased\")"
   ]
  },
  {
   "cell_type": "code",
   "execution_count": null,
   "metadata": {
    "colab": {
     "base_uri": "https://localhost:8080/"
    },
    "id": "k-1MuSmKKHAa",
    "outputId": "20d4bd4a-21a4-484e-afa0-2d0222949dca"
   },
   "outputs": [
    {
     "name": "stdout",
     "output_type": "stream",
     "text": [
      "Model: \"tf_bert_model_1\"\n",
      "_________________________________________________________________\n",
      "Layer (type)                 Output Shape              Param #   \n",
      "=================================================================\n",
      "bert (TFBertMainLayer)       multiple                  108310272 \n",
      "=================================================================\n",
      "Total params: 108,310,272\n",
      "Trainable params: 108,310,272\n",
      "Non-trainable params: 0\n",
      "_________________________________________________________________\n"
     ]
    }
   ],
   "source": [
    "#displaying biobert model summary\r\n",
    "biobert_model.summary()"
   ]
  },
  {
   "cell_type": "markdown",
   "metadata": {
    "id": "UA3iRSfMfXzn"
   },
   "source": [
    "**DataSet Creation**"
   ]
  },
  {
   "cell_type": "code",
   "execution_count": null,
   "metadata": {
    "id": "e-AGJMEcTsZ_"
   },
   "outputs": [],
   "source": [
    "#loading the json medical data files\r\n",
    "import json\r\n",
    "with open('ehealthforumQAs.json') as f1:\r\n",
    "  ehealth=json.load(f1)[\"data\"]\r\n",
    "with open('icliniqQAs.json') as f2:\r\n",
    "  icliniq=json.load(f2)[\"data\"]\r\n",
    "with open('questionDoctorQAs.json') as f3:\r\n",
    "  questiondoctor=json.load(f3)[\"data\"]\r\n",
    "with open('webmdQAs.json') as f4:\r\n",
    "  webmd=json.load(f4)[\"data\"]"
   ]
  },
  {
   "cell_type": "code",
   "execution_count": null,
   "metadata": {
    "id": "wQhrImI6VPX0"
   },
   "outputs": [],
   "source": [
    "#function to extract question,answer and tags from the json objects\r\n",
    "def extract_answer_question_tags(json_data):\r\n",
    "  questions=[]\r\n",
    "  answers=[]\r\n",
    "  tags=[]\r\n",
    "  for i in json_data:\r\n",
    "    questions.append(i['question'])\r\n",
    "    answers.append(i['answer'])\r\n",
    "    tags.append(i['tags'])\r\n",
    "  return questions,answers,tags"
   ]
  },
  {
   "cell_type": "code",
   "execution_count": null,
   "metadata": {
    "colab": {
     "base_uri": "https://localhost:8080/"
    },
    "id": "0oiobQZYV6bZ",
    "outputId": "ed369097-123a-4375-da9b-c18bcb0c3d8a"
   },
   "outputs": [
    {
     "name": "stdout",
     "output_type": "stream",
     "text": [
      "29752 29752 29752\n"
     ]
    }
   ],
   "source": [
    "#extracting the question,answer and tags from the medical json objects\r\n",
    "all_questions=[]\r\n",
    "all_answers=[]\r\n",
    "all_tags=[]\r\n",
    "for i in [ehealth,icliniq,questiondoctor,webmd]:\r\n",
    "  questions,answers,tags=extract_answer_question_tags(i)\r\n",
    "  all_questions.extend(questions)\r\n",
    "  all_answers.extend(answers)\r\n",
    "  all_tags.extend(tags)\r\n",
    "print(len(all_questions),len(all_answers),len(all_tags))"
   ]
  },
  {
   "cell_type": "code",
   "execution_count": null,
   "metadata": {
    "id": "JRGtIkdpWrGG"
   },
   "outputs": [],
   "source": [
    "#loading and storing the medical data into dataframe and csv file correspondingly.\r\n",
    "import pandas as pd\r\n",
    "all_data=pd.DataFrame({'questions':all_questions,'answers':all_answers,'tags':all_tags})\r\n",
    "all_data.to_csv('all_data.csv',index=False)"
   ]
  },
  {
   "cell_type": "code",
   "execution_count": null,
   "metadata": {
    "id": "kDpeEGAv-U0N"
   },
   "outputs": [],
   "source": [
    "#loading medical data from the disk\r\n",
    "all_data=pd.read_csv('all_data.csv')"
   ]
  },
  {
   "cell_type": "code",
   "execution_count": null,
   "metadata": {
    "colab": {
     "base_uri": "https://localhost:8080/",
     "height": 506
    },
    "id": "CDToddteA6jD",
    "outputId": "31b312e1-7ce0-4da3-f06f-9f98c83932eb"
   },
   "outputs": [
    {
     "data": {
      "text/html": [
       "<div>\n",
       "<style scoped>\n",
       "    .dataframe tbody tr th:only-of-type {\n",
       "        vertical-align: middle;\n",
       "    }\n",
       "\n",
       "    .dataframe tbody tr th {\n",
       "        vertical-align: top;\n",
       "    }\n",
       "\n",
       "    .dataframe thead th {\n",
       "        text-align: right;\n",
       "    }\n",
       "</style>\n",
       "<table border=\"1\" class=\"dataframe\">\n",
       "  <thead>\n",
       "    <tr style=\"text-align: right;\">\n",
       "      <th></th>\n",
       "      <th>questions</th>\n",
       "      <th>answers</th>\n",
       "      <th>tags</th>\n",
       "    </tr>\n",
       "  </thead>\n",
       "  <tbody>\n",
       "    <tr>\n",
       "      <th>0</th>\n",
       "      <td>how do i stop smoking now</td>\n",
       "      <td>stopping smoking is about will power and being...</td>\n",
       "      <td>['addiction', 'stop smoking']</td>\n",
       "    </tr>\n",
       "    <tr>\n",
       "      <th>1</th>\n",
       "      <td>i had a tubaligation 4 years ago and also have...</td>\n",
       "      <td>hello this sounds quite unfamiliar that due to...</td>\n",
       "      <td>['pregnancy', 'diet', 'endometriosis']</td>\n",
       "    </tr>\n",
       "    <tr>\n",
       "      <th>2</th>\n",
       "      <td>could extra caffeine consumption be a cause of...</td>\n",
       "      <td>extra caffeine can cause gastric discomfort th...</td>\n",
       "      <td>['breast cancer', 'cancer', 'breasts']</td>\n",
       "    </tr>\n",
       "    <tr>\n",
       "      <th>3</th>\n",
       "      <td>hello- i am a 24 year old female 5\"4 &amp; 115 lb ...</td>\n",
       "      <td>hello thanks for submitting your question here...</td>\n",
       "      <td>['hair loss', 'diet', 'acne', 'ovulation and o...</td>\n",
       "    </tr>\n",
       "    <tr>\n",
       "      <th>4</th>\n",
       "      <td>i was wanting to know if you could tell me if ...</td>\n",
       "      <td>i am glad to help you out. this is not possibl...</td>\n",
       "      <td>['am i pregnant', 'pregnant', 'urine pregnancy...</td>\n",
       "    </tr>\n",
       "    <tr>\n",
       "      <th>...</th>\n",
       "      <td>...</td>\n",
       "      <td>...</td>\n",
       "      <td>...</td>\n",
       "    </tr>\n",
       "    <tr>\n",
       "      <th>29747</th>\n",
       "      <td>how can accidental of acetaminophen overdose b...</td>\n",
       "      <td>to avoid unintentional overdoses among adults ...</td>\n",
       "      <td>['drug overdose', 'acetaminophen']</td>\n",
       "    </tr>\n",
       "    <tr>\n",
       "      <th>29748</th>\n",
       "      <td>what should i do if i take an overdose of maxalt?</td>\n",
       "      <td>if you take more medication than you have been...</td>\n",
       "      <td>['drug overdose']</td>\n",
       "    </tr>\n",
       "    <tr>\n",
       "      <th>29749</th>\n",
       "      <td>what do i do in case of an overdose of relpax?</td>\n",
       "      <td>call your doctor or poison control center or g...</td>\n",
       "      <td>['drug overdose']</td>\n",
       "    </tr>\n",
       "    <tr>\n",
       "      <th>29750</th>\n",
       "      <td>is overdose with acetaminophen usually acciden...</td>\n",
       "      <td>in the u. s. suicide attempts account for over...</td>\n",
       "      <td>['drug overdose', 'acetaminophen']</td>\n",
       "    </tr>\n",
       "    <tr>\n",
       "      <th>29751</th>\n",
       "      <td>how does an overdose of acetaminophen cause li...</td>\n",
       "      <td>the answer is that liver damage from acetamino...</td>\n",
       "      <td>['drug overdose', 'injury', 'liver', 'acetamin...</td>\n",
       "    </tr>\n",
       "  </tbody>\n",
       "</table>\n",
       "<p>29752 rows × 3 columns</p>\n",
       "</div>"
      ],
      "text/plain": [
       "                                               questions  ...                                               tags\n",
       "0                              how do i stop smoking now  ...                      ['addiction', 'stop smoking']\n",
       "1      i had a tubaligation 4 years ago and also have...  ...             ['pregnancy', 'diet', 'endometriosis']\n",
       "2      could extra caffeine consumption be a cause of...  ...             ['breast cancer', 'cancer', 'breasts']\n",
       "3      hello- i am a 24 year old female 5\"4 & 115 lb ...  ...  ['hair loss', 'diet', 'acne', 'ovulation and o...\n",
       "4      i was wanting to know if you could tell me if ...  ...  ['am i pregnant', 'pregnant', 'urine pregnancy...\n",
       "...                                                  ...  ...                                                ...\n",
       "29747  how can accidental of acetaminophen overdose b...  ...                 ['drug overdose', 'acetaminophen']\n",
       "29748  what should i do if i take an overdose of maxalt?  ...                                  ['drug overdose']\n",
       "29749     what do i do in case of an overdose of relpax?  ...                                  ['drug overdose']\n",
       "29750  is overdose with acetaminophen usually acciden...  ...                 ['drug overdose', 'acetaminophen']\n",
       "29751  how does an overdose of acetaminophen cause li...  ...  ['drug overdose', 'injury', 'liver', 'acetamin...\n",
       "\n",
       "[29752 rows x 3 columns]"
      ]
     },
     "execution_count": 5,
     "metadata": {
      "tags": []
     },
     "output_type": "execute_result"
    }
   ],
   "source": [
    "#displaying the medical data.\r\n",
    "all_data"
   ]
  },
  {
   "cell_type": "code",
   "execution_count": null,
   "metadata": {
    "id": "WNX1t0rCLzo_"
   },
   "outputs": [],
   "source": [
    "import re\r\n",
    "import numpy as np\r\n",
    "#function to preprocess tags post loading from disk\r\n",
    "def preprocess_tags(tags):\r\n",
    "  tags=tags[1:-1]\r\n",
    "  tags=tags.replace(\"\\'\",'')\r\n",
    "  return np.array(tags.split(', '))"
   ]
  },
  {
   "cell_type": "code",
   "execution_count": null,
   "metadata": {
    "id": "Ajun6AnkKGqy"
   },
   "outputs": [],
   "source": [
    "#preprocessing the tags post loading from disk\r\n",
    "all_data['tags']=all_data.tags.apply(lambda x: preprocess_tags(x))"
   ]
  },
  {
   "cell_type": "code",
   "execution_count": null,
   "metadata": {
    "colab": {
     "base_uri": "https://localhost:8080/",
     "height": 197
    },
    "id": "jvpBBcqKXvyQ",
    "outputId": "09b06e84-2cf7-414b-a7b3-6372582ded58"
   },
   "outputs": [
    {
     "data": {
      "text/html": [
       "<div>\n",
       "<style scoped>\n",
       "    .dataframe tbody tr th:only-of-type {\n",
       "        vertical-align: middle;\n",
       "    }\n",
       "\n",
       "    .dataframe tbody tr th {\n",
       "        vertical-align: top;\n",
       "    }\n",
       "\n",
       "    .dataframe thead th {\n",
       "        text-align: right;\n",
       "    }\n",
       "</style>\n",
       "<table border=\"1\" class=\"dataframe\">\n",
       "  <thead>\n",
       "    <tr style=\"text-align: right;\">\n",
       "      <th></th>\n",
       "      <th>questions</th>\n",
       "      <th>answers</th>\n",
       "      <th>tags</th>\n",
       "    </tr>\n",
       "  </thead>\n",
       "  <tbody>\n",
       "    <tr>\n",
       "      <th>0</th>\n",
       "      <td>how do i stop smoking now</td>\n",
       "      <td>stopping smoking is about will power and being...</td>\n",
       "      <td>[addiction, stop smoking]</td>\n",
       "    </tr>\n",
       "    <tr>\n",
       "      <th>1</th>\n",
       "      <td>i had a tubaligation 4 years ago and also have...</td>\n",
       "      <td>hello this sounds quite unfamiliar that due to...</td>\n",
       "      <td>[pregnancy, diet, endometriosis]</td>\n",
       "    </tr>\n",
       "    <tr>\n",
       "      <th>2</th>\n",
       "      <td>could extra caffeine consumption be a cause of...</td>\n",
       "      <td>extra caffeine can cause gastric discomfort th...</td>\n",
       "      <td>[breast cancer, cancer, breasts]</td>\n",
       "    </tr>\n",
       "    <tr>\n",
       "      <th>3</th>\n",
       "      <td>hello- i am a 24 year old female 5\"4 &amp; 115 lb ...</td>\n",
       "      <td>hello thanks for submitting your question here...</td>\n",
       "      <td>[hair loss, diet, acne, ovulation and ovaries]</td>\n",
       "    </tr>\n",
       "    <tr>\n",
       "      <th>4</th>\n",
       "      <td>i was wanting to know if you could tell me if ...</td>\n",
       "      <td>i am glad to help you out. this is not possibl...</td>\n",
       "      <td>[am i pregnant, pregnant, urine pregnancy test...</td>\n",
       "    </tr>\n",
       "  </tbody>\n",
       "</table>\n",
       "</div>"
      ],
      "text/plain": [
       "                                           questions  ...                                               tags\n",
       "0                          how do i stop smoking now  ...                          [addiction, stop smoking]\n",
       "1  i had a tubaligation 4 years ago and also have...  ...                   [pregnancy, diet, endometriosis]\n",
       "2  could extra caffeine consumption be a cause of...  ...                   [breast cancer, cancer, breasts]\n",
       "3  hello- i am a 24 year old female 5\"4 & 115 lb ...  ...     [hair loss, diet, acne, ovulation and ovaries]\n",
       "4  i was wanting to know if you could tell me if ...  ...  [am i pregnant, pregnant, urine pregnancy test...\n",
       "\n",
       "[5 rows x 3 columns]"
      ]
     },
     "execution_count": 8,
     "metadata": {
      "tags": []
     },
     "output_type": "execute_result"
    }
   ],
   "source": [
    "#displaying the data\r\n",
    "all_data.head()"
   ]
  },
  {
   "cell_type": "code",
   "execution_count": null,
   "metadata": {
    "colab": {
     "base_uri": "https://localhost:8080/",
     "height": 297
    },
    "id": "F-d8UCKNb3Jt",
    "outputId": "1ddabe47-a1cf-4258-949c-650c021bb228"
   },
   "outputs": [
    {
     "data": {
      "text/html": [
       "<div>\n",
       "<style scoped>\n",
       "    .dataframe tbody tr th:only-of-type {\n",
       "        vertical-align: middle;\n",
       "    }\n",
       "\n",
       "    .dataframe tbody tr th {\n",
       "        vertical-align: top;\n",
       "    }\n",
       "\n",
       "    .dataframe thead th {\n",
       "        text-align: right;\n",
       "    }\n",
       "</style>\n",
       "<table border=\"1\" class=\"dataframe\">\n",
       "  <thead>\n",
       "    <tr style=\"text-align: right;\">\n",
       "      <th></th>\n",
       "      <th>questions</th>\n",
       "      <th>answers</th>\n",
       "      <th>tags</th>\n",
       "      <th>preprocessed_question</th>\n",
       "      <th>preprocessed_answer</th>\n",
       "    </tr>\n",
       "  </thead>\n",
       "  <tbody>\n",
       "    <tr>\n",
       "      <th>0</th>\n",
       "      <td>how do i stop smoking now</td>\n",
       "      <td>stopping smoking is about will power and being...</td>\n",
       "      <td>[addiction, stop smoking]</td>\n",
       "      <td>how do i stop smoking now</td>\n",
       "      <td>stopping smoking is about will power and being...</td>\n",
       "    </tr>\n",
       "    <tr>\n",
       "      <th>1</th>\n",
       "      <td>i had a tubaligation 4 years ago and also have...</td>\n",
       "      <td>hello this sounds quite unfamiliar that due to...</td>\n",
       "      <td>[pregnancy, diet, endometriosis]</td>\n",
       "      <td>i had a tubaligation 4 years ago and also have...</td>\n",
       "      <td>hello this sounds quite unfamiliar that due to...</td>\n",
       "    </tr>\n",
       "    <tr>\n",
       "      <th>2</th>\n",
       "      <td>could extra caffeine consumption be a cause of...</td>\n",
       "      <td>extra caffeine can cause gastric discomfort th...</td>\n",
       "      <td>[breast cancer, cancer, breasts]</td>\n",
       "      <td>could extra caffeine consumption be a cause of...</td>\n",
       "      <td>extra caffeine can cause gastric discomfort th...</td>\n",
       "    </tr>\n",
       "    <tr>\n",
       "      <th>3</th>\n",
       "      <td>hello- i am a 24 year old female 5\"4 &amp; 115 lb ...</td>\n",
       "      <td>hello thanks for submitting your question here...</td>\n",
       "      <td>[hair loss, diet, acne, ovulation and ovaries]</td>\n",
       "      <td>hello  i am a 24 year old female 54 &amp; 115 lb &amp;...</td>\n",
       "      <td>hello thanks for submitting your question here...</td>\n",
       "    </tr>\n",
       "    <tr>\n",
       "      <th>4</th>\n",
       "      <td>i was wanting to know if you could tell me if ...</td>\n",
       "      <td>i am glad to help you out. this is not possibl...</td>\n",
       "      <td>[am i pregnant, pregnant, urine pregnancy test...</td>\n",
       "      <td>i was wanting to know if you could tell me if ...</td>\n",
       "      <td>i am glad to help you out this is not possible...</td>\n",
       "    </tr>\n",
       "  </tbody>\n",
       "</table>\n",
       "</div>"
      ],
      "text/plain": [
       "                                           questions  ...                                preprocessed_answer\n",
       "0                          how do i stop smoking now  ...  stopping smoking is about will power and being...\n",
       "1  i had a tubaligation 4 years ago and also have...  ...  hello this sounds quite unfamiliar that due to...\n",
       "2  could extra caffeine consumption be a cause of...  ...  extra caffeine can cause gastric discomfort th...\n",
       "3  hello- i am a 24 year old female 5\"4 & 115 lb ...  ...  hello thanks for submitting your question here...\n",
       "4  i was wanting to know if you could tell me if ...  ...  i am glad to help you out this is not possible...\n",
       "\n",
       "[5 rows x 5 columns]"
      ]
     },
     "execution_count": 9,
     "metadata": {
      "tags": []
     },
     "output_type": "execute_result"
    }
   ],
   "source": [
    "import re\r\n",
    "#preprocessing questions and answers.\r\n",
    "def decontractions(phrase):\r\n",
    "    \"\"\"decontracted takes text and convert contractions into natural form.\r\n",
    "     ref: https://stackoverflow.com/questions/19790188/expanding-english-language-contractions-in-python/47091490#47091490\"\"\"\r\n",
    "    phrase = re.sub(r\"won\\'t\", \"will not\", phrase)\r\n",
    "    phrase = re.sub(r\"can\\'t\", \"can not\", phrase)\r\n",
    "    phrase = re.sub(r\"won\\’t\", \"will not\", phrase)\r\n",
    "    phrase = re.sub(r\"can\\’t\", \"can not\", phrase)\r\n",
    "    phrase = re.sub(r\"n\\'t\", \" not\", phrase)\r\n",
    "    phrase = re.sub(r\"\\'re\", \" are\", phrase)\r\n",
    "    phrase = re.sub(r\"\\'s\", \" is\", phrase)\r\n",
    "    phrase = re.sub(r\"\\'d\", \" would\", phrase)\r\n",
    "    phrase = re.sub(r\"\\'ll\", \" will\", phrase)\r\n",
    "    phrase = re.sub(r\"\\'t\", \" not\", phrase)\r\n",
    "    phrase = re.sub(r\"\\'ve\", \" have\", phrase)\r\n",
    "    phrase = re.sub(r\"\\'m\", \" am\", phrase)\r\n",
    "\r\n",
    "    phrase = re.sub(r\"n\\’t\", \" not\", phrase)\r\n",
    "    phrase = re.sub(r\"\\’re\", \" are\", phrase)\r\n",
    "    phrase = re.sub(r\"\\’s\", \" is\", phrase)\r\n",
    "    phrase = re.sub(r\"\\’d\", \" would\", phrase)\r\n",
    "    phrase = re.sub(r\"\\’ll\", \" will\", phrase)\r\n",
    "    phrase = re.sub(r\"\\’t\", \" not\", phrase)\r\n",
    "    phrase = re.sub(r\"\\’ve\", \" have\", phrase)\r\n",
    "    phrase = re.sub(r\"\\’m\", \" am\", phrase)\r\n",
    "\r\n",
    "    return phrase\r\n",
    "\r\n",
    "\r\n",
    "def preprocess(text):\r\n",
    "    # convert all the text into lower letters\r\n",
    "    # remove the words betweent brakets ()\r\n",
    "    # remove these characters: {'$', ')', '?', '\"', '’', '.',  '°', '!', ';', '/', \"'\", '€', '%', ':', ',', '('}\r\n",
    "    # replace these spl characters with space: '\\u200b', '\\xa0', '-', '/'\r\n",
    "    \r\n",
    "    text = text.lower()\r\n",
    "    text = decontractions(text)\r\n",
    "    text = re.sub('[$)\\?\"’.°!;\\'€%:,(/]', '', text)\r\n",
    "    text = re.sub('\\u200b', ' ', text)\r\n",
    "    text = re.sub('\\xa0', ' ', text)\r\n",
    "    text = re.sub('-', ' ', text)\r\n",
    "    return text\r\n",
    "\r\n",
    "\r\n",
    "all_data['preprocessed_question'] = all_data['questions'].apply(preprocess)\r\n",
    "all_data['preprocessed_answer'] = all_data['answers'].apply(preprocess)\r\n",
    "all_data.head()"
   ]
  },
  {
   "cell_type": "code",
   "execution_count": null,
   "metadata": {
    "id": "JrPOgz6uAhny"
   },
   "outputs": [],
   "source": [
    "#finding the lens of preprocessed questions and answers\r\n",
    "all_data['question_len']=all_data['preprocessed_question'].apply(lambda x: len(x.split(' ')))\r\n",
    "all_data['answer_len']=all_data['preprocessed_answer'].apply(lambda x: len(x.split(' ')))"
   ]
  },
  {
   "cell_type": "code",
   "execution_count": null,
   "metadata": {
    "colab": {
     "base_uri": "https://localhost:8080/"
    },
    "id": "9s6Sl1sMAoxT",
    "outputId": "c17ebf55-b8d3-4a85-f028-5f8d6653e591"
   },
   "outputs": [
    {
     "name": "stdout",
     "output_type": "stream",
     "text": [
      "0 2.0 1.0\n",
      "10 7.0 21.0\n",
      "20 9.0 31.0\n",
      "30 12.0 40.0\n",
      "40 14.0 50.0\n",
      "50 18.0 61.0\n",
      "60 22.0 77.0\n",
      "70 38.0 99.0\n",
      "80 63.0 134.0\n",
      "90 96.0 201.0\n",
      "100 425.0 1333.0\n"
     ]
    }
   ],
   "source": [
    "#printing different percentiles of question and answer lengths\r\n",
    "import numpy as np\r\n",
    "for i in range(0,101,10):\r\n",
    "  print(i,np.percentile(all_data.question_len,i),np.percentile(all_data.answer_len,i))"
   ]
  },
  {
   "cell_type": "code",
   "execution_count": null,
   "metadata": {
    "colab": {
     "base_uri": "https://localhost:8080/"
    },
    "id": "_0dN4dIaA7yW",
    "outputId": "328409d5-36fe-407f-ded8-5db2ebcc65d7"
   },
   "outputs": [
    {
     "name": "stdout",
     "output_type": "stream",
     "text": [
      "90 96.0 201.0\n",
      "91 99.0 211.0\n",
      "92 102.0 223.0\n",
      "93 104.43000000000029 236.0\n",
      "94 107.0 254.0\n",
      "95 109.0 275.0\n",
      "96 112.0 301.0\n",
      "97 115.0 343.0\n",
      "98 119.0 397.0\n",
      "99 124.0 495.0\n",
      "100 425.0 1333.0\n"
     ]
    }
   ],
   "source": [
    "#printing different percentiles of question and answer lengths\r\n",
    "for i in range(90,101,1):\r\n",
    "  print(i,np.percentile(all_data.question_len,i),np.percentile(all_data.answer_len,i))"
   ]
  },
  {
   "cell_type": "code",
   "execution_count": null,
   "metadata": {
    "id": "3QvI2SYKBAT-"
   },
   "outputs": [],
   "source": [
    "#since more than 100% percent of questions and about 99% of all answers lie within 500 words, we use 500 as the max length\r\n",
    "all_data['short_question']=all_data.apply(lambda x: ' '.join(x.preprocessed_question.split(' ')[:500]) if x.question_len>500 else x.preprocessed_question ,axis=1)\r\n",
    "all_data['short_answer']=all_data.apply(lambda x: ' '.join(x.preprocessed_answer.split(' ')[:500]) if x.answer_len>500 else x.preprocessed_answer ,axis=1)"
   ]
  },
  {
   "cell_type": "code",
   "execution_count": null,
   "metadata": {
    "colab": {
     "base_uri": "https://localhost:8080/",
     "height": 634
    },
    "id": "TGWmgYoRB1Mt",
    "outputId": "eefbdb70-519b-425c-8967-12231d5455cc"
   },
   "outputs": [
    {
     "data": {
      "text/html": [
       "<div>\n",
       "<style scoped>\n",
       "    .dataframe tbody tr th:only-of-type {\n",
       "        vertical-align: middle;\n",
       "    }\n",
       "\n",
       "    .dataframe tbody tr th {\n",
       "        vertical-align: top;\n",
       "    }\n",
       "\n",
       "    .dataframe thead th {\n",
       "        text-align: right;\n",
       "    }\n",
       "</style>\n",
       "<table border=\"1\" class=\"dataframe\">\n",
       "  <thead>\n",
       "    <tr style=\"text-align: right;\">\n",
       "      <th></th>\n",
       "      <th>questions</th>\n",
       "      <th>answers</th>\n",
       "      <th>tags</th>\n",
       "      <th>preprocessed_question</th>\n",
       "      <th>preprocessed_answer</th>\n",
       "      <th>question_len</th>\n",
       "      <th>answer_len</th>\n",
       "      <th>short_question</th>\n",
       "      <th>short_answer</th>\n",
       "    </tr>\n",
       "  </thead>\n",
       "  <tbody>\n",
       "    <tr>\n",
       "      <th>0</th>\n",
       "      <td>how do i stop smoking now</td>\n",
       "      <td>stopping smoking is about will power and being...</td>\n",
       "      <td>[addiction, stop smoking]</td>\n",
       "      <td>how do i stop smoking now</td>\n",
       "      <td>stopping smoking is about will power and being...</td>\n",
       "      <td>6</td>\n",
       "      <td>38</td>\n",
       "      <td>how do i stop smoking now</td>\n",
       "      <td>stopping smoking is about will power and being...</td>\n",
       "    </tr>\n",
       "    <tr>\n",
       "      <th>1</th>\n",
       "      <td>i had a tubaligation 4 years ago and also have...</td>\n",
       "      <td>hello this sounds quite unfamiliar that due to...</td>\n",
       "      <td>[pregnancy, diet, endometriosis]</td>\n",
       "      <td>i had a tubaligation 4 years ago and also have...</td>\n",
       "      <td>hello this sounds quite unfamiliar that due to...</td>\n",
       "      <td>58</td>\n",
       "      <td>70</td>\n",
       "      <td>i had a tubaligation 4 years ago and also have...</td>\n",
       "      <td>hello this sounds quite unfamiliar that due to...</td>\n",
       "    </tr>\n",
       "    <tr>\n",
       "      <th>2</th>\n",
       "      <td>could extra caffeine consumption be a cause of...</td>\n",
       "      <td>extra caffeine can cause gastric discomfort th...</td>\n",
       "      <td>[breast cancer, cancer, breasts]</td>\n",
       "      <td>could extra caffeine consumption be a cause of...</td>\n",
       "      <td>extra caffeine can cause gastric discomfort th...</td>\n",
       "      <td>12</td>\n",
       "      <td>77</td>\n",
       "      <td>could extra caffeine consumption be a cause of...</td>\n",
       "      <td>extra caffeine can cause gastric discomfort th...</td>\n",
       "    </tr>\n",
       "    <tr>\n",
       "      <th>3</th>\n",
       "      <td>hello- i am a 24 year old female 5\"4 &amp; 115 lb ...</td>\n",
       "      <td>hello thanks for submitting your question here...</td>\n",
       "      <td>[hair loss, diet, acne, ovulation and ovaries]</td>\n",
       "      <td>hello  i am a 24 year old female 54 &amp; 115 lb &amp;...</td>\n",
       "      <td>hello thanks for submitting your question here...</td>\n",
       "      <td>196</td>\n",
       "      <td>97</td>\n",
       "      <td>hello  i am a 24 year old female 54 &amp; 115 lb &amp;...</td>\n",
       "      <td>hello thanks for submitting your question here...</td>\n",
       "    </tr>\n",
       "    <tr>\n",
       "      <th>4</th>\n",
       "      <td>i was wanting to know if you could tell me if ...</td>\n",
       "      <td>i am glad to help you out. this is not possibl...</td>\n",
       "      <td>[am i pregnant, pregnant, urine pregnancy test...</td>\n",
       "      <td>i was wanting to know if you could tell me if ...</td>\n",
       "      <td>i am glad to help you out this is not possible...</td>\n",
       "      <td>63</td>\n",
       "      <td>80</td>\n",
       "      <td>i was wanting to know if you could tell me if ...</td>\n",
       "      <td>i am glad to help you out this is not possible...</td>\n",
       "    </tr>\n",
       "  </tbody>\n",
       "</table>\n",
       "</div>"
      ],
      "text/plain": [
       "                                           questions  ...                                       short_answer\n",
       "0                          how do i stop smoking now  ...  stopping smoking is about will power and being...\n",
       "1  i had a tubaligation 4 years ago and also have...  ...  hello this sounds quite unfamiliar that due to...\n",
       "2  could extra caffeine consumption be a cause of...  ...  extra caffeine can cause gastric discomfort th...\n",
       "3  hello- i am a 24 year old female 5\"4 & 115 lb ...  ...  hello thanks for submitting your question here...\n",
       "4  i was wanting to know if you could tell me if ...  ...  i am glad to help you out this is not possible...\n",
       "\n",
       "[5 rows x 9 columns]"
      ]
     },
     "execution_count": 14,
     "metadata": {
      "tags": []
     },
     "output_type": "execute_result"
    }
   ],
   "source": [
    "#displaying the data post truncating the question and answers to length of 500\r\n",
    "all_data.head(5)"
   ]
  },
  {
   "cell_type": "code",
   "execution_count": null,
   "metadata": {
    "id": "4cM2WF4OF6Nv"
   },
   "outputs": [],
   "source": [
    "#preparing the positive label dataset by taking the original question and original answer\r\n",
    "all_dataset=all_data[['short_question','short_answer','tags']].copy()\r\n",
    "all_dataset['label']=1.0"
   ]
  },
  {
   "cell_type": "code",
   "execution_count": null,
   "metadata": {
    "colab": {
     "base_uri": "https://localhost:8080/",
     "height": 137
    },
    "id": "x1Ha0LuVke6o",
    "outputId": "af1b9424-086c-4c35-b408-87af589b0bf3"
   },
   "outputs": [
    {
     "data": {
      "text/html": [
       "<div>\n",
       "<style scoped>\n",
       "    .dataframe tbody tr th:only-of-type {\n",
       "        vertical-align: middle;\n",
       "    }\n",
       "\n",
       "    .dataframe tbody tr th {\n",
       "        vertical-align: top;\n",
       "    }\n",
       "\n",
       "    .dataframe thead th {\n",
       "        text-align: right;\n",
       "    }\n",
       "</style>\n",
       "<table border=\"1\" class=\"dataframe\">\n",
       "  <thead>\n",
       "    <tr style=\"text-align: right;\">\n",
       "      <th></th>\n",
       "      <th>short_question</th>\n",
       "      <th>short_answer</th>\n",
       "      <th>tags</th>\n",
       "      <th>label</th>\n",
       "    </tr>\n",
       "  </thead>\n",
       "  <tbody>\n",
       "    <tr>\n",
       "      <th>0</th>\n",
       "      <td>how do i stop smoking now</td>\n",
       "      <td>stopping smoking is about will power and being...</td>\n",
       "      <td>[addiction, stop smoking]</td>\n",
       "      <td>1.0</td>\n",
       "    </tr>\n",
       "    <tr>\n",
       "      <th>1</th>\n",
       "      <td>i had a tubaligation 4 years ago and also have...</td>\n",
       "      <td>hello this sounds quite unfamiliar that due to...</td>\n",
       "      <td>[pregnancy, diet, endometriosis]</td>\n",
       "      <td>1.0</td>\n",
       "    </tr>\n",
       "    <tr>\n",
       "      <th>2</th>\n",
       "      <td>could extra caffeine consumption be a cause of...</td>\n",
       "      <td>extra caffeine can cause gastric discomfort th...</td>\n",
       "      <td>[breast cancer, cancer, breasts]</td>\n",
       "      <td>1.0</td>\n",
       "    </tr>\n",
       "  </tbody>\n",
       "</table>\n",
       "</div>"
      ],
      "text/plain": [
       "                                      short_question  ... label\n",
       "0                          how do i stop smoking now  ...   1.0\n",
       "1  i had a tubaligation 4 years ago and also have...  ...   1.0\n",
       "2  could extra caffeine consumption be a cause of...  ...   1.0\n",
       "\n",
       "[3 rows x 4 columns]"
      ]
     },
     "execution_count": 18,
     "metadata": {
      "tags": []
     },
     "output_type": "execute_result"
    }
   ],
   "source": [
    "#displaying the positive labelled dataset\r\n",
    "all_dataset.head(3)"
   ]
  },
  {
   "cell_type": "code",
   "execution_count": null,
   "metadata": {
    "id": "7lRO0FjcIOH6"
   },
   "outputs": [],
   "source": [
    "#function to extract the negative samples using tags\r\n",
    "def extract_negative_samples(question,tags):\r\n",
    "  stop=False\r\n",
    "  while (not stop):\r\n",
    "    sample_row= all_dataset.sample()\r\n",
    "    sample_tags=sample_row.tags.values[0]\r\n",
    "    inter_tags=set(tags[0]).intersection(set(sample_tags))\r\n",
    "    if len(inter_tags)==0:\r\n",
    "      stop=True\r\n",
    "  return sample_row\r\n",
    "\r\n",
    "\r\n",
    "\r\n"
   ]
  },
  {
   "cell_type": "code",
   "execution_count": null,
   "metadata": {
    "colab": {
     "base_uri": "https://localhost:8080/",
     "height": 66,
     "referenced_widgets": [
      "a936668c3ca247cda04a3611ddb2ea5f",
      "33a61a9f455644c782bdee4ab9d097bf",
      "8782ba48572a4cdab7e8cacef72a1da0",
      "e8f1cda2e6224b44985ef8b5e0b60454",
      "79e00bc9202b4b81853efccbd17bb9a3",
      "3253cdfb636a49ad84b0e37a172ac3c3",
      "5c4f37bb9d80474db8b345b1346c0a63",
      "e55aa4a7bfd04e4a9f20075314da02bd"
     ]
    },
    "id": "P22nv4VOGECJ",
    "outputId": "32315e24-3d50-4d3f-e6cf-085828241ba3"
   },
   "outputs": [
    {
     "data": {
      "application/vnd.jupyter.widget-view+json": {
       "model_id": "a936668c3ca247cda04a3611ddb2ea5f",
       "version_major": 2,
       "version_minor": 0
      },
      "text/plain": [
       "HBox(children=(FloatProgress(value=0.0, max=29752.0), HTML(value='')))"
      ]
     },
     "metadata": {
      "tags": []
     },
     "output_type": "display_data"
    },
    {
     "name": "stdout",
     "output_type": "stream",
     "text": [
      "\n"
     ]
    }
   ],
   "source": [
    "#preparing the negative labelled dataset\r\n",
    "from tqdm.notebook import tqdm\r\n",
    "tqdm.pandas()\r\n",
    "negative_labels=all_dataset.progress_apply(lambda x: pd.Series([x.short_question,extract_negative_samples(x.short_question,x.tags).short_answer.values[0],x.tags]),axis=1)\r\n",
    "negative_labels['label']=-1.0\r\n",
    "negative_labels.columns=['short_question','short_answer','tags','label']"
   ]
  },
  {
   "cell_type": "code",
   "execution_count": null,
   "metadata": {
    "colab": {
     "base_uri": "https://localhost:8080/",
     "height": 573
    },
    "id": "cntBYGq9_6M4",
    "outputId": "de997c70-097a-4b40-fede-e5e130608410"
   },
   "outputs": [
    {
     "data": {
      "text/html": [
       "<div>\n",
       "<style scoped>\n",
       "    .dataframe tbody tr th:only-of-type {\n",
       "        vertical-align: middle;\n",
       "    }\n",
       "\n",
       "    .dataframe tbody tr th {\n",
       "        vertical-align: top;\n",
       "    }\n",
       "\n",
       "    .dataframe thead th {\n",
       "        text-align: right;\n",
       "    }\n",
       "</style>\n",
       "<table border=\"1\" class=\"dataframe\">\n",
       "  <thead>\n",
       "    <tr style=\"text-align: right;\">\n",
       "      <th></th>\n",
       "      <th>short_question</th>\n",
       "      <th>short_answer</th>\n",
       "      <th>tags</th>\n",
       "      <th>label</th>\n",
       "    </tr>\n",
       "  </thead>\n",
       "  <tbody>\n",
       "    <tr>\n",
       "      <th>0</th>\n",
       "      <td>how do i stop smoking now</td>\n",
       "      <td>although you are young for saying that but it ...</td>\n",
       "      <td>[addiction, stop smoking]</td>\n",
       "      <td>-1.0</td>\n",
       "    </tr>\n",
       "    <tr>\n",
       "      <th>1</th>\n",
       "      <td>i had a tubaligation 4 years ago and also have...</td>\n",
       "      <td>no you will not get tss from a piece of condom...</td>\n",
       "      <td>[pregnancy, diet, endometriosis]</td>\n",
       "      <td>-1.0</td>\n",
       "    </tr>\n",
       "    <tr>\n",
       "      <th>2</th>\n",
       "      <td>could extra caffeine consumption be a cause of...</td>\n",
       "      <td>bleeding from the fractured bone and surroundi...</td>\n",
       "      <td>[breast cancer, cancer, breasts]</td>\n",
       "      <td>-1.0</td>\n",
       "    </tr>\n",
       "    <tr>\n",
       "      <th>3</th>\n",
       "      <td>hello  i am a 24 year old female 54 &amp; 115 lb &amp;...</td>\n",
       "      <td>in the u s using a deodorant is usually standa...</td>\n",
       "      <td>[hair loss, diet, acne, ovulation and ovaries]</td>\n",
       "      <td>-1.0</td>\n",
       "    </tr>\n",
       "    <tr>\n",
       "      <th>4</th>\n",
       "      <td>i was wanting to know if you could tell me if ...</td>\n",
       "      <td>you have to drink water water has lots of amaz...</td>\n",
       "      <td>[am i pregnant, pregnant, urine pregnancy test...</td>\n",
       "      <td>-1.0</td>\n",
       "    </tr>\n",
       "    <tr>\n",
       "      <th>...</th>\n",
       "      <td>...</td>\n",
       "      <td>...</td>\n",
       "      <td>...</td>\n",
       "      <td>...</td>\n",
       "    </tr>\n",
       "    <tr>\n",
       "      <th>29747</th>\n",
       "      <td>how can accidental of acetaminophen overdose b...</td>\n",
       "      <td>i had the same thing it went away soon after i...</td>\n",
       "      <td>[drug overdose, acetaminophen]</td>\n",
       "      <td>-1.0</td>\n",
       "    </tr>\n",
       "    <tr>\n",
       "      <th>29748</th>\n",
       "      <td>what should i do if i take an overdose of maxalt</td>\n",
       "      <td>let me add that having one kidney is not a pro...</td>\n",
       "      <td>[drug overdose]</td>\n",
       "      <td>-1.0</td>\n",
       "    </tr>\n",
       "    <tr>\n",
       "      <th>29749</th>\n",
       "      <td>what do i do in case of an overdose of relpax</td>\n",
       "      <td>you could be getting strep throat but normally...</td>\n",
       "      <td>[drug overdose]</td>\n",
       "      <td>-1.0</td>\n",
       "    </tr>\n",
       "    <tr>\n",
       "      <th>29750</th>\n",
       "      <td>is overdose with acetaminophen usually acciden...</td>\n",
       "      <td>no you would be trying to replace on addiction...</td>\n",
       "      <td>[drug overdose, acetaminophen]</td>\n",
       "      <td>-1.0</td>\n",
       "    </tr>\n",
       "    <tr>\n",
       "      <th>29751</th>\n",
       "      <td>how does an overdose of acetaminophen cause li...</td>\n",
       "      <td>you do not need to wait if you definitely have...</td>\n",
       "      <td>[drug overdose, injury, liver, acetaminophen]</td>\n",
       "      <td>-1.0</td>\n",
       "    </tr>\n",
       "  </tbody>\n",
       "</table>\n",
       "<p>29752 rows × 4 columns</p>\n",
       "</div>"
      ],
      "text/plain": [
       "                                          short_question  ... label\n",
       "0                              how do i stop smoking now  ...  -1.0\n",
       "1      i had a tubaligation 4 years ago and also have...  ...  -1.0\n",
       "2      could extra caffeine consumption be a cause of...  ...  -1.0\n",
       "3      hello  i am a 24 year old female 54 & 115 lb &...  ...  -1.0\n",
       "4      i was wanting to know if you could tell me if ...  ...  -1.0\n",
       "...                                                  ...  ...   ...\n",
       "29747  how can accidental of acetaminophen overdose b...  ...  -1.0\n",
       "29748   what should i do if i take an overdose of maxalt  ...  -1.0\n",
       "29749      what do i do in case of an overdose of relpax  ...  -1.0\n",
       "29750  is overdose with acetaminophen usually acciden...  ...  -1.0\n",
       "29751  how does an overdose of acetaminophen cause li...  ...  -1.0\n",
       "\n",
       "[29752 rows x 4 columns]"
      ]
     },
     "execution_count": 22,
     "metadata": {
      "tags": []
     },
     "output_type": "execute_result"
    }
   ],
   "source": [
    "#displaying the negative labelled dataset\r\n",
    "negative_labels"
   ]
  },
  {
   "cell_type": "code",
   "execution_count": null,
   "metadata": {
    "colab": {
     "base_uri": "https://localhost:8080/"
    },
    "id": "p2vtcyS8Hxg7",
    "outputId": "766988aa-3ff1-45ab-e62f-fa16df07a49f"
   },
   "outputs": [
    {
     "data": {
      "text/plain": [
       "(59504, 4)"
      ]
     },
     "execution_count": 23,
     "metadata": {
      "tags": []
     },
     "output_type": "execute_result"
    }
   ],
   "source": [
    "#concatenating the positive and negative labelled dataset to get the final labelled dataset.\r\n",
    "all_data_with_labels=pd.concat([all_dataset,negative_labels],axis=0)\r\n",
    "all_data_with_labels.shape"
   ]
  },
  {
   "cell_type": "code",
   "execution_count": null,
   "metadata": {
    "id": "8x4Wp5-soyvT"
   },
   "outputs": [],
   "source": [
    "#splitting the data into train and validation\r\n",
    "from sklearn.model_selection import train_test_split\r\n",
    "train, validation = train_test_split(all_data_with_labels, test_size=0.2,random_state=42,shuffle=True,stratify=all_data_with_labels.label)"
   ]
  },
  {
   "cell_type": "code",
   "execution_count": null,
   "metadata": {
    "id": "plM6NT4YjOGB"
   },
   "outputs": [],
   "source": [
    "#saving train and validation data to disk\r\n",
    "train.to_csv('train_data_chatbot.csv',index=False)\r\n",
    "validation.to_csv('validation_data_chatbot.csv',index=False)"
   ]
  },
  {
   "cell_type": "code",
   "execution_count": null,
   "metadata": {
    "colab": {
     "base_uri": "https://localhost:8080/"
    },
    "id": "QGfmyrjOa_un",
    "outputId": "b515faf9-3de8-48b4-a7d7-caa3780f37f6"
   },
   "outputs": [
    {
     "name": "stdout",
     "output_type": "stream",
     "text": [
      "Mounted at /content/drive\n"
     ]
    }
   ],
   "source": [
    "from google.colab import drive\r\n",
    "drive.mount('/content/drive')"
   ]
  },
  {
   "cell_type": "code",
   "execution_count": null,
   "metadata": {
    "colab": {
     "base_uri": "https://localhost:8080/"
    },
    "id": "fzPQqs07bKvr",
    "outputId": "393439c4-010d-49b9-a9cd-64c9d3a05f4c"
   },
   "outputs": [
    {
     "name": "stdout",
     "output_type": "stream",
     "text": [
      "/content/drive/My Drive/chatbot\n"
     ]
    }
   ],
   "source": [
    "cd 'drive/My Drive/chatbot'"
   ]
  },
  {
   "cell_type": "code",
   "execution_count": null,
   "metadata": {
    "id": "yIJrhKcSjita"
   },
   "outputs": [],
   "source": [
    "#loading train and validation data from disk\r\n",
    "import pandas as pd\r\n",
    "train=pd.read_csv('train_data_chatbot.csv')\r\n",
    "validation=pd.read_csv('validation_data_chatbot.csv')"
   ]
  },
  {
   "cell_type": "code",
   "execution_count": null,
   "metadata": {
    "colab": {
     "base_uri": "https://localhost:8080/"
    },
    "id": "b-HvQhGsq2B3",
    "outputId": "7524af57-0cef-41fc-a55f-b002fffb8148"
   },
   "outputs": [
    {
     "data": {
      "text/plain": [
       " 1.0    23802\n",
       "-1.0    23801\n",
       "Name: label, dtype: int64"
      ]
     },
     "execution_count": 6,
     "metadata": {
      "tags": []
     },
     "output_type": "execute_result"
    }
   ],
   "source": [
    "#displaying the train label counts\r\n",
    "train.label.value_counts()"
   ]
  },
  {
   "cell_type": "code",
   "execution_count": null,
   "metadata": {
    "colab": {
     "base_uri": "https://localhost:8080/"
    },
    "id": "b8JPBVJRq5yP",
    "outputId": "0b7873b4-c852-429b-fbc3-1294565b7491"
   },
   "outputs": [
    {
     "data": {
      "text/plain": [
       "-1.0    5951\n",
       " 1.0    5950\n",
       "Name: label, dtype: int64"
      ]
     },
     "execution_count": 7,
     "metadata": {
      "tags": []
     },
     "output_type": "execute_result"
    }
   ],
   "source": [
    "#displaying the validation label counts\r\n",
    "validation.label.value_counts()"
   ]
  },
  {
   "cell_type": "code",
   "execution_count": null,
   "metadata": {
    "colab": {
     "base_uri": "https://localhost:8080/",
     "height": 197
    },
    "id": "m8nA3arJrEL0",
    "outputId": "e87ebab6-c105-48d7-8a34-1fcb8d006666"
   },
   "outputs": [
    {
     "data": {
      "text/html": [
       "<div>\n",
       "<style scoped>\n",
       "    .dataframe tbody tr th:only-of-type {\n",
       "        vertical-align: middle;\n",
       "    }\n",
       "\n",
       "    .dataframe tbody tr th {\n",
       "        vertical-align: top;\n",
       "    }\n",
       "\n",
       "    .dataframe thead th {\n",
       "        text-align: right;\n",
       "    }\n",
       "</style>\n",
       "<table border=\"1\" class=\"dataframe\">\n",
       "  <thead>\n",
       "    <tr style=\"text-align: right;\">\n",
       "      <th></th>\n",
       "      <th>short_question</th>\n",
       "      <th>short_answer</th>\n",
       "      <th>tags</th>\n",
       "      <th>label</th>\n",
       "    </tr>\n",
       "  </thead>\n",
       "  <tbody>\n",
       "    <tr>\n",
       "      <th>0</th>\n",
       "      <td>can an antibiotic through an iv give you a ras...</td>\n",
       "      <td>yes it can even after you have finished the pr...</td>\n",
       "      <td>['rash' 'antibiotic']</td>\n",
       "      <td>1.0</td>\n",
       "    </tr>\n",
       "    <tr>\n",
       "      <th>1</th>\n",
       "      <td>can you test positive from having the hep b va...</td>\n",
       "      <td>test positive for what if you had a hep b vacc...</td>\n",
       "      <td>['hepatitis b']</td>\n",
       "      <td>1.0</td>\n",
       "    </tr>\n",
       "    <tr>\n",
       "      <th>2</th>\n",
       "      <td>what are the dietary restrictions for celiac d...</td>\n",
       "      <td>omitting gluten from the diet is the key to co...</td>\n",
       "      <td>['celiac disease']</td>\n",
       "      <td>1.0</td>\n",
       "    </tr>\n",
       "    <tr>\n",
       "      <th>3</th>\n",
       "      <td>can i transmit genital warts seventeen years a...</td>\n",
       "      <td>it is important to look closely at each plan i...</td>\n",
       "      <td>['wart']</td>\n",
       "      <td>-1.0</td>\n",
       "    </tr>\n",
       "    <tr>\n",
       "      <th>4</th>\n",
       "      <td>is all vitamin d the same</td>\n",
       "      <td>migraine or sinusitis…</td>\n",
       "      <td>['vitamin d']</td>\n",
       "      <td>-1.0</td>\n",
       "    </tr>\n",
       "  </tbody>\n",
       "</table>\n",
       "</div>"
      ],
      "text/plain": [
       "                                      short_question  ... label\n",
       "0  can an antibiotic through an iv give you a ras...  ...   1.0\n",
       "1  can you test positive from having the hep b va...  ...   1.0\n",
       "2  what are the dietary restrictions for celiac d...  ...   1.0\n",
       "3  can i transmit genital warts seventeen years a...  ...  -1.0\n",
       "4                          is all vitamin d the same  ...  -1.0\n",
       "\n",
       "[5 rows x 4 columns]"
      ]
     },
     "execution_count": 10,
     "metadata": {
      "tags": []
     },
     "output_type": "execute_result"
    }
   ],
   "source": [
    "#displaying the train dataset\r\n",
    "train.head(5)"
   ]
  },
  {
   "cell_type": "code",
   "execution_count": null,
   "metadata": {
    "id": "n8pEmCpjopbR"
   },
   "outputs": [],
   "source": [
    "#extracting the short answers and questions from the train data\r\n",
    "questions=train['short_question']\r\n",
    "answers=train['short_answer']\r\n",
    "labels=train['label']"
   ]
  },
  {
   "cell_type": "code",
   "execution_count": null,
   "metadata": {
    "id": "fM_sxjh07Y4m"
   },
   "outputs": [],
   "source": [
    "#https://blog.tensorflow.org/2019/05/transformer-chatbot-tutorial-with-tensorflow-2.html\r\n",
    "#Setting Max_length to be 512 as discussed above\r\n",
    "MAX_LENGTH = 512\r\n",
    "import tensorflow as tf\r\n",
    "\r\n",
    "\r\n",
    "# Tokenize, filter and pad sentences\r\n",
    "def tokenize_and_filter(questions, answers):\r\n",
    "  tokenized_questions, tokenized_answers = [], []\r\n",
    "  \r\n",
    "  for (question, answer) in zip(questions, answers):\r\n",
    "    # generating sequences\r\n",
    "    tokenized_question =  biobert_tokenizer.encode(question)\r\n",
    "    tokenized_answer = biobert_tokenizer.encode(answer)\r\n",
    "    tokenized_questions.append(tokenized_question)\r\n",
    "    tokenized_answers.append(tokenized_answer)\r\n",
    "\r\n",
    "  # padding the sequences\r\n",
    "  tokenized_questions = tf.keras.preprocessing.sequence.pad_sequences(\r\n",
    "      tokenized_questions, maxlen=MAX_LENGTH, padding='post')\r\n",
    "  tokenized_answers = tf.keras.preprocessing.sequence.pad_sequences(\r\n",
    "      tokenized_answers, maxlen=MAX_LENGTH, padding='post')\r\n",
    "  \r\n",
    "  return tokenized_questions, tokenized_answers\r\n",
    "\r\n",
    "#tokenizing and padding the train questions and answers\r\n",
    "questions, answers = tokenize_and_filter(questions, answers)"
   ]
  },
  {
   "cell_type": "code",
   "execution_count": null,
   "metadata": {
    "id": "l96mxgOvsK3d"
   },
   "outputs": [],
   "source": [
    "#preparing the question mask and the answer mask of the train dataset\r\n",
    "train_question_mask=[[1 if token!=0 else 0 for token in question] for question in questions]\r\n",
    "train_answer_mask=[[1 if token!=0 else 0 for token in answer] for answer in answers]"
   ]
  },
  {
   "cell_type": "code",
   "execution_count": null,
   "metadata": {
    "id": "5zNNQ_LCsw7v"
   },
   "outputs": [],
   "source": [
    "#extracting the short answers and questions from the validation data\r\n",
    "val_questions=validation['short_question']\r\n",
    "val_answers=validation['short_answer']\r\n",
    "val_labels=validation['label']"
   ]
  },
  {
   "cell_type": "code",
   "execution_count": null,
   "metadata": {
    "id": "_PTj_QQZwgrw"
   },
   "outputs": [],
   "source": [
    "#tokenizing and padding the validation question and answers\r\n",
    "val_questions, val_answers = tokenize_and_filter(val_questions, val_answers)"
   ]
  },
  {
   "cell_type": "code",
   "execution_count": null,
   "metadata": {
    "id": "oI0ZlSnAmPMX"
   },
   "outputs": [],
   "source": [
    "#https://blog.tensorflow.org/2019/05/transformer-chatbot-tutorial-with-tensorflow-2.html\r\n",
    "#preparing the training  dataset\r\n",
    "import tensorflow as tf\r\n",
    "BATCH_SIZE = 2\r\n",
    "BUFFER_SIZE = 20000\r\n",
    "dataset = tf.data.Dataset.from_tensor_slices((\r\n",
    "    {\r\n",
    "        'question': questions,\r\n",
    "        'answer': answers,\r\n",
    "        'question_mask':train_question_mask,\r\n",
    "        'answer_mask':train_answer_mask\r\n",
    "    },\r\n",
    "    {\r\n",
    "        'label': labels.values\r\n",
    "    },\r\n",
    "))\r\n",
    "\r\n",
    "# dataset = dataset.cache()\r\n",
    "dataset = dataset.shuffle(BUFFER_SIZE)\r\n",
    "dataset = dataset.batch(BATCH_SIZE,drop_remainder=True)\r\n",
    "dataset = dataset.prefetch(tf.data.experimental.AUTOTUNE)"
   ]
  },
  {
   "cell_type": "code",
   "execution_count": null,
   "metadata": {
    "id": "9DeYILgntIPx"
   },
   "outputs": [],
   "source": [
    "#preparing the question and answer mask for the validation data\r\n",
    "val_question_mask=[[1 if token!=0 else 0 for token in question] for question in val_questions]\r\n",
    "val_answer_mask=[[1 if token!=0 else 0 for token in answer] for answer in val_answers]"
   ]
  },
  {
   "cell_type": "code",
   "execution_count": null,
   "metadata": {
    "id": "g0NMmnZZus-J"
   },
   "outputs": [],
   "source": [
    "#https://blog.tensorflow.org/2019/05/transformer-chatbot-tutorial-with-tensorflow-2.html\r\n",
    "#preparing the validation dataset\r\n",
    "import tensorflow as tf\r\n",
    "BATCH_SIZE = 2\r\n",
    "BUFFER_SIZE = 20000\r\n",
    "val_dataset = tf.data.Dataset.from_tensor_slices((\r\n",
    "    {\r\n",
    "        'question': val_questions,\r\n",
    "        'answer': val_answers,\r\n",
    "        'question_mask':val_question_mask,\r\n",
    "        'answer_mask':val_answer_mask\r\n",
    "    },\r\n",
    "    {\r\n",
    "        'label': val_labels.values\r\n",
    "    },\r\n",
    "))\r\n",
    "\r\n",
    "val_dataset = val_dataset.cache()\r\n",
    "val_dataset = val_dataset.shuffle(BUFFER_SIZE)\r\n",
    "val_dataset = val_dataset.batch(BATCH_SIZE,drop_remainder=True)\r\n",
    "val_dataset = val_dataset.prefetch(tf.data.experimental.AUTOTUNE)"
   ]
  },
  {
   "cell_type": "code",
   "execution_count": 3,
   "metadata": {
    "id": "qCYWGqGdIb0z"
   },
   "outputs": [],
   "source": [
    "#creating the ffn layer \r\n",
    "#https://github.com/ash3n/DocProduct/blob/master/docproduct/models.py\r\n",
    "import tensorflow as tf\r\n",
    "from tensorflow.keras import Sequential\r\n",
    "from tensorflow.keras.layers import Input,Dense\r\n",
    "from tensorflow.keras.layers import Flatten\r\n",
    "from tensorflow.keras.layers import Embedding\r\n",
    "from tensorflow.keras.layers import Concatenate,Conv1D,MaxPool1D,Dropout\r\n",
    "class FFN(tf.keras.layers.Layer):\r\n",
    "    def __init__(\r\n",
    "            self,\r\n",
    "            name='FFN',\r\n",
    "            **kwargs):\r\n",
    "        \"\"\"Simple Dense wrapped with various layers\r\n",
    "        \"\"\"\r\n",
    "\r\n",
    "        super(FFN, self).__init__(name=name, **kwargs)\r\n",
    "        self.dropout = 0.2\r\n",
    "        self.ffn_layer = tf.keras.layers.Dense(\r\n",
    "            units=768,\r\n",
    "            activation='relu',\r\n",
    "            kernel_initializer=tf.keras.initializers.glorot_normal(seed=32),name='FC1')\r\n",
    "        \r\n",
    "\r\n",
    "    def call(self, inputs):\r\n",
    "        ffn_embedding = self.ffn_layer(inputs)\r\n",
    "        ffn_embedding = tf.keras.layers.Dropout(\r\n",
    "            self.dropout)(ffn_embedding)\r\n",
    "        ffn_embedding += inputs\r\n",
    "        return ffn_embedding"
   ]
  },
  {
   "cell_type": "code",
   "execution_count": null,
   "metadata": {
    "colab": {
     "base_uri": "https://localhost:8080/"
    },
    "id": "caTvGEWyGM0m",
    "outputId": "4bb2460a-934f-4a70-baac-40eef62085d5"
   },
   "outputs": [
    {
     "name": "stdout",
     "output_type": "stream",
     "text": [
      "Model: \"tf_bert_model\"\n",
      "_________________________________________________________________\n",
      "Layer (type)                 Output Shape              Param #   \n",
      "=================================================================\n",
      "bert (TFBertMainLayer)       multiple                  108310272 \n",
      "=================================================================\n",
      "Total params: 108,310,272\n",
      "Trainable params: 108,310,272\n",
      "Non-trainable params: 0\n",
      "_________________________________________________________________\n"
     ]
    }
   ],
   "source": [
    "#displaying the biobert model summary\r\n",
    "biobert_model.summary()"
   ]
  },
  {
   "cell_type": "code",
   "execution_count": 4,
   "metadata": {
    "id": "JeKjj1Ak2u1U"
   },
   "outputs": [],
   "source": [
    "#creating the medicalbert model\r\n",
    "#https://github.com/ash3n/DocProduct/blob/master/docproduct/models.py\r\n",
    "class MedicalQAModelwithBert(tf.keras.Model):\r\n",
    "    def __init__(\r\n",
    "            self,\r\n",
    "            trainable=False,\r\n",
    "            name=''):\r\n",
    "        super(MedicalQAModelwithBert, self).__init__(name=name)\r\n",
    "\r\n",
    "        self.q_ffn_layer = FFN(name='q_ffn')\r\n",
    "        self.a_ffn_layer = FFN(name='a_ffn')\r\n",
    "        self.biobert_model=biobert_model\r\n",
    "        self.biobert_model.trainable=trainable\r\n",
    "        self.cos=tf.keras.layers.Dot(axes=1,normalize=True)\r\n",
    "\r\n",
    "    def call(self, inputs):\r\n",
    "      question_embeddings=self.biobert_model(input_ids=inputs['question'],attention_mask=inputs['question_mask']).pooler_output\r\n",
    "      answer_embeddings=self.biobert_model(input_ids=inputs['answer'],attention_mask=inputs['answer_mask']).pooler_output\r\n",
    "      q_ffnn=self.q_ffn_layer(question_embeddings)\r\n",
    "      a_ffnn=self.a_ffn_layer(answer_embeddings)\r\n",
    "      output=self.cos([q_ffnn,a_ffnn])\r\n",
    "      return {\"label\":output}"
   ]
  },
  {
   "cell_type": "code",
   "execution_count": null,
   "metadata": {
    "id": "_CNcV-orOJi9"
   },
   "outputs": [],
   "source": [
    "#defining custom callback\r\n",
    "class custom_callback(tf.keras.callbacks.Callback):\r\n",
    "  def on_train_begin(self, logs={}):\r\n",
    "        ## on begin of training, we are creating a instance varible called history\r\n",
    "        ## it is a dict with keys [loss, acc, val_loss, val_acc]\r\n",
    "        self.history={'acc': []}\r\n",
    "\r\n",
    "  def on_epoch_end(self, epoch, logs={}):\r\n",
    "        self.history['acc'].append(logs.get('custom_metric_acc'))\r\n",
    "  \r\n",
    "\r\n",
    "\r\n",
    "        #saving the model if validation accuracy increased from previous epoch\r\n",
    "        if  (epoch==0) or (logs.get('custom_metric_acc')>self.history['acc'][epoch-1]):\r\n",
    "          self.model.save_weights('medical_bert_re'+str(epoch)+'/medic'+str(epoch)+'_'+str(logs.get('custom_metric_acc')))\r\n",
    "\r\n",
    "\r\n",
    "        is_nan_values=[]\r\n",
    "        for i in self.model.get_weights():\r\n",
    "          is_nan_values.append(np.isnan(i).any())\r\n",
    "\r\n",
    "        #stopping the training if weights is nan or loss is nan or inf\r\n",
    "        if (np.array(is_nan_values).any() or (tf.math.is_nan(logs.get('loss'))) or (np.isinf(logs.get('loss')))):\r\n",
    "          self.model.stop_training = True\r\n",
    "\r\n",
    "        \r\n",
    "        \r\n",
    "      \r\n",
    "        \r\n",
    " "
   ]
  },
  {
   "cell_type": "code",
   "execution_count": null,
   "metadata": {
    "id": "YUcl_A1r9p8N"
   },
   "outputs": [],
   "source": [
    "#defining the custom metric\r\n",
    "batch_size=2\r\n",
    "def custom_metric_acc(y_true,y_pred):\r\n",
    "  y_true=tf.reshape(y_true,[tf.constant(batch_size)])\r\n",
    "  y_pred=tf.reshape(y_pred,[tf.constant(batch_size)])\r\n",
    "  c=tf.constant(0,dtype='float32')\r\n",
    "  d=tf.cast(tf.math.greater_equal(y_true,c),dtype='float32')\r\n",
    "  e=tf.cast(tf.math.greater_equal(y_pred,c),dtype='float32')\r\n",
    "  f=tf.cast(tf.math.equal(d,e),dtype='float32')\r\n",
    "  g=tf.reduce_sum(f)\r\n",
    "  h=tf.cast(tf.shape(f),dtype='float32')\r\n",
    "  i=g/h\r\n",
    "  return i"
   ]
  },
  {
   "cell_type": "code",
   "execution_count": null,
   "metadata": {
    "colab": {
     "base_uri": "https://localhost:8080/"
    },
    "id": "DA_Xuyn9lbJ1",
    "outputId": "7a595bac-ff02-45b5-8790-73ebb2846b6c"
   },
   "outputs": [
    {
     "name": "stderr",
     "output_type": "stream",
     "text": [
      "The parameters `output_attentions`, `output_hidden_states` and `use_cache` cannot be updated when calling a model.They have to be set to True/False in the config object (i.e.: `config=XConfig.from_pretrained('name', output_attentions=True)`).\n",
      "The parameter `return_dict` cannot be set in graph mode and will always be set to `True`.\n"
     ]
    },
    {
     "name": "stdout",
     "output_type": "stream",
     "text": [
      "Epoch 1/5\n"
     ]
    },
    {
     "name": "stderr",
     "output_type": "stream",
     "text": [
      "The parameters `output_attentions`, `output_hidden_states` and `use_cache` cannot be updated when calling a model.They have to be set to True/False in the config object (i.e.: `config=XConfig.from_pretrained('name', output_attentions=True)`).\n",
      "The parameter `return_dict` cannot be set in graph mode and will always be set to `True`.\n",
      "The parameters `output_attentions`, `output_hidden_states` and `use_cache` cannot be updated when calling a model.They have to be set to True/False in the config object (i.e.: `config=XConfig.from_pretrained('name', output_attentions=True)`).\n",
      "The parameter `return_dict` cannot be set in graph mode and will always be set to `True`.\n",
      "The parameters `output_attentions`, `output_hidden_states` and `use_cache` cannot be updated when calling a model.They have to be set to True/False in the config object (i.e.: `config=XConfig.from_pretrained('name', output_attentions=True)`).\n",
      "The parameter `return_dict` cannot be set in graph mode and will always be set to `True`.\n"
     ]
    },
    {
     "name": "stdout",
     "output_type": "stream",
     "text": [
      "23801/23801 [==============================] - ETA: 0s - loss: 0.6119 - custom_metric_acc: 0.7737"
     ]
    },
    {
     "name": "stderr",
     "output_type": "stream",
     "text": [
      "The parameters `output_attentions`, `output_hidden_states` and `use_cache` cannot be updated when calling a model.They have to be set to True/False in the config object (i.e.: `config=XConfig.from_pretrained('name', output_attentions=True)`).\n",
      "The parameter `return_dict` cannot be set in graph mode and will always be set to `True`.\n",
      "The parameters `output_attentions`, `output_hidden_states` and `use_cache` cannot be updated when calling a model.They have to be set to True/False in the config object (i.e.: `config=XConfig.from_pretrained('name', output_attentions=True)`).\n",
      "The parameter `return_dict` cannot be set in graph mode and will always be set to `True`.\n"
     ]
    },
    {
     "name": "stdout",
     "output_type": "stream",
     "text": [
      "\b\b\b\b\b\b\b\b\b\b\b\b\b\b\b\b\b\b\b\b\b\b\b\b\b\b\b\b\b\b\b\b\b\b\b\b\b\b\b\b\b\b\b\b\b\b\b\b\b\b\b\b\b\b\b\b\b\b\b\b\b\b\b\b\b\b\b\b\b\b\b\b\b\b\b\b\b\b\b\b\b\b\b\b\b\b\b\b\b\b\b\b\b\b\b\b\b\r",
      "23801/23801 [==============================] - 7862s 327ms/step - loss: 0.6119 - custom_metric_acc: 0.7737 - val_loss: 0.5745 - val_custom_metric_acc: 0.8136\n",
      "Epoch 2/5\n",
      "23801/23801 [==============================] - 7781s 327ms/step - loss: 0.5128 - custom_metric_acc: 0.8611 - val_loss: 0.5595 - val_custom_metric_acc: 0.8380\n",
      "Epoch 3/5\n",
      "23801/23801 [==============================] - 7784s 327ms/step - loss: 0.4518 - custom_metric_acc: 0.9020 - val_loss: 0.5779 - val_custom_metric_acc: 0.8239\n",
      "Epoch 4/5\n",
      "23801/23801 [==============================] - 7785s 327ms/step - loss: 0.4042 - custom_metric_acc: 0.9204 - val_loss: 0.5885 - val_custom_metric_acc: 0.8187\n",
      "Epoch 5/5\n",
      " 3040/23801 [==>...........................] - ETA: 1:44:55 - loss: 0.3494 - custom_metric_acc: 0.9488"
     ]
    }
   ],
   "source": [
    "#compiling and training the medical qa model\r\n",
    "import tensorflow.keras.backend as K\r\n",
    "K.set_floatx('float32')\r\n",
    "learning_rate=5e-6\r\n",
    "num_epochs=5\r\n",
    "optimizer = tf.keras.optimizers.Adam(lr=learning_rate)\r\n",
    "medical_qa_model=MedicalQAModelwithBert(trainable=True)\r\n",
    "medical_qa_model.compile(\r\n",
    "    optimizer=optimizer, loss=tf.keras.losses.mean_squared_error, metrics=[custom_metric_acc])\r\n",
    "\r\n",
    "epochs = num_epochs\r\n",
    "\r\n",
    "medical_qa_model.fit(dataset,validation_data=val_dataset,epochs=epochs,callbacks=[custom_callback()])\r\n",
    "medical_qa_model.summary()"
   ]
  },
  {
   "cell_type": "markdown",
   "metadata": {
    "id": "WW2nRcvXdBxX"
   },
   "source": [
    "**Evaluating the model with the best train accuracy**\r\n",
    "\r\n",
    "\r\n"
   ]
  },
  {
   "cell_type": "code",
   "execution_count": null,
   "metadata": {
    "colab": {
     "base_uri": "https://localhost:8080/",
     "height": 477,
     "referenced_widgets": [
      "40ccced2d1104da78e4a5e91e4232dc5",
      "205a24a23ca245c4a4a16db53601ed75",
      "984438296fee45daa28b574e0abc7bac",
      "b7d5dab680ac4cbc82d904aa7310dcff",
      "0de02399eb8e442aa7718d1d9ca297df",
      "6210bc85d6084baa9339d8c61a9cebb1",
      "141db3029d0543629ef07bbefe72c1c9",
      "e65fde371ad1479c852b00f87345c55f"
     ]
    },
    "id": "v-YKFustkH4_",
    "outputId": "282a8f67-6418-4b7f-8d25-13a4d4c4a99e"
   },
   "outputs": [
    {
     "data": {
      "application/vnd.jupyter.widget-view+json": {
       "model_id": "40ccced2d1104da78e4a5e91e4232dc5",
       "version_major": 2,
       "version_minor": 0
      },
      "text/plain": [
       "HBox(children=(FloatProgress(value=0.0, max=11901.0), HTML(value='')))"
      ]
     },
     "metadata": {
      "tags": []
     },
     "output_type": "display_data"
    },
    {
     "name": "stdout",
     "output_type": "stream",
     "text": [
      "WARNING:tensorflow:AutoGraph could not transform <bound method Socket.send of <zmq.sugar.socket.Socket object at 0x7fd045f0c6c8>> and will run it as-is.\n",
      "Please report this to the TensorFlow team. When filing the bug, set the verbosity to 10 (on Linux, `export AUTOGRAPH_VERBOSITY=10`) and attach the full output.\n",
      "Cause: <cyfunction Socket.send at 0x7fd0733ef2a0> is not a module, class, method, function, traceback, frame, or code object\n",
      "To silence this warning, decorate the function with @tf.autograph.experimental.do_not_convert\n",
      "WARNING: AutoGraph could not transform <bound method Socket.send of <zmq.sugar.socket.Socket object at 0x7fd045f0c6c8>> and will run it as-is.\n",
      "Please report this to the TensorFlow team. When filing the bug, set the verbosity to 10 (on Linux, `export AUTOGRAPH_VERBOSITY=10`) and attach the full output.\n",
      "Cause: <cyfunction Socket.send at 0x7fd0733ef2a0> is not a module, class, method, function, traceback, frame, or code object\n",
      "To silence this warning, decorate the function with @tf.autograph.experimental.do_not_convert\n"
     ]
    },
    {
     "name": "stderr",
     "output_type": "stream",
     "text": [
      "The parameters `output_attentions`, `output_hidden_states` and `use_cache` cannot be updated when calling a model.They have to be set to True/False in the config object (i.e.: `config=XConfig.from_pretrained('name', output_attentions=True)`).\n"
     ]
    },
    {
     "name": "stdout",
     "output_type": "stream",
     "text": [
      "WARNING:tensorflow:AutoGraph could not transform <function wrap at 0x7fd0711c5c80> and will run it as-is.\n",
      "Cause: while/else statement not yet supported\n",
      "To silence this warning, decorate the function with @tf.autograph.experimental.do_not_convert\n"
     ]
    },
    {
     "name": "stderr",
     "output_type": "stream",
     "text": [
      "The parameter `return_dict` cannot be set in graph mode and will always be set to `True`.\n"
     ]
    },
    {
     "name": "stdout",
     "output_type": "stream",
     "text": [
      "WARNING: AutoGraph could not transform <function wrap at 0x7fd0711c5c80> and will run it as-is.\n",
      "Cause: while/else statement not yet supported\n",
      "To silence this warning, decorate the function with @tf.autograph.experimental.do_not_convert\n"
     ]
    },
    {
     "name": "stderr",
     "output_type": "stream",
     "text": [
      "The parameters `output_attentions`, `output_hidden_states` and `use_cache` cannot be updated when calling a model.They have to be set to True/False in the config object (i.e.: `config=XConfig.from_pretrained('name', output_attentions=True)`).\n",
      "The parameter `return_dict` cannot be set in graph mode and will always be set to `True`.\n",
      "The parameters `output_attentions`, `output_hidden_states` and `use_cache` cannot be updated when calling a model.They have to be set to True/False in the config object (i.e.: `config=XConfig.from_pretrained('name', output_attentions=True)`).\n",
      "The parameter `return_dict` cannot be set in graph mode and will always be set to `True`.\n",
      "The parameters `output_attentions`, `output_hidden_states` and `use_cache` cannot be updated when calling a model.They have to be set to True/False in the config object (i.e.: `config=XConfig.from_pretrained('name', output_attentions=True)`).\n",
      "The parameter `return_dict` cannot be set in graph mode and will always be set to `True`.\n"
     ]
    },
    {
     "name": "stdout",
     "output_type": "stream",
     "text": [
      "\n"
     ]
    }
   ],
   "source": [
    "import tensorflow.keras.backend as K\r\n",
    "K.set_floatx('float32')\r\n",
    "medical_qa_model=MedicalQAModelwithBert(trainable=True)\r\n",
    "medical_qa_model.load_weights('./medical_bert_re3/medic3_0.9177975654602051')\r\n",
    "learning_rate=5e-6\r\n",
    "optimizer = tf.keras.optimizers.Adam(lr=learning_rate)\r\n",
    "medical_qa_model.compile(\r\n",
    "    optimizer=optimizer, loss=tf.keras.losses.mean_squared_error, metrics=[custom_metric_acc])\r\n",
    "\r\n",
    "# original_labels=[]\r\n",
    "predicted_labels=[]\r\n",
    "from tqdm.notebook import tqdm\r\n",
    "for i in tqdm(range(len(val_questions))):\r\n",
    "  predicted_labels.append(medical_qa_model.predict({'question':np.array([val_questions[i]]),'question_mask':np.array([val_question_mask[i]]),\r\n",
    "                             'answer':np.array([val_answers[i]]),'answer_mask':np.array([val_answer_mask[i]])})['label'][0][0])\r\n"
   ]
  },
  {
   "cell_type": "code",
   "execution_count": null,
   "metadata": {
    "id": "49QC8iuekx7Y"
   },
   "outputs": [],
   "source": [
    "#defining function to return accuracy, correctly predicted positive points and correctly predicted negative points\r\n",
    "def acc_threshold(predicted_labels,threshold):\r\n",
    "  correct_pred_pos=[]\r\n",
    "  correct_pred_neg=[]\r\n",
    "  for i in range(len(predicted_labels)):\r\n",
    "    if predicted_labels[i]<threshold and val_labels[i]==-1:\r\n",
    "      correct_pred_neg.append(predicted_labels[i])\r\n",
    "    elif predicted_labels[i]>=threshold and val_labels[i]==1:\r\n",
    "      correct_pred_pos.append(predicted_labels[i])\r\n",
    "  acc=len(correct_pred_pos+correct_pred_neg)/len(predicted_labels)\r\n",
    "  print('accuracy for threshold',threshold,'is',acc)\r\n",
    "  return (acc,correct_pred_pos,correct_pred_neg)\r\n",
    "\r\n"
   ]
  },
  {
   "cell_type": "code",
   "execution_count": null,
   "metadata": {
    "id": "kYLCHYb4kIH2"
   },
   "outputs": [],
   "source": [
    "#function to print the best accuracy and the threshold at which it is occuring\r\n",
    "def best_threshold_acc(predicted_labels):\r\n",
    "  acc=[]\r\n",
    "  thresholds=np.array(range(-10,11,1))*0.1\r\n",
    "  for i in tqdm(range(-10,11,1)):\r\n",
    "    acc.append(acc_threshold(predicted_labels,i*0.1)[0])\r\n",
    "  print('best accuracy is',max(acc),'at threshold',thresholds[np.argmax(acc)])"
   ]
  },
  {
   "cell_type": "code",
   "execution_count": null,
   "metadata": {
    "colab": {
     "base_uri": "https://localhost:8080/",
     "height": 457,
     "referenced_widgets": [
      "31b3a6a8b7ab4525b7392494e1933b3e",
      "3253c1e783bc4c6da0e9f5821746e615",
      "f7eec0f9542d4ac5a3af3f739c1c359d",
      "ad0606d7e2f349b4bd16dbde65344049",
      "160bed6da476408bacfa7518eb551e60",
      "e848b844fe2e425d82165bad05889d46",
      "a6c428e2ebe54f32b7e87c6211011562",
      "39267dff22c5487d9608114796b3f89a"
     ]
    },
    "id": "Nkitrg69iDti",
    "outputId": "bf5468fc-fa85-49bd-c86d-93fb3802c90f"
   },
   "outputs": [
    {
     "data": {
      "application/vnd.jupyter.widget-view+json": {
       "model_id": "31b3a6a8b7ab4525b7392494e1933b3e",
       "version_major": 2,
       "version_minor": 0
      },
      "text/plain": [
       "HBox(children=(FloatProgress(value=0.0, max=21.0), HTML(value='')))"
      ]
     },
     "metadata": {
      "tags": []
     },
     "output_type": "display_data"
    },
    {
     "name": "stdout",
     "output_type": "stream",
     "text": [
      "accuracy for threshold -1.0 is 0.4999579867238047\n",
      "accuracy for threshold -0.9 is 0.4999579867238047\n",
      "accuracy for threshold -0.8 is 0.5001260398285858\n",
      "accuracy for threshold -0.7000000000000001 is 0.5029829426098648\n",
      "accuracy for threshold -0.6000000000000001 is 0.514074447525418\n",
      "accuracy for threshold -0.5 is 0.542979581547769\n",
      "accuracy for threshold -0.4 is 0.5984371061255357\n",
      "accuracy for threshold -0.30000000000000004 is 0.65960843626586\n",
      "accuracy for threshold -0.2 is 0.7234686160826821\n",
      "accuracy for threshold -0.1 is 0.7790101672128392\n",
      "accuracy for threshold 0.0 is 0.8185866733887909\n",
      "accuracy for threshold 0.1 is 0.845391143601378\n",
      "accuracy for threshold 0.2 is 0.8606839761364591\n",
      "accuracy for threshold 0.30000000000000004 is 0.8583312326695236\n",
      "accuracy for threshold 0.4 is 0.8383329132005714\n",
      "accuracy for threshold 0.5 is 0.8011931770439459\n",
      "accuracy for threshold 0.6000000000000001 is 0.7006974203848416\n",
      "accuracy for threshold 0.7000000000000001 is 0.5449962188051424\n",
      "accuracy for threshold 0.8 is 0.5055037391815814\n",
      "accuracy for threshold 0.9 is 0.5002100663809764\n",
      "accuracy for threshold 1.0 is 0.5000420132761952\n",
      "\n",
      "best accuracy is 0.8606839761364591 at threshold 0.2\n"
     ]
    }
   ],
   "source": [
    "#find best threshold and accuracy of the model with best train accuracy on validation data\r\n",
    "best_threshold_acc(predicted_labels)"
   ]
  },
  {
   "cell_type": "code",
   "execution_count": null,
   "metadata": {
    "colab": {
     "base_uri": "https://localhost:8080/",
     "height": 391
    },
    "id": "sGkNcnlOkIUx",
    "outputId": "cc54c218-2de9-4ee2-8a74-0a170335fe59"
   },
   "outputs": [
    {
     "name": "stdout",
     "output_type": "stream",
     "text": [
      "accuracy for threshold 0.2 is 0.8606839761364591\n"
     ]
    },
    {
     "name": "stderr",
     "output_type": "stream",
     "text": [
      "/usr/local/lib/python3.6/dist-packages/seaborn/distributions.py:2557: FutureWarning: `distplot` is a deprecated function and will be removed in a future version. Please adapt your code to use either `displot` (a figure-level function with similar flexibility) or `histplot` (an axes-level function for histograms).\n",
      "  warnings.warn(msg, FutureWarning)\n",
      "/usr/local/lib/python3.6/dist-packages/seaborn/distributions.py:2557: FutureWarning: `distplot` is a deprecated function and will be removed in a future version. Please adapt your code to use either `displot` (a figure-level function with similar flexibility) or `histplot` (an axes-level function for histograms).\n",
      "  warnings.warn(msg, FutureWarning)\n"
     ]
    },
    {
     "data": {
      "text/plain": [
       "<matplotlib.axes._subplots.AxesSubplot at 0x7fcf2613c240>"
      ]
     },
     "execution_count": 41,
     "metadata": {
      "tags": []
     },
     "output_type": "execute_result"
    },
    {
     "data": {
      "image/png": "[encoded data removed]",
      "text/plain": [
       "<Figure size 432x288 with 1 Axes>"
      ]
     },
     "metadata": {
      "needs_background": "light",
      "tags": []
     },
     "output_type": "display_data"
    }
   ],
   "source": [
    "#displaying the pdf of correctly predicted positive and negative points\r\n",
    "import seaborn as sns\r\n",
    "_,correct_pred_pos,correct_pred_neg=acc_threshold(predicted_labels,0.2)\r\n",
    "sns.distplot(correct_pred_pos)\r\n",
    "sns.distplot(correct_pred_neg)"
   ]
  },
  {
   "cell_type": "markdown",
   "metadata": {
    "id": "msmnYhSYkC2F"
   },
   "source": [
    "**Evaluating the model with best validation accuracy**\r\n"
   ]
  },
  {
   "cell_type": "code",
   "execution_count": null,
   "metadata": {
    "colab": {
     "base_uri": "https://localhost:8080/",
     "height": 487,
     "referenced_widgets": [
      "2d14290d720e42c8aaecd6818cf91519",
      "ad3e132e70564efbbe5a5be556ade78e",
      "8a41533e8b4c47429025e96f9d32b078",
      "1f483af7e04748a7965525b2178ed6c8",
      "c55f630fecc54445ab322cefee3eb2aa",
      "f7c3e2ab88e44868ad25308310e571bb",
      "61a16ccb23b341d3a2b1296d2709154d",
      "1d565fd2fe9b4f338dcaa5d1794f7cde"
     ]
    },
    "id": "dNOTW1qCh3mI",
    "outputId": "7a14bed1-9893-4492-c1ab-29719b75be7e"
   },
   "outputs": [
    {
     "data": {
      "application/vnd.jupyter.widget-view+json": {
       "model_id": "2d14290d720e42c8aaecd6818cf91519",
       "version_major": 2,
       "version_minor": 0
      },
      "text/plain": [
       "HBox(children=(FloatProgress(value=0.0, max=11901.0), HTML(value='')))"
      ]
     },
     "metadata": {
      "tags": []
     },
     "output_type": "display_data"
    },
    {
     "name": "stdout",
     "output_type": "stream",
     "text": [
      "WARNING:tensorflow:The parameters `output_attentions`, `output_hidden_states` and `use_cache` cannot be updated when calling a model.They have to be set to True/False in the config object (i.e.: `config=XConfig.from_pretrained('name', output_attentions=True)`).WARNING:tensorflow:AutoGraph could not transform <bound method Socket.send of <zmq.sugar.socket.Socket object at 0x7f518dd656c8>> and will run it as-is.\n",
      "Please report this to the TensorFlow team. When filing the bug, set the verbosity to 10 (on Linux, `export AUTOGRAPH_VERBOSITY=10`) and attach the full output.\n",
      "Cause: <cyfunction Socket.send at 0x7f51bb2c42a0> is not a module, class, method, function, traceback, frame, or code object\n",
      "To silence this warning, decorate the function with @tf.autograph.experimental.do_not_convert\n",
      "WARNING: AutoGraph could not transform <bound method Socket.send of <zmq.sugar.socket.Socket object at 0x7f518dd656c8>> and will run it as-is.\n",
      "Please report this to the TensorFlow team. When filing the bug, set the verbosity to 10 (on Linux, `export AUTOGRAPH_VERBOSITY=10`) and attach the full output.\n",
      "Cause: <cyfunction Socket.send at 0x7f51bb2c42a0> is not a module, class, method, function, traceback, frame, or code object\n",
      "To silence this warning, decorate the function with @tf.autograph.experimental.do_not_convert\n",
      "\n",
      "WARNING:tensorflow:AutoGraph could not transform <function wrap at 0x7f51b909dc80> and will run it as-is.\n",
      "Cause: while/else statement not yet supported\n",
      "To silence this warning, decorate the function with @tf.autograph.experimental.do_not_convert\n",
      "WARNING: AutoGraph could not transform <function wrap at 0x7f51b909dc80> and will run it as-is.\n",
      "Cause: while/else statement not yet supported\n",
      "To silence this warning, decorate the function with @tf.autograph.experimental.do_not_convert\n",
      "WARNING:tensorflow:The parameter `return_dict` cannot be set in graph mode and will always be set to `True`.\n",
      "WARNING:tensorflow:The parameters `output_attentions`, `output_hidden_states` and `use_cache` cannot be updated when calling a model.They have to be set to True/False in the config object (i.e.: `config=XConfig.from_pretrained('name', output_attentions=True)`).\n",
      "WARNING:tensorflow:The parameter `return_dict` cannot be set in graph mode and will always be set to `True`.\n",
      "WARNING:tensorflow:The parameters `output_attentions`, `output_hidden_states` and `use_cache` cannot be updated when calling a model.They have to be set to True/False in the config object (i.e.: `config=XConfig.from_pretrained('name', output_attentions=True)`).\n",
      "WARNING:tensorflow:The parameter `return_dict` cannot be set in graph mode and will always be set to `True`.\n",
      "WARNING:tensorflow:The parameters `output_attentions`, `output_hidden_states` and `use_cache` cannot be updated when calling a model.They have to be set to True/False in the config object (i.e.: `config=XConfig.from_pretrained('name', output_attentions=True)`).\n",
      "WARNING:tensorflow:The parameter `return_dict` cannot be set in graph mode and will always be set to `True`.\n",
      "\n"
     ]
    }
   ],
   "source": [
    "#evaluating the model on validation data\r\n",
    "import warnings\r\n",
    "warnings.filterwarnings('ignore')\r\n",
    "import tensorflow.keras.backend as K\r\n",
    "import tensorflow as tf\r\n",
    "import numpy as np\r\n",
    "K.set_floatx('float32')\r\n",
    "medical_qa_model=MedicalQAModelwithBert(trainable=False)\r\n",
    "medical_qa_model.load_weights('./medical_bert_re1/medic1_0.8643124103546143')\r\n",
    "learning_rate=5e-6\r\n",
    "optimizer = tf.keras.optimizers.Adam(lr=learning_rate)\r\n",
    "predicted_labels=[]\r\n",
    "from tqdm.notebook import tqdm\r\n",
    "for i in tqdm(range(len(val_questions))):\r\n",
    "  predicted_labels.append(medical_qa_model.predict({'question':np.array([val_questions[i]]),'question_mask':np.array([val_question_mask[i]]),\r\n",
    "                             'answer':np.array([val_answers[i]]),'answer_mask':np.array([val_answer_mask[i]])})['label'][0][0])\r\n"
   ]
  },
  {
   "cell_type": "code",
   "execution_count": null,
   "metadata": {
    "colab": {
     "base_uri": "https://localhost:8080/",
     "height": 467,
     "referenced_widgets": [
      "eae8ad25aa964a8f97b79b795108a547",
      "818971a2ecd04d799af0c144e4039976",
      "2b66013577604f149b066acf8bedb48b",
      "d0fb647866b841bbb3eaf4dd049276be",
      "b9728fc3f2f646fd9f48f1b9a40dd5ed",
      "a53896887dcd4593b165bf6ecd764e3b",
      "61478d924bea42f1ab04b3d7972d5dc5",
      "4fb6b7d5a58f44d2badbb3956bdddc6b"
     ]
    },
    "id": "LIgqQUAEkSL-",
    "outputId": "cb28f816-00db-4f73-c99f-06b4368a458b"
   },
   "outputs": [
    {
     "data": {
      "application/vnd.jupyter.widget-view+json": {
       "model_id": "eae8ad25aa964a8f97b79b795108a547",
       "version_major": 2,
       "version_minor": 0
      },
      "text/plain": [
       "HBox(children=(FloatProgress(value=0.0, max=21.0), HTML(value='')))"
      ]
     },
     "metadata": {
      "tags": []
     },
     "output_type": "display_data"
    },
    {
     "name": "stdout",
     "output_type": "stream",
     "text": [
      "accuracy for threshold -1.0 is 0.4999579867238047\n",
      "accuracy for threshold -0.9 is 0.4999579867238047\n",
      "accuracy for threshold -0.8 is 0.4999579867238047\n",
      "accuracy for threshold -0.7000000000000001 is 0.5008822788001008\n",
      "accuracy for threshold -0.6000000000000001 is 0.5060919250483152\n",
      "accuracy for threshold -0.5 is 0.5318040500798252\n",
      "accuracy for threshold -0.4 is 0.5820519284093774\n",
      "accuracy for threshold -0.30000000000000004 is 0.6506175951600706\n",
      "accuracy for threshold -0.2 is 0.7279220233593816\n",
      "accuracy for threshold -0.1 is 0.7923703890429376\n",
      "accuracy for threshold 0.0 is 0.8386690194101336\n",
      "accuracy for threshold 0.1 is 0.8675741534324847\n",
      "accuracy for threshold 0.2 is 0.8825308797580035\n",
      "accuracy for threshold 0.30000000000000004 is 0.8852197294345013\n",
      "accuracy for threshold 0.4 is 0.8705150827661541\n",
      "accuracy for threshold 0.5 is 0.8350558776573397\n",
      "accuracy for threshold 0.6000000000000001 is 0.7401899000084027\n",
      "accuracy for threshold 0.7000000000000001 is 0.5780186538946307\n",
      "accuracy for threshold 0.8 is 0.5128140492395598\n",
      "accuracy for threshold 0.9 is 0.5008822788001008\n",
      "accuracy for threshold 1.0 is 0.5000420132761952\n",
      "\n",
      "best accuracy is 0.8852197294345013 at threshold 0.30000000000000004\n"
     ]
    }
   ],
   "source": [
    "#finding the best accuracy and the corresponding threshold of the model of best validation accuracy\r\n",
    "best_threshold_acc(predicted_labels)"
   ]
  },
  {
   "cell_type": "code",
   "execution_count": null,
   "metadata": {
    "colab": {
     "base_uri": "https://localhost:8080/",
     "height": 67,
     "referenced_widgets": [
      "5a6b9cc26a724984a1b16abfcbf8c59d",
      "25ddb71dc0794b6cab615cc10daf442e",
      "ee85b9a2c64046919377d73a1f469ec0",
      "02e1861c98384716bc0795649a2f649a",
      "4692fe517c1447a48a3fe0514ddc9fcc",
      "145af85a98ee4306aee72d203773eda8",
      "95a3667c7c6e4a30968bf38bc11ec102",
      "0e54cee073ff489d93abf5d0a87fc97e"
     ]
    },
    "id": "PZlF3UKNpwWX",
    "outputId": "8650d040-4ffa-4164-f2e0-14278eefda97"
   },
   "outputs": [
    {
     "data": {
      "application/vnd.jupyter.widget-view+json": {
       "model_id": "5a6b9cc26a724984a1b16abfcbf8c59d",
       "version_major": 2,
       "version_minor": 0
      },
      "text/plain": [
       "HBox(children=(FloatProgress(value=0.0, max=47603.0), HTML(value='')))"
      ]
     },
     "metadata": {
      "tags": []
     },
     "output_type": "display_data"
    },
    {
     "name": "stdout",
     "output_type": "stream",
     "text": [
      "\n"
     ]
    }
   ],
   "source": [
    "train_predicted_labels=[]\r\n",
    "for i in tqdm(range(len(questions))):\r\n",
    "  train_predicted_labels.append(medical_qa_model.predict({'question':np.array([questions[i]]),'question_mask':np.array([train_question_mask[i]]),\r\n",
    "                             'answer':np.array([answers[i]]),'answer_mask':np.array([train_answer_mask[i]])})['label'][0][0])\r\n"
   ]
  },
  {
   "cell_type": "code",
   "execution_count": null,
   "metadata": {
    "id": "h4fCUI5F7__P"
   },
   "outputs": [],
   "source": [
    "#defining function to return accuracy, correctly predicted positive points and correctly predicted negative points for train data\r\n",
    "def train_acc_threshold(predicted_labels,threshold):\r\n",
    "  correct_pred_pos=[]\r\n",
    "  correct_pred_neg=[]\r\n",
    "  for i in range(len(predicted_labels)):\r\n",
    "    if predicted_labels[i]<threshold and labels[i]==-1:\r\n",
    "      correct_pred_neg.append(predicted_labels[i])\r\n",
    "    elif predicted_labels[i]>=threshold and labels[i]==1:\r\n",
    "      correct_pred_pos.append(predicted_labels[i])\r\n",
    "  acc=len(correct_pred_pos+correct_pred_neg)/len(predicted_labels)\r\n",
    "  print('accuracy for threshold',threshold,'is',acc)\r\n",
    "  return (acc,correct_pred_pos,correct_pred_neg)\r\n",
    "\r\n"
   ]
  },
  {
   "cell_type": "code",
   "execution_count": null,
   "metadata": {
    "id": "JreAfqxz8XaS"
   },
   "outputs": [],
   "source": [
    "#function to print the best accuracy and the threshold at which it is occuring for train points\r\n",
    "def train_best_threshold_acc(predicted_labels):\r\n",
    "  acc=[]\r\n",
    "  thresholds=np.array(range(-10,11,1))*0.1\r\n",
    "  for i in tqdm(range(-10,11,1)):\r\n",
    "    acc.append(train_acc_threshold(predicted_labels,i*0.1)[0])\r\n",
    "  print('best accuracy is',max(acc),'at threshold',thresholds[np.argmax(acc)])"
   ]
  },
  {
   "cell_type": "code",
   "execution_count": null,
   "metadata": {
    "colab": {
     "base_uri": "https://localhost:8080/",
     "height": 467,
     "referenced_widgets": [
      "b482dd927b224608a4cd3c2ddabba701",
      "7125ae161cae4dc88adb76fb3aa468b9",
      "a7286a62b1c2475a8cc4370cea435b6f",
      "7c44d6f31a214b01b2dac18ae9f1ad29",
      "bb0e54c5180a456ab402a5b19149df13",
      "7d2866fa4cbc4bd18ae5fce2958c6748",
      "74e3f25499cd4213bf341ceedfdc02b4",
      "4c5b2ab3729a42d8a0c2bc00cecfa13d"
     ]
    },
    "id": "pVaiokPU8co1",
    "outputId": "459cb3f6-df0f-4be8-8247-1d7b6bb0d33f"
   },
   "outputs": [
    {
     "data": {
      "application/vnd.jupyter.widget-view+json": {
       "model_id": "b482dd927b224608a4cd3c2ddabba701",
       "version_major": 2,
       "version_minor": 0
      },
      "text/plain": [
       "HBox(children=(FloatProgress(value=0.0, max=21.0), HTML(value='')))"
      ]
     },
     "metadata": {
      "tags": []
     },
     "output_type": "display_data"
    },
    {
     "name": "stdout",
     "output_type": "stream",
     "text": [
      "accuracy for threshold -1.0 is 0.5000105035396929\n",
      "accuracy for threshold -0.9 is 0.5000105035396929\n",
      "accuracy for threshold -0.8 is 0.5000735247778502\n",
      "accuracy for threshold -0.7000000000000001 is 0.5016490557317816\n",
      "accuracy for threshold -0.6000000000000001 is 0.5125307228536017\n",
      "accuracy for threshold -0.5 is 0.5525912232422326\n",
      "accuracy for threshold -0.4 is 0.6247085267735227\n",
      "accuracy for threshold -0.30000000000000004 is 0.7173497468646934\n",
      "accuracy for threshold -0.2 is 0.807281053715102\n",
      "accuracy for threshold -0.1 is 0.8768354935613302\n",
      "accuracy for threshold 0.0 is 0.9200260487784383\n",
      "accuracy for threshold 0.1 is 0.9439741192781967\n",
      "accuracy for threshold 0.2 is 0.9555910341785182\n",
      "accuracy for threshold 0.30000000000000004 is 0.9585950465306808\n",
      "accuracy for threshold 0.4 is 0.9496460307123501\n",
      "accuracy for threshold 0.5 is 0.917505199252148\n",
      "accuracy for threshold 0.6000000000000001 is 0.8139823120391572\n",
      "accuracy for threshold 0.7000000000000001 is 0.6129235552381153\n",
      "accuracy for threshold 0.8 is 0.5143793458395479\n",
      "accuracy for threshold 0.9 is 0.5006827300800369\n",
      "accuracy for threshold 1.0 is 0.4999894964603071\n",
      "\n",
      "best accuracy is 0.9585950465306808 at threshold 0.30000000000000004\n"
     ]
    }
   ],
   "source": [
    "train_best_threshold_acc(train_predicted_labels)"
   ]
  },
  {
   "cell_type": "code",
   "execution_count": null,
   "metadata": {
    "colab": {
     "base_uri": "https://localhost:8080/",
     "height": 299
    },
    "id": "XukcnuAYlSxS",
    "outputId": "76bad5b2-c29b-4b85-b3d1-c5ce4b689b6d"
   },
   "outputs": [
    {
     "name": "stdout",
     "output_type": "stream",
     "text": [
      "accuracy for threshold 0.3 is 0.8852197294345013\n"
     ]
    },
    {
     "data": {
      "image/png": "[encoded data removed]",
      "text/plain": [
       "<Figure size 432x288 with 1 Axes>"
      ]
     },
     "metadata": {
      "needs_background": "light",
      "tags": []
     },
     "output_type": "display_data"
    }
   ],
   "source": [
    "#plotting the pdf of correctly predicted positive and negative points\r\n",
    "import matplotlib.pyplot as plt\r\n",
    "import seaborn as sns\r\n",
    "_,correct_pred_pos,correct_pred_neg=acc_threshold(predicted_labels,0.3)\r\n",
    "sns.distplot(correct_pred_pos,label='positive')\r\n",
    "sns.distplot(correct_pred_neg,label='negative')\r\n",
    "plt.title('Correctly predicted points')\r\n",
    "plt.legend()\r\n",
    "plt.show()\r\n"
   ]
  },
  {
   "cell_type": "code",
   "execution_count": null,
   "metadata": {
    "id": "ryZAn-B7Wuze"
   },
   "outputs": [],
   "source": [
    "#finding incorrectly predicted positive and negative points\r\n",
    "incorrect_pos=[]\r\n",
    "incorrect_neg=[]\r\n",
    "for i in range(len(val_labels)):\r\n",
    "  if val_labels[i]==1 and predicted_labels[i]<0.3:\r\n",
    "    incorrect_pos.append(predicted_labels[i])\r\n",
    "  elif val_labels[i]==-1 and predicted_labels[i]>=0.3:\r\n",
    "    incorrect_neg.append(predicted_labels[i])"
   ]
  },
  {
   "cell_type": "code",
   "execution_count": null,
   "metadata": {
    "colab": {
     "base_uri": "https://localhost:8080/",
     "height": 281
    },
    "id": "odx1gXJskxr-",
    "outputId": "87e3445c-9fdb-4c4a-e87d-39fb636945fc"
   },
   "outputs": [
    {
     "data": {
      "image/png": "[encoded data removed]",
      "text/plain": [
       "<Figure size 432x288 with 1 Axes>"
      ]
     },
     "metadata": {
      "needs_background": "light",
      "tags": []
     },
     "output_type": "display_data"
    }
   ],
   "source": [
    "#plotting the pdf of model predicted similarities for incorrectly predicted positive and negative points\r\n",
    "sns.distplot(incorrect_pos,label='positive')\r\n",
    "sns.distplot(incorrect_neg,label='negative')\r\n",
    "plt.title('Incorrectly predicted points')\r\n",
    "plt.legend()\r\n",
    "plt.show()"
   ]
  },
  {
   "cell_type": "markdown",
   "metadata": {
    "id": "2JJcXVU_okR5"
   },
   "source": [
    "**Observation from Plots**"
   ]
  },
  {
   "cell_type": "markdown",
   "metadata": {
    "id": "VQPLV9aqos25"
   },
   "source": [
    "From the above plots we can observe that most of the correctly classified points are well seperated and  even though accuracy is about 89% on validation data, most of the misclassified points lie within the threshold of 0.3"
   ]
  },
  {
   "cell_type": "markdown",
   "metadata": {
    "id": "uRku9icXpWHN"
   },
   "source": [
    "Since we got the best train and validation accuracy using this model, we will use this model to extract the question and answer embeddings"
   ]
  },
  {
   "cell_type": "markdown",
   "metadata": {
    "id": "OKxnWK3Go-O-"
   },
   "source": [
    "**Embedding extraction using the model**"
   ]
  },
  {
   "cell_type": "code",
   "execution_count": 9,
   "metadata": {
    "colab": {
     "base_uri": "https://localhost:8080/"
    },
    "id": "qqUvzH-bzqlT",
    "outputId": "b894cb7d-fb21-48e9-8ba7-97772db176be"
   },
   "outputs": [
    {
     "data": {
      "text/plain": [
       "<tensorflow.python.training.tracking.util.CheckpointLoadStatus at 0x7f9b60464c18>"
      ]
     },
     "execution_count": 9,
     "metadata": {
      "tags": []
     },
     "output_type": "execute_result"
    }
   ],
   "source": [
    "#loading the trained medical bert model from above checkpoint\r\n",
    "medical_qa_model=MedicalQAModelwithBert(trainable=True)\r\n",
    "medical_qa_model.load_weights('./medical_bert_re1/medic1_0.8643124103546143')"
   ]
  },
  {
   "cell_type": "code",
   "execution_count": 12,
   "metadata": {
    "id": "nIYYGdjw0NqD"
   },
   "outputs": [],
   "source": [
    "#defining the question extractor model\r\n",
    "x1=tf.keras.layers.Input((512),name='question',dtype='int64')\r\n",
    "x2=tf.keras.layers.Input((512),name='question_mask',dtype='int64')\r\n",
    "q_embed=medical_qa_model.get_layer('q_ffn')(medical_qa_model.get_layer('tf_bert_model').bert(input_ids=x1,attention_mask=x2,).pooler_output)\r\n",
    "question_extractor_model=tf.keras.Model(inputs=[x1,x2],outputs=q_embed)"
   ]
  },
  {
   "cell_type": "code",
   "execution_count": null,
   "metadata": {
    "id": "-cISX7x80etT"
   },
   "outputs": [],
   "source": [
    "#saving the question extractor model to disk\r\n",
    "question_extractor_model.save('question_extractor_model_2_11')"
   ]
  },
  {
   "cell_type": "code",
   "execution_count": 13,
   "metadata": {
    "colab": {
     "base_uri": "https://localhost:8080/"
    },
    "id": "_T3yGx4e0N71",
    "outputId": "d08c6ebd-1703-4442-f448-fdd7fcfc32b9"
   },
   "outputs": [
    {
     "name": "stdout",
     "output_type": "stream",
     "text": [
      "WARNING:tensorflow:No training configuration found in save file, so the model was *not* compiled. Compile it manually.\n"
     ]
    }
   ],
   "source": [
    "#loading the question extractor model from disk\r\n",
    "question_extractor_model=tf.keras.models.load_model('question_extractor_model_2_11')"
   ]
  },
  {
   "cell_type": "code",
   "execution_count": 14,
   "metadata": {
    "id": "yII4QuEMzC_T"
   },
   "outputs": [],
   "source": [
    "#function to extract embeddings given a question and a question mask\r\n",
    "def question_extractor(sam_dict):\r\n",
    "  q_embed=question_extractor_model({'question':sam_dict['question'],'question_mask':sam_dict['question_mask']})\r\n",
    "  return q_embed\r\n",
    "  "
   ]
  },
  {
   "cell_type": "code",
   "execution_count": 17,
   "metadata": {
    "id": "-VepMKndTqBj"
   },
   "outputs": [],
   "source": [
    "#defining function to extract question embeddings given question\r\n",
    "def extract_question_embed(question):\r\n",
    "  max_length=512\r\n",
    "  tokenized_questions=[]\r\n",
    "  tokenized_question =  biobert_tokenizer.encode(question)\r\n",
    "  tokenized_questions.append(tokenized_question)\r\n",
    "\r\n",
    "  # padding the sequences\r\n",
    "  tokenized_questions = tf.keras.preprocessing.sequence.pad_sequences(\r\n",
    "      tokenized_questions, maxlen=max_length, padding='post')\r\n",
    "  attention_mask=[[1 if token>0 else 0 for token in q] for q in tokenized_questions]\r\n",
    "  return question_extractor({'question':np.array(tokenized_questions),'question_mask':np.array(attention_mask)})"
   ]
  },
  {
   "cell_type": "code",
   "execution_count": 20,
   "metadata": {
    "id": "PY_kWpsi2Z0e"
   },
   "outputs": [],
   "source": [
    "#defining the answer extractor model\r\n",
    "x1=tf.keras.layers.Input((512),name='answer',dtype='int64')\r\n",
    "x2=tf.keras.layers.Input((512),name='answer_mask',dtype='int64')\r\n",
    "a_embed=medical_qa_model.get_layer('a_ffn')(medical_qa_model.get_layer('tf_bert_model').bert(input_ids=x1,attention_mask=x2,).pooler_output)\r\n",
    "answer_extractor_model=tf.keras.Model(inputs=[x1,x2],outputs=a_embed)"
   ]
  },
  {
   "cell_type": "code",
   "execution_count": 22,
   "metadata": {
    "colab": {
     "base_uri": "https://localhost:8080/"
    },
    "id": "PQojZvQt2klZ",
    "outputId": "d08b6b5a-5a1b-47d6-e311-4c5429c5705f"
   },
   "outputs": [
    {
     "name": "stderr",
     "output_type": "stream",
     "text": [
      "WARNING:absl:Found untraced functions such as embeddings_layer_call_and_return_conditional_losses, embeddings_layer_call_fn, encoder_layer_call_and_return_conditional_losses, encoder_layer_call_fn, pooler_layer_call_and_return_conditional_losses while saving (showing 5 of 1075). These functions will not be directly callable after loading.\n",
      "WARNING:absl:Found untraced functions such as embeddings_layer_call_and_return_conditional_losses, embeddings_layer_call_fn, encoder_layer_call_and_return_conditional_losses, encoder_layer_call_fn, pooler_layer_call_and_return_conditional_losses while saving (showing 5 of 1075). These functions will not be directly callable after loading.\n"
     ]
    },
    {
     "name": "stdout",
     "output_type": "stream",
     "text": [
      "INFO:tensorflow:Assets written to: answer_extractor_model_2_13/assets\n"
     ]
    },
    {
     "name": "stderr",
     "output_type": "stream",
     "text": [
      "INFO:tensorflow:Assets written to: answer_extractor_model_2_13/assets\n"
     ]
    }
   ],
   "source": [
    "#saving the answer extractor model to disk\r\n",
    "answer_extractor_model.save('answer_extractor_model_2_13')"
   ]
  },
  {
   "cell_type": "code",
   "execution_count": 23,
   "metadata": {
    "colab": {
     "base_uri": "https://localhost:8080/"
    },
    "id": "s2p2U2Xm2soN",
    "outputId": "020e574c-085c-4a25-f87e-f5d69e292fad"
   },
   "outputs": [
    {
     "name": "stdout",
     "output_type": "stream",
     "text": [
      "WARNING:tensorflow:No training configuration found in save file, so the model was *not* compiled. Compile it manually.\n"
     ]
    },
    {
     "name": "stderr",
     "output_type": "stream",
     "text": [
      "WARNING:tensorflow:No training configuration found in save file, so the model was *not* compiled. Compile it manually.\n"
     ]
    }
   ],
   "source": [
    "#loading the answer extractor model from disk\r\n",
    "answer_extractor_model=tf.keras.models.load_model('answer_extractor_model_2_13')"
   ]
  },
  {
   "cell_type": "code",
   "execution_count": 24,
   "metadata": {
    "id": "wwPm-kMX2s5K"
   },
   "outputs": [],
   "source": [
    "#function to extract embeddings given an answer and an answer mask\r\n",
    "def answer_extractor(sam_dict):\r\n",
    "  a_embed=answer_extractor_model({'answer':sam_dict['answer'],'answer_mask':sam_dict['answer_mask']})\r\n",
    "  return a_embed\r\n",
    "  "
   ]
  },
  {
   "cell_type": "code",
   "execution_count": 27,
   "metadata": {
    "id": "n3tM8Ae0n45h"
   },
   "outputs": [],
   "source": [
    "#defining function to extract answer embeddings\r\n",
    "def extract_answer_embed(answer):\r\n",
    "  max_length=512\r\n",
    "  tokenized_answers=[]\r\n",
    "  tokenized_answer =  biobert_tokenizer.encode(answer)\r\n",
    "  tokenized_answers.append(tokenized_answer)\r\n",
    "\r\n",
    "  # padding the sequences\r\n",
    "  tokenized_answers = tf.keras.preprocessing.sequence.pad_sequences(\r\n",
    "      tokenized_answers, maxlen=max_length, padding='post')\r\n",
    "  attention_mask=[[1 if token>0 else 0 for token in q] for q in tokenized_answers]\r\n",
    "  return answer_extractor({'answer':np.array(tokenized_answers),'answer_mask':np.array(attention_mask)})"
   ]
  },
  {
   "cell_type": "code",
   "execution_count": null,
   "metadata": {
    "colab": {
     "base_uri": "https://localhost:8080/"
    },
    "id": "rOE9tabpZ5yH",
    "outputId": "71d2675a-8934-4597-cc59-9f83a540e7c1"
   },
   "outputs": [
    {
     "data": {
      "text/plain": [
       "(23802, 4)"
      ]
     },
     "execution_count": 185,
     "metadata": {
      "tags": []
     },
     "output_type": "execute_result"
    }
   ],
   "source": [
    "#extracting the original(without negative sampling) train dataset\r\n",
    "pos_train=train[train.label==1.0].copy()\r\n",
    "pos_train.shape"
   ]
  },
  {
   "cell_type": "code",
   "execution_count": null,
   "metadata": {
    "colab": {
     "base_uri": "https://localhost:8080/"
    },
    "id": "tgExPOrKwbLm",
    "outputId": "7bdd0a3d-aa60-4127-aad2-bd340e7f6f5c"
   },
   "outputs": [
    {
     "data": {
      "text/plain": [
       "(5950, 4)"
      ]
     },
     "execution_count": 197,
     "metadata": {
      "tags": []
     },
     "output_type": "execute_result"
    }
   ],
   "source": [
    "#extracting the original(without negative sampling) validation dataset\r\n",
    "pos_validation=validation[validation.label==1.0].copy()\r\n",
    "pos_validation.shape"
   ]
  },
  {
   "cell_type": "code",
   "execution_count": null,
   "metadata": {
    "colab": {
     "base_uri": "https://localhost:8080/",
     "height": 66,
     "referenced_widgets": [
      "414c1612a00a446893d2330ae928a76b",
      "eb3c70e689284973ae90b963c2a09c5d",
      "5138624410bb4a17bda0df553b85b177",
      "e150aeada458449b94783cf9e9fa6cac",
      "83c90173ac5f430a875e0e7c8cc47073",
      "7765d2e252d94a3b89d1a6be82fc4fc0",
      "490949cf2153485a9820bf8e06477dbf",
      "194bf594b95b4680b07c72b10f1633c8"
     ]
    },
    "id": "JWsZBU9VYa21",
    "outputId": "c07f24e8-2200-4da6-cea5-24516ec2106f"
   },
   "outputs": [
    {
     "data": {
      "application/vnd.jupyter.widget-view+json": {
       "model_id": "414c1612a00a446893d2330ae928a76b",
       "version_major": 2,
       "version_minor": 0
      },
      "text/plain": [
       "HBox(children=(FloatProgress(value=0.0, max=23802.0), HTML(value='')))"
      ]
     },
     "metadata": {
      "tags": []
     },
     "output_type": "display_data"
    },
    {
     "name": "stdout",
     "output_type": "stream",
     "text": [
      "\n"
     ]
    }
   ],
   "source": [
    "#extracting the question embeddings of train data\r\n",
    "from tqdm.notebook import tqdm\r\n",
    "tqdm.pandas()\r\n",
    "pos_train['short_question_embed']=pos_train.short_question.progress_apply(lambda x: extract_question_embed(x))"
   ]
  },
  {
   "cell_type": "code",
   "execution_count": null,
   "metadata": {
    "colab": {
     "base_uri": "https://localhost:8080/",
     "height": 66,
     "referenced_widgets": [
      "e75d92bc44dd40fcbdd5cdd7ce89a6ac",
      "89277a2e027541ef9eb50001fc004e02",
      "1df0c8acb3c748e189ac0ff98ae4f438",
      "729577a77c66471db30cc30d88f39673",
      "12d0dae7d82641688eb439f3b8276b05",
      "73adb9c07a764038b4e697182ebd8128",
      "6e03349d5f164bc4aff9eb304ea99761",
      "906db6e8395240dbbd9de42116cfadd9"
     ]
    },
    "id": "6dO2s9tixRKg",
    "outputId": "f99dea5b-2141-4160-ca20-31d7126b7150"
   },
   "outputs": [
    {
     "data": {
      "application/vnd.jupyter.widget-view+json": {
       "model_id": "e75d92bc44dd40fcbdd5cdd7ce89a6ac",
       "version_major": 2,
       "version_minor": 0
      },
      "text/plain": [
       "HBox(children=(FloatProgress(value=0.0, max=5950.0), HTML(value='')))"
      ]
     },
     "metadata": {
      "tags": []
     },
     "output_type": "display_data"
    },
    {
     "name": "stdout",
     "output_type": "stream",
     "text": [
      "\n"
     ]
    }
   ],
   "source": [
    "#extracting the question embeddings of validation data\r\n",
    "pos_validation['short_question_embed']=pos_validation.short_question.progress_apply(lambda x: extract_question_embed(x))"
   ]
  },
  {
   "cell_type": "code",
   "execution_count": null,
   "metadata": {
    "colab": {
     "base_uri": "https://localhost:8080/",
     "height": 66,
     "referenced_widgets": [
      "e8b7bfc942cb4abdb9c4e8541b6fffc9",
      "635e85b77f124c818e719c571ddce761",
      "f55b7ebe68ca4fe4b595aafe529f4051",
      "1fc28295098d44a3975aba7f3c675c83",
      "fcb4ff8c97d248c98dcee57691f7dbf3",
      "eee7952885ba422abec930e8d292b64b",
      "eb00b3b244cd4ae8b2f5895217c59cae",
      "30552b79e51644808faa515373896423"
     ]
    },
    "id": "3sf5bV7cgqUv",
    "outputId": "6f65d45a-00a6-4929-a5b9-155bfb9f2ffb"
   },
   "outputs": [
    {
     "data": {
      "application/vnd.jupyter.widget-view+json": {
       "model_id": "e8b7bfc942cb4abdb9c4e8541b6fffc9",
       "version_major": 2,
       "version_minor": 0
      },
      "text/plain": [
       "HBox(children=(FloatProgress(value=0.0, max=23802.0), HTML(value='')))"
      ]
     },
     "metadata": {
      "tags": []
     },
     "output_type": "display_data"
    },
    {
     "name": "stdout",
     "output_type": "stream",
     "text": [
      "\n"
     ]
    }
   ],
   "source": [
    "#extracting the answer embeddings of train data\r\n",
    "pos_train['short_answer_embed']=pos_train.short_answer.progress_apply(lambda x: extract_answer_embed(x))"
   ]
  },
  {
   "cell_type": "code",
   "execution_count": null,
   "metadata": {
    "colab": {
     "base_uri": "https://localhost:8080/",
     "height": 66,
     "referenced_widgets": [
      "fb01838ecc62423fa6df9ce5605f5306",
      "d0621090ac6d41799979ff83bdb20595",
      "2df5d7d36902402dabbd3ee68861b02b",
      "c649296c97d54b1bbacb3b5db8d78daf",
      "567f0182ae754d1c83a5f4ee89010140",
      "f56366a44d6c468785557ffee5d441f0",
      "fa4e406f0bec4b67a308bd7e458abf4b",
      "f36041888d61444882b1727bfabaea57"
     ]
    },
    "id": "Lq9FUXSMxbhO",
    "outputId": "6bd98f2b-3941-4e0b-f279-1a97f9956e0a"
   },
   "outputs": [
    {
     "data": {
      "application/vnd.jupyter.widget-view+json": {
       "model_id": "fb01838ecc62423fa6df9ce5605f5306",
       "version_major": 2,
       "version_minor": 0
      },
      "text/plain": [
       "HBox(children=(FloatProgress(value=0.0, max=5950.0), HTML(value='')))"
      ]
     },
     "metadata": {
      "tags": []
     },
     "output_type": "display_data"
    },
    {
     "name": "stdout",
     "output_type": "stream",
     "text": [
      "\n"
     ]
    }
   ],
   "source": [
    "#extracting the answer embeddings of validation data\r\n",
    "pos_validation['short_answer_embed']=pos_validation.short_answer.progress_apply(lambda x: extract_answer_embed(x))"
   ]
  },
  {
   "cell_type": "code",
   "execution_count": null,
   "metadata": {
    "id": "OEoqTKxsYgmW"
   },
   "outputs": [],
   "source": [
    "#converting embeddings from tensors to numpy arrays\r\n",
    "pos_train['short_answer_embed_numpy']=pos_train.short_answer_embed.apply(lambda x: x.numpy() )\r\n",
    "pos_train['short_question_embed_numpy']=pos_train.short_question_embed.apply(lambda x: x.numpy())"
   ]
  },
  {
   "cell_type": "code",
   "execution_count": null,
   "metadata": {
    "id": "55MlY14MxifI"
   },
   "outputs": [],
   "source": [
    "#converting embeddings from tensors to numpy arrays\r\n",
    "pos_validation['short_answer_embed_numpy']=pos_validation.short_answer_embed.apply(lambda x: x.numpy() )\r\n",
    "pos_validation['short_question_embed_numpy']=pos_validation.short_question_embed.apply(lambda x: x.numpy())"
   ]
  },
  {
   "cell_type": "code",
   "execution_count": null,
   "metadata": {
    "id": "GO-WVdYXvrHP"
   },
   "outputs": [],
   "source": [
    "#Saving train question and answer embeddings to disk\r\n",
    "pos_train.drop(['short_answer_embed','short_question_embed'],axis=1).to_csv('re_train_embeds.csv',index=False)"
   ]
  },
  {
   "cell_type": "code",
   "execution_count": null,
   "metadata": {
    "id": "f1lpve5axp-m"
   },
   "outputs": [],
   "source": [
    "#saving validation question and answer embeddings to disk\r\n",
    "pos_validation.drop(['short_answer_embed','short_question_embed'],axis=1).to_csv('re_validation_embeds.csv',index=False)"
   ]
  },
  {
   "cell_type": "markdown",
   "metadata": {
    "id": "tkTDGZ-h-GA3"
   },
   "source": [
    "**Conclusion**"
   ]
  },
  {
   "cell_type": "markdown",
   "metadata": {
    "id": "OLaykKAt-JoY"
   },
   "source": [
    "In this notebook,we have finetuned a pre-trained biobert model to extract embeddings for medical question and answers. In the next notebook we will use these embeddings to retrieve similar question and answer to answer the question asked by a patient."
   ]
  },
  {
   "cell_type": "code",
   "execution_count": null,
   "metadata": {
    "id": "YlqBDA5A-cXf"
   },
   "outputs": [],
   "source": []
  }
 ],
 "metadata": {
  "accelerator": "GPU",
  "colab": {
   "collapsed_sections": [],
   "machine_shape": "hm",
   "name": "Part1_BioBert_Finetuning_with_conclusion.ipynb",
   "provenance": [],
   "toc_visible": true
  },
  "kernelspec": {
   "display_name": "Python 3 (ipykernel)",
   "language": "python",
   "name": "python3"
  },
  "language_info": {
   "codemirror_mode": {
    "name": "ipython",
    "version": 3
   },
   "file_extension": ".py",
   "mimetype": "text/x-python",
   "name": "python",
   "nbconvert_exporter": "python",
   "pygments_lexer": "ipython3",
   "version": "3.11.4"
  },
  "widgets": {
   "application/vnd.jupyter.widget-state+json": {
    "00b8322cba31446098b56dd6a0dce4f0": {
     "model_module": "@jupyter-widgets/controls",
     "model_name": "DescriptionStyleModel",
     "state": {
      "_model_module": "@jupyter-widgets/controls",
      "_model_module_version": "1.5.0",
      "_model_name": "DescriptionStyleModel",
      "_view_count": null,
      "_view_module": "@jupyter-widgets/base",
      "_view_module_version": "1.2.0",
      "_view_name": "StyleView",
      "description_width": ""
     }
    },
    "00ee7b72e9e24616b64a21060f179cf6": {
     "model_module": "@jupyter-widgets/controls",
     "model_name": "HTMLModel",
     "state": {
      "_dom_classes": [],
      "_model_module": "@jupyter-widgets/controls",
      "_model_module_version": "1.5.0",
      "_model_name": "HTMLModel",
      "_view_count": null,
      "_view_module": "@jupyter-widgets/controls",
      "_view_module_version": "1.5.0",
      "_view_name": "HTMLView",
      "description": "",
      "description_tooltip": null,
      "layout": "IPY_MODEL_fef358b2cfe846b3adf435f522648c8b",
      "placeholder": "​",
      "style": "IPY_MODEL_f8b478d4db204b3c97897fd4ec0d3ef9",
      "value": " 213k/213k [00:04&lt;00:00, 51.7kB/s]"
     }
    },
    "02e1861c98384716bc0795649a2f649a": {
     "model_module": "@jupyter-widgets/controls",
     "model_name": "HTMLModel",
     "state": {
      "_dom_classes": [],
      "_model_module": "@jupyter-widgets/controls",
      "_model_module_version": "1.5.0",
      "_model_name": "HTMLModel",
      "_view_count": null,
      "_view_module": "@jupyter-widgets/controls",
      "_view_module_version": "1.5.0",
      "_view_name": "HTMLView",
      "description": "",
      "description_tooltip": null,
      "layout": "IPY_MODEL_0e54cee073ff489d93abf5d0a87fc97e",
      "placeholder": "​",
      "style": "IPY_MODEL_95a3667c7c6e4a30968bf38bc11ec102",
      "value": " 47603/47603 [1:23:03&lt;00:00,  9.55it/s]"
     }
    },
    "0562bdfb28c54cbfa7c408bb4890e5bc": {
     "model_module": "@jupyter-widgets/base",
     "model_name": "LayoutModel",
     "state": {
      "_model_module": "@jupyter-widgets/base",
      "_model_module_version": "1.2.0",
      "_model_name": "LayoutModel",
      "_view_count": null,
      "_view_module": "@jupyter-widgets/base",
      "_view_module_version": "1.2.0",
      "_view_name": "LayoutView",
      "align_content": null,
      "align_items": null,
      "align_self": null,
      "border": null,
      "bottom": null,
      "display": null,
      "flex": null,
      "flex_flow": null,
      "grid_area": null,
      "grid_auto_columns": null,
      "grid_auto_flow": null,
      "grid_auto_rows": null,
      "grid_column": null,
      "grid_gap": null,
      "grid_row": null,
      "grid_template_areas": null,
      "grid_template_columns": null,
      "grid_template_rows": null,
      "height": null,
      "justify_content": null,
      "justify_items": null,
      "left": null,
      "margin": null,
      "max_height": null,
      "max_width": null,
      "min_height": null,
      "min_width": null,
      "object_fit": null,
      "object_position": null,
      "order": null,
      "overflow": null,
      "overflow_x": null,
      "overflow_y": null,
      "padding": null,
      "right": null,
      "top": null,
      "visibility": null,
      "width": null
     }
    },
    "08d5c08a6dba4967bc0f8e99d5890ff1": {
     "model_module": "@jupyter-widgets/controls",
     "model_name": "FloatProgressModel",
     "state": {
      "_dom_classes": [],
      "_model_module": "@jupyter-widgets/controls",
      "_model_module_version": "1.5.0",
      "_model_name": "FloatProgressModel",
      "_view_count": null,
      "_view_module": "@jupyter-widgets/controls",
      "_view_module_version": "1.5.0",
      "_view_name": "ProgressView",
      "bar_style": "success",
      "description": "Downloading: 100%",
      "description_tooltip": null,
      "layout": "IPY_MODEL_da967ffe3501442f90433dded3b60599",
      "max": 462,
      "min": 0,
      "orientation": "horizontal",
      "style": "IPY_MODEL_746c4a1019cc456782ac4752d95af0c2",
      "value": 462
     }
    },
    "09e7ced103d44675b5a111b0c05f06f6": {
     "model_module": "@jupyter-widgets/controls",
     "model_name": "HBoxModel",
     "state": {
      "_dom_classes": [],
      "_model_module": "@jupyter-widgets/controls",
      "_model_module_version": "1.5.0",
      "_model_name": "HBoxModel",
      "_view_count": null,
      "_view_module": "@jupyter-widgets/controls",
      "_view_module_version": "1.5.0",
      "_view_name": "HBoxView",
      "box_style": "",
      "children": [
       "IPY_MODEL_8f5e7392fca746a4919c971d587603c8",
       "IPY_MODEL_2ce98b6e383548c6bfc02a5734d90a5a"
      ],
      "layout": "IPY_MODEL_72d2ab24343c477aa39a00d6719639bc"
     }
    },
    "0de02399eb8e442aa7718d1d9ca297df": {
     "model_module": "@jupyter-widgets/controls",
     "model_name": "ProgressStyleModel",
     "state": {
      "_model_module": "@jupyter-widgets/controls",
      "_model_module_version": "1.5.0",
      "_model_name": "ProgressStyleModel",
      "_view_count": null,
      "_view_module": "@jupyter-widgets/base",
      "_view_module_version": "1.2.0",
      "_view_name": "StyleView",
      "bar_color": null,
      "description_width": "initial"
     }
    },
    "0e54cee073ff489d93abf5d0a87fc97e": {
     "model_module": "@jupyter-widgets/base",
     "model_name": "LayoutModel",
     "state": {
      "_model_module": "@jupyter-widgets/base",
      "_model_module_version": "1.2.0",
      "_model_name": "LayoutModel",
      "_view_count": null,
      "_view_module": "@jupyter-widgets/base",
      "_view_module_version": "1.2.0",
      "_view_name": "LayoutView",
      "align_content": null,
      "align_items": null,
      "align_self": null,
      "border": null,
      "bottom": null,
      "display": null,
      "flex": null,
      "flex_flow": null,
      "grid_area": null,
      "grid_auto_columns": null,
      "grid_auto_flow": null,
      "grid_auto_rows": null,
      "grid_column": null,
      "grid_gap": null,
      "grid_row": null,
      "grid_template_areas": null,
      "grid_template_columns": null,
      "grid_template_rows": null,
      "height": null,
      "justify_content": null,
      "justify_items": null,
      "left": null,
      "margin": null,
      "max_height": null,
      "max_width": null,
      "min_height": null,
      "min_width": null,
      "object_fit": null,
      "object_position": null,
      "order": null,
      "overflow": null,
      "overflow_x": null,
      "overflow_y": null,
      "padding": null,
      "right": null,
      "top": null,
      "visibility": null,
      "width": null
     }
    },
    "10d6fc0e58b443ebb9035bdab2b34d48": {
     "model_module": "@jupyter-widgets/controls",
     "model_name": "HTMLModel",
     "state": {
      "_dom_classes": [],
      "_model_module": "@jupyter-widgets/controls",
      "_model_module_version": "1.5.0",
      "_model_name": "HTMLModel",
      "_view_count": null,
      "_view_module": "@jupyter-widgets/controls",
      "_view_module_version": "1.5.0",
      "_view_name": "HTMLView",
      "description": "",
      "description_tooltip": null,
      "layout": "IPY_MODEL_6fc0a0c12a0b4ec89eaf002571395e8c",
      "placeholder": "​",
      "style": "IPY_MODEL_cbc125898eeb4c3987b8c2fe6c7f5e63",
      "value": " 85.0/85.0 [00:00&lt;00:00, 1.69kB/s]"
     }
    },
    "12d0dae7d82641688eb439f3b8276b05": {
     "model_module": "@jupyter-widgets/controls",
     "model_name": "ProgressStyleModel",
     "state": {
      "_model_module": "@jupyter-widgets/controls",
      "_model_module_version": "1.5.0",
      "_model_name": "ProgressStyleModel",
      "_view_count": null,
      "_view_module": "@jupyter-widgets/base",
      "_view_module_version": "1.2.0",
      "_view_name": "StyleView",
      "bar_color": null,
      "description_width": "initial"
     }
    },
    "141db3029d0543629ef07bbefe72c1c9": {
     "model_module": "@jupyter-widgets/controls",
     "model_name": "DescriptionStyleModel",
     "state": {
      "_model_module": "@jupyter-widgets/controls",
      "_model_module_version": "1.5.0",
      "_model_name": "DescriptionStyleModel",
      "_view_count": null,
      "_view_module": "@jupyter-widgets/base",
      "_view_module_version": "1.2.0",
      "_view_name": "StyleView",
      "description_width": ""
     }
    },
    "145af85a98ee4306aee72d203773eda8": {
     "model_module": "@jupyter-widgets/base",
     "model_name": "LayoutModel",
     "state": {
      "_model_module": "@jupyter-widgets/base",
      "_model_module_version": "1.2.0",
      "_model_name": "LayoutModel",
      "_view_count": null,
      "_view_module": "@jupyter-widgets/base",
      "_view_module_version": "1.2.0",
      "_view_name": "LayoutView",
      "align_content": null,
      "align_items": null,
      "align_self": null,
      "border": null,
      "bottom": null,
      "display": null,
      "flex": null,
      "flex_flow": null,
      "grid_area": null,
      "grid_auto_columns": null,
      "grid_auto_flow": null,
      "grid_auto_rows": null,
      "grid_column": null,
      "grid_gap": null,
      "grid_row": null,
      "grid_template_areas": null,
      "grid_template_columns": null,
      "grid_template_rows": null,
      "height": null,
      "justify_content": null,
      "justify_items": null,
      "left": null,
      "margin": null,
      "max_height": null,
      "max_width": null,
      "min_height": null,
      "min_width": null,
      "object_fit": null,
      "object_position": null,
      "order": null,
      "overflow": null,
      "overflow_x": null,
      "overflow_y": null,
      "padding": null,
      "right": null,
      "top": null,
      "visibility": null,
      "width": null
     }
    },
    "160bed6da476408bacfa7518eb551e60": {
     "model_module": "@jupyter-widgets/controls",
     "model_name": "ProgressStyleModel",
     "state": {
      "_model_module": "@jupyter-widgets/controls",
      "_model_module_version": "1.5.0",
      "_model_name": "ProgressStyleModel",
      "_view_count": null,
      "_view_module": "@jupyter-widgets/base",
      "_view_module_version": "1.2.0",
      "_view_name": "StyleView",
      "bar_color": null,
      "description_width": "initial"
     }
    },
    "194bf594b95b4680b07c72b10f1633c8": {
     "model_module": "@jupyter-widgets/base",
     "model_name": "LayoutModel",
     "state": {
      "_model_module": "@jupyter-widgets/base",
      "_model_module_version": "1.2.0",
      "_model_name": "LayoutModel",
      "_view_count": null,
      "_view_module": "@jupyter-widgets/base",
      "_view_module_version": "1.2.0",
      "_view_name": "LayoutView",
      "align_content": null,
      "align_items": null,
      "align_self": null,
      "border": null,
      "bottom": null,
      "display": null,
      "flex": null,
      "flex_flow": null,
      "grid_area": null,
      "grid_auto_columns": null,
      "grid_auto_flow": null,
      "grid_auto_rows": null,
      "grid_column": null,
      "grid_gap": null,
      "grid_row": null,
      "grid_template_areas": null,
      "grid_template_columns": null,
      "grid_template_rows": null,
      "height": null,
      "justify_content": null,
      "justify_items": null,
      "left": null,
      "margin": null,
      "max_height": null,
      "max_width": null,
      "min_height": null,
      "min_width": null,
      "object_fit": null,
      "object_position": null,
      "order": null,
      "overflow": null,
      "overflow_x": null,
      "overflow_y": null,
      "padding": null,
      "right": null,
      "top": null,
      "visibility": null,
      "width": null
     }
    },
    "1d565fd2fe9b4f338dcaa5d1794f7cde": {
     "model_module": "@jupyter-widgets/base",
     "model_name": "LayoutModel",
     "state": {
      "_model_module": "@jupyter-widgets/base",
      "_model_module_version": "1.2.0",
      "_model_name": "LayoutModel",
      "_view_count": null,
      "_view_module": "@jupyter-widgets/base",
      "_view_module_version": "1.2.0",
      "_view_name": "LayoutView",
      "align_content": null,
      "align_items": null,
      "align_self": null,
      "border": null,
      "bottom": null,
      "display": null,
      "flex": null,
      "flex_flow": null,
      "grid_area": null,
      "grid_auto_columns": null,
      "grid_auto_flow": null,
      "grid_auto_rows": null,
      "grid_column": null,
      "grid_gap": null,
      "grid_row": null,
      "grid_template_areas": null,
      "grid_template_columns": null,
      "grid_template_rows": null,
      "height": null,
      "justify_content": null,
      "justify_items": null,
      "left": null,
      "margin": null,
      "max_height": null,
      "max_width": null,
      "min_height": null,
      "min_width": null,
      "object_fit": null,
      "object_position": null,
      "order": null,
      "overflow": null,
      "overflow_x": null,
      "overflow_y": null,
      "padding": null,
      "right": null,
      "top": null,
      "visibility": null,
      "width": null
     }
    },
    "1df0c8acb3c748e189ac0ff98ae4f438": {
     "model_module": "@jupyter-widgets/controls",
     "model_name": "FloatProgressModel",
     "state": {
      "_dom_classes": [],
      "_model_module": "@jupyter-widgets/controls",
      "_model_module_version": "1.5.0",
      "_model_name": "FloatProgressModel",
      "_view_count": null,
      "_view_module": "@jupyter-widgets/controls",
      "_view_module_version": "1.5.0",
      "_view_name": "ProgressView",
      "bar_style": "success",
      "description": "100%",
      "description_tooltip": null,
      "layout": "IPY_MODEL_73adb9c07a764038b4e697182ebd8128",
      "max": 5950,
      "min": 0,
      "orientation": "horizontal",
      "style": "IPY_MODEL_12d0dae7d82641688eb439f3b8276b05",
      "value": 5950
     }
    },
    "1f483af7e04748a7965525b2178ed6c8": {
     "model_module": "@jupyter-widgets/controls",
     "model_name": "HTMLModel",
     "state": {
      "_dom_classes": [],
      "_model_module": "@jupyter-widgets/controls",
      "_model_module_version": "1.5.0",
      "_model_name": "HTMLModel",
      "_view_count": null,
      "_view_module": "@jupyter-widgets/controls",
      "_view_module_version": "1.5.0",
      "_view_name": "HTMLView",
      "description": "",
      "description_tooltip": null,
      "layout": "IPY_MODEL_1d565fd2fe9b4f338dcaa5d1794f7cde",
      "placeholder": "​",
      "style": "IPY_MODEL_61a16ccb23b341d3a2b1296d2709154d",
      "value": " 11901/11901 [26:39&lt;00:00,  7.44it/s]"
     }
    },
    "1fc28295098d44a3975aba7f3c675c83": {
     "model_module": "@jupyter-widgets/controls",
     "model_name": "HTMLModel",
     "state": {
      "_dom_classes": [],
      "_model_module": "@jupyter-widgets/controls",
      "_model_module_version": "1.5.0",
      "_model_name": "HTMLModel",
      "_view_count": null,
      "_view_module": "@jupyter-widgets/controls",
      "_view_module_version": "1.5.0",
      "_view_name": "HTMLView",
      "description": "",
      "description_tooltip": null,
      "layout": "IPY_MODEL_30552b79e51644808faa515373896423",
      "placeholder": "​",
      "style": "IPY_MODEL_eb00b3b244cd4ae8b2f5895217c59cae",
      "value": " 23802/23802 [33:26&lt;00:00, 11.86it/s]"
     }
    },
    "205a24a23ca245c4a4a16db53601ed75": {
     "model_module": "@jupyter-widgets/base",
     "model_name": "LayoutModel",
     "state": {
      "_model_module": "@jupyter-widgets/base",
      "_model_module_version": "1.2.0",
      "_model_name": "LayoutModel",
      "_view_count": null,
      "_view_module": "@jupyter-widgets/base",
      "_view_module_version": "1.2.0",
      "_view_name": "LayoutView",
      "align_content": null,
      "align_items": null,
      "align_self": null,
      "border": null,
      "bottom": null,
      "display": null,
      "flex": null,
      "flex_flow": null,
      "grid_area": null,
      "grid_auto_columns": null,
      "grid_auto_flow": null,
      "grid_auto_rows": null,
      "grid_column": null,
      "grid_gap": null,
      "grid_row": null,
      "grid_template_areas": null,
      "grid_template_columns": null,
      "grid_template_rows": null,
      "height": null,
      "justify_content": null,
      "justify_items": null,
      "left": null,
      "margin": null,
      "max_height": null,
      "max_width": null,
      "min_height": null,
      "min_width": null,
      "object_fit": null,
      "object_position": null,
      "order": null,
      "overflow": null,
      "overflow_x": null,
      "overflow_y": null,
      "padding": null,
      "right": null,
      "top": null,
      "visibility": null,
      "width": null
     }
    },
    "25ddb71dc0794b6cab615cc10daf442e": {
     "model_module": "@jupyter-widgets/base",
     "model_name": "LayoutModel",
     "state": {
      "_model_module": "@jupyter-widgets/base",
      "_model_module_version": "1.2.0",
      "_model_name": "LayoutModel",
      "_view_count": null,
      "_view_module": "@jupyter-widgets/base",
      "_view_module_version": "1.2.0",
      "_view_name": "LayoutView",
      "align_content": null,
      "align_items": null,
      "align_self": null,
      "border": null,
      "bottom": null,
      "display": null,
      "flex": null,
      "flex_flow": null,
      "grid_area": null,
      "grid_auto_columns": null,
      "grid_auto_flow": null,
      "grid_auto_rows": null,
      "grid_column": null,
      "grid_gap": null,
      "grid_row": null,
      "grid_template_areas": null,
      "grid_template_columns": null,
      "grid_template_rows": null,
      "height": null,
      "justify_content": null,
      "justify_items": null,
      "left": null,
      "margin": null,
      "max_height": null,
      "max_width": null,
      "min_height": null,
      "min_width": null,
      "object_fit": null,
      "object_position": null,
      "order": null,
      "overflow": null,
      "overflow_x": null,
      "overflow_y": null,
      "padding": null,
      "right": null,
      "top": null,
      "visibility": null,
      "width": null
     }
    },
    "2b66013577604f149b066acf8bedb48b": {
     "model_module": "@jupyter-widgets/controls",
     "model_name": "FloatProgressModel",
     "state": {
      "_dom_classes": [],
      "_model_module": "@jupyter-widgets/controls",
      "_model_module_version": "1.5.0",
      "_model_name": "FloatProgressModel",
      "_view_count": null,
      "_view_module": "@jupyter-widgets/controls",
      "_view_module_version": "1.5.0",
      "_view_name": "ProgressView",
      "bar_style": "success",
      "description": "100%",
      "description_tooltip": null,
      "layout": "IPY_MODEL_a53896887dcd4593b165bf6ecd764e3b",
      "max": 21,
      "min": 0,
      "orientation": "horizontal",
      "style": "IPY_MODEL_b9728fc3f2f646fd9f48f1b9a40dd5ed",
      "value": 21
     }
    },
    "2ce98b6e383548c6bfc02a5734d90a5a": {
     "model_module": "@jupyter-widgets/controls",
     "model_name": "HTMLModel",
     "state": {
      "_dom_classes": [],
      "_model_module": "@jupyter-widgets/controls",
      "_model_module_version": "1.5.0",
      "_model_name": "HTMLModel",
      "_view_count": null,
      "_view_module": "@jupyter-widgets/controls",
      "_view_module_version": "1.5.0",
      "_view_name": "HTMLView",
      "description": "",
      "description_tooltip": null,
      "layout": "IPY_MODEL_fc9b64ffb78446f78b6c81bad09c572d",
      "placeholder": "​",
      "style": "IPY_MODEL_00b8322cba31446098b56dd6a0dce4f0",
      "value": " 434M/434M [00:04&lt;00:00, 89.9MB/s]"
     }
    },
    "2d14290d720e42c8aaecd6818cf91519": {
     "model_module": "@jupyter-widgets/controls",
     "model_name": "HBoxModel",
     "state": {
      "_dom_classes": [],
      "_model_module": "@jupyter-widgets/controls",
      "_model_module_version": "1.5.0",
      "_model_name": "HBoxModel",
      "_view_count": null,
      "_view_module": "@jupyter-widgets/controls",
      "_view_module_version": "1.5.0",
      "_view_name": "HBoxView",
      "box_style": "",
      "children": [
       "IPY_MODEL_8a41533e8b4c47429025e96f9d32b078",
       "IPY_MODEL_1f483af7e04748a7965525b2178ed6c8"
      ],
      "layout": "IPY_MODEL_ad3e132e70564efbbe5a5be556ade78e"
     }
    },
    "2df5d7d36902402dabbd3ee68861b02b": {
     "model_module": "@jupyter-widgets/controls",
     "model_name": "FloatProgressModel",
     "state": {
      "_dom_classes": [],
      "_model_module": "@jupyter-widgets/controls",
      "_model_module_version": "1.5.0",
      "_model_name": "FloatProgressModel",
      "_view_count": null,
      "_view_module": "@jupyter-widgets/controls",
      "_view_module_version": "1.5.0",
      "_view_name": "ProgressView",
      "bar_style": "success",
      "description": "100%",
      "description_tooltip": null,
      "layout": "IPY_MODEL_f56366a44d6c468785557ffee5d441f0",
      "max": 5950,
      "min": 0,
      "orientation": "horizontal",
      "style": "IPY_MODEL_567f0182ae754d1c83a5f4ee89010140",
      "value": 5950
     }
    },
    "30552b79e51644808faa515373896423": {
     "model_module": "@jupyter-widgets/base",
     "model_name": "LayoutModel",
     "state": {
      "_model_module": "@jupyter-widgets/base",
      "_model_module_version": "1.2.0",
      "_model_name": "LayoutModel",
      "_view_count": null,
      "_view_module": "@jupyter-widgets/base",
      "_view_module_version": "1.2.0",
      "_view_name": "LayoutView",
      "align_content": null,
      "align_items": null,
      "align_self": null,
      "border": null,
      "bottom": null,
      "display": null,
      "flex": null,
      "flex_flow": null,
      "grid_area": null,
      "grid_auto_columns": null,
      "grid_auto_flow": null,
      "grid_auto_rows": null,
      "grid_column": null,
      "grid_gap": null,
      "grid_row": null,
      "grid_template_areas": null,
      "grid_template_columns": null,
      "grid_template_rows": null,
      "height": null,
      "justify_content": null,
      "justify_items": null,
      "left": null,
      "margin": null,
      "max_height": null,
      "max_width": null,
      "min_height": null,
      "min_width": null,
      "object_fit": null,
      "object_position": null,
      "order": null,
      "overflow": null,
      "overflow_x": null,
      "overflow_y": null,
      "padding": null,
      "right": null,
      "top": null,
      "visibility": null,
      "width": null
     }
    },
    "31b3a6a8b7ab4525b7392494e1933b3e": {
     "model_module": "@jupyter-widgets/controls",
     "model_name": "HBoxModel",
     "state": {
      "_dom_classes": [],
      "_model_module": "@jupyter-widgets/controls",
      "_model_module_version": "1.5.0",
      "_model_name": "HBoxModel",
      "_view_count": null,
      "_view_module": "@jupyter-widgets/controls",
      "_view_module_version": "1.5.0",
      "_view_name": "HBoxView",
      "box_style": "",
      "children": [
       "IPY_MODEL_f7eec0f9542d4ac5a3af3f739c1c359d",
       "IPY_MODEL_ad0606d7e2f349b4bd16dbde65344049"
      ],
      "layout": "IPY_MODEL_3253c1e783bc4c6da0e9f5821746e615"
     }
    },
    "3253c1e783bc4c6da0e9f5821746e615": {
     "model_module": "@jupyter-widgets/base",
     "model_name": "LayoutModel",
     "state": {
      "_model_module": "@jupyter-widgets/base",
      "_model_module_version": "1.2.0",
      "_model_name": "LayoutModel",
      "_view_count": null,
      "_view_module": "@jupyter-widgets/base",
      "_view_module_version": "1.2.0",
      "_view_name": "LayoutView",
      "align_content": null,
      "align_items": null,
      "align_self": null,
      "border": null,
      "bottom": null,
      "display": null,
      "flex": null,
      "flex_flow": null,
      "grid_area": null,
      "grid_auto_columns": null,
      "grid_auto_flow": null,
      "grid_auto_rows": null,
      "grid_column": null,
      "grid_gap": null,
      "grid_row": null,
      "grid_template_areas": null,
      "grid_template_columns": null,
      "grid_template_rows": null,
      "height": null,
      "justify_content": null,
      "justify_items": null,
      "left": null,
      "margin": null,
      "max_height": null,
      "max_width": null,
      "min_height": null,
      "min_width": null,
      "object_fit": null,
      "object_position": null,
      "order": null,
      "overflow": null,
      "overflow_x": null,
      "overflow_y": null,
      "padding": null,
      "right": null,
      "top": null,
      "visibility": null,
      "width": null
     }
    },
    "3253cdfb636a49ad84b0e37a172ac3c3": {
     "model_module": "@jupyter-widgets/base",
     "model_name": "LayoutModel",
     "state": {
      "_model_module": "@jupyter-widgets/base",
      "_model_module_version": "1.2.0",
      "_model_name": "LayoutModel",
      "_view_count": null,
      "_view_module": "@jupyter-widgets/base",
      "_view_module_version": "1.2.0",
      "_view_name": "LayoutView",
      "align_content": null,
      "align_items": null,
      "align_self": null,
      "border": null,
      "bottom": null,
      "display": null,
      "flex": null,
      "flex_flow": null,
      "grid_area": null,
      "grid_auto_columns": null,
      "grid_auto_flow": null,
      "grid_auto_rows": null,
      "grid_column": null,
      "grid_gap": null,
      "grid_row": null,
      "grid_template_areas": null,
      "grid_template_columns": null,
      "grid_template_rows": null,
      "height": null,
      "justify_content": null,
      "justify_items": null,
      "left": null,
      "margin": null,
      "max_height": null,
      "max_width": null,
      "min_height": null,
      "min_width": null,
      "object_fit": null,
      "object_position": null,
      "order": null,
      "overflow": null,
      "overflow_x": null,
      "overflow_y": null,
      "padding": null,
      "right": null,
      "top": null,
      "visibility": null,
      "width": null
     }
    },
    "33a61a9f455644c782bdee4ab9d097bf": {
     "model_module": "@jupyter-widgets/base",
     "model_name": "LayoutModel",
     "state": {
      "_model_module": "@jupyter-widgets/base",
      "_model_module_version": "1.2.0",
      "_model_name": "LayoutModel",
      "_view_count": null,
      "_view_module": "@jupyter-widgets/base",
      "_view_module_version": "1.2.0",
      "_view_name": "LayoutView",
      "align_content": null,
      "align_items": null,
      "align_self": null,
      "border": null,
      "bottom": null,
      "display": null,
      "flex": null,
      "flex_flow": null,
      "grid_area": null,
      "grid_auto_columns": null,
      "grid_auto_flow": null,
      "grid_auto_rows": null,
      "grid_column": null,
      "grid_gap": null,
      "grid_row": null,
      "grid_template_areas": null,
      "grid_template_columns": null,
      "grid_template_rows": null,
      "height": null,
      "justify_content": null,
      "justify_items": null,
      "left": null,
      "margin": null,
      "max_height": null,
      "max_width": null,
      "min_height": null,
      "min_width": null,
      "object_fit": null,
      "object_position": null,
      "order": null,
      "overflow": null,
      "overflow_x": null,
      "overflow_y": null,
      "padding": null,
      "right": null,
      "top": null,
      "visibility": null,
      "width": null
     }
    },
    "3464fdf5b7a24289b9274099068c8de1": {
     "model_module": "@jupyter-widgets/controls",
     "model_name": "FloatProgressModel",
     "state": {
      "_dom_classes": [],
      "_model_module": "@jupyter-widgets/controls",
      "_model_module_version": "1.5.0",
      "_model_name": "FloatProgressModel",
      "_view_count": null,
      "_view_module": "@jupyter-widgets/controls",
      "_view_module_version": "1.5.0",
      "_view_name": "ProgressView",
      "bar_style": "success",
      "description": "Downloading: 100%",
      "description_tooltip": null,
      "layout": "IPY_MODEL_b6f799f9ce6e48bf931b7775eae1e06f",
      "max": 112,
      "min": 0,
      "orientation": "horizontal",
      "style": "IPY_MODEL_d25e9f98ff3849cc975302f96e448d82",
      "value": 112
     }
    },
    "36d446d79a5b42ac89b81591e1ddf610": {
     "model_module": "@jupyter-widgets/controls",
     "model_name": "DescriptionStyleModel",
     "state": {
      "_model_module": "@jupyter-widgets/controls",
      "_model_module_version": "1.5.0",
      "_model_name": "DescriptionStyleModel",
      "_view_count": null,
      "_view_module": "@jupyter-widgets/base",
      "_view_module_version": "1.2.0",
      "_view_name": "StyleView",
      "description_width": ""
     }
    },
    "39267dff22c5487d9608114796b3f89a": {
     "model_module": "@jupyter-widgets/base",
     "model_name": "LayoutModel",
     "state": {
      "_model_module": "@jupyter-widgets/base",
      "_model_module_version": "1.2.0",
      "_model_name": "LayoutModel",
      "_view_count": null,
      "_view_module": "@jupyter-widgets/base",
      "_view_module_version": "1.2.0",
      "_view_name": "LayoutView",
      "align_content": null,
      "align_items": null,
      "align_self": null,
      "border": null,
      "bottom": null,
      "display": null,
      "flex": null,
      "flex_flow": null,
      "grid_area": null,
      "grid_auto_columns": null,
      "grid_auto_flow": null,
      "grid_auto_rows": null,
      "grid_column": null,
      "grid_gap": null,
      "grid_row": null,
      "grid_template_areas": null,
      "grid_template_columns": null,
      "grid_template_rows": null,
      "height": null,
      "justify_content": null,
      "justify_items": null,
      "left": null,
      "margin": null,
      "max_height": null,
      "max_width": null,
      "min_height": null,
      "min_width": null,
      "object_fit": null,
      "object_position": null,
      "order": null,
      "overflow": null,
      "overflow_x": null,
      "overflow_y": null,
      "padding": null,
      "right": null,
      "top": null,
      "visibility": null,
      "width": null
     }
    },
    "40ccced2d1104da78e4a5e91e4232dc5": {
     "model_module": "@jupyter-widgets/controls",
     "model_name": "HBoxModel",
     "state": {
      "_dom_classes": [],
      "_model_module": "@jupyter-widgets/controls",
      "_model_module_version": "1.5.0",
      "_model_name": "HBoxModel",
      "_view_count": null,
      "_view_module": "@jupyter-widgets/controls",
      "_view_module_version": "1.5.0",
      "_view_name": "HBoxView",
      "box_style": "",
      "children": [
       "IPY_MODEL_984438296fee45daa28b574e0abc7bac",
       "IPY_MODEL_b7d5dab680ac4cbc82d904aa7310dcff"
      ],
      "layout": "IPY_MODEL_205a24a23ca245c4a4a16db53601ed75"
     }
    },
    "414c1612a00a446893d2330ae928a76b": {
     "model_module": "@jupyter-widgets/controls",
     "model_name": "HBoxModel",
     "state": {
      "_dom_classes": [],
      "_model_module": "@jupyter-widgets/controls",
      "_model_module_version": "1.5.0",
      "_model_name": "HBoxModel",
      "_view_count": null,
      "_view_module": "@jupyter-widgets/controls",
      "_view_module_version": "1.5.0",
      "_view_name": "HBoxView",
      "box_style": "",
      "children": [
       "IPY_MODEL_5138624410bb4a17bda0df553b85b177",
       "IPY_MODEL_e150aeada458449b94783cf9e9fa6cac"
      ],
      "layout": "IPY_MODEL_eb3c70e689284973ae90b963c2a09c5d"
     }
    },
    "4692fe517c1447a48a3fe0514ddc9fcc": {
     "model_module": "@jupyter-widgets/controls",
     "model_name": "ProgressStyleModel",
     "state": {
      "_model_module": "@jupyter-widgets/controls",
      "_model_module_version": "1.5.0",
      "_model_name": "ProgressStyleModel",
      "_view_count": null,
      "_view_module": "@jupyter-widgets/base",
      "_view_module_version": "1.2.0",
      "_view_name": "StyleView",
      "bar_color": null,
      "description_width": "initial"
     }
    },
    "490949cf2153485a9820bf8e06477dbf": {
     "model_module": "@jupyter-widgets/controls",
     "model_name": "DescriptionStyleModel",
     "state": {
      "_model_module": "@jupyter-widgets/controls",
      "_model_module_version": "1.5.0",
      "_model_name": "DescriptionStyleModel",
      "_view_count": null,
      "_view_module": "@jupyter-widgets/base",
      "_view_module_version": "1.2.0",
      "_view_name": "StyleView",
      "description_width": ""
     }
    },
    "4ab5c680833141c6a53ce3407dd9cba8": {
     "model_module": "@jupyter-widgets/base",
     "model_name": "LayoutModel",
     "state": {
      "_model_module": "@jupyter-widgets/base",
      "_model_module_version": "1.2.0",
      "_model_name": "LayoutModel",
      "_view_count": null,
      "_view_module": "@jupyter-widgets/base",
      "_view_module_version": "1.2.0",
      "_view_name": "LayoutView",
      "align_content": null,
      "align_items": null,
      "align_self": null,
      "border": null,
      "bottom": null,
      "display": null,
      "flex": null,
      "flex_flow": null,
      "grid_area": null,
      "grid_auto_columns": null,
      "grid_auto_flow": null,
      "grid_auto_rows": null,
      "grid_column": null,
      "grid_gap": null,
      "grid_row": null,
      "grid_template_areas": null,
      "grid_template_columns": null,
      "grid_template_rows": null,
      "height": null,
      "justify_content": null,
      "justify_items": null,
      "left": null,
      "margin": null,
      "max_height": null,
      "max_width": null,
      "min_height": null,
      "min_width": null,
      "object_fit": null,
      "object_position": null,
      "order": null,
      "overflow": null,
      "overflow_x": null,
      "overflow_y": null,
      "padding": null,
      "right": null,
      "top": null,
      "visibility": null,
      "width": null
     }
    },
    "4c5b2ab3729a42d8a0c2bc00cecfa13d": {
     "model_module": "@jupyter-widgets/base",
     "model_name": "LayoutModel",
     "state": {
      "_model_module": "@jupyter-widgets/base",
      "_model_module_version": "1.2.0",
      "_model_name": "LayoutModel",
      "_view_count": null,
      "_view_module": "@jupyter-widgets/base",
      "_view_module_version": "1.2.0",
      "_view_name": "LayoutView",
      "align_content": null,
      "align_items": null,
      "align_self": null,
      "border": null,
      "bottom": null,
      "display": null,
      "flex": null,
      "flex_flow": null,
      "grid_area": null,
      "grid_auto_columns": null,
      "grid_auto_flow": null,
      "grid_auto_rows": null,
      "grid_column": null,
      "grid_gap": null,
      "grid_row": null,
      "grid_template_areas": null,
      "grid_template_columns": null,
      "grid_template_rows": null,
      "height": null,
      "justify_content": null,
      "justify_items": null,
      "left": null,
      "margin": null,
      "max_height": null,
      "max_width": null,
      "min_height": null,
      "min_width": null,
      "object_fit": null,
      "object_position": null,
      "order": null,
      "overflow": null,
      "overflow_x": null,
      "overflow_y": null,
      "padding": null,
      "right": null,
      "top": null,
      "visibility": null,
      "width": null
     }
    },
    "4fb6b7d5a58f44d2badbb3956bdddc6b": {
     "model_module": "@jupyter-widgets/base",
     "model_name": "LayoutModel",
     "state": {
      "_model_module": "@jupyter-widgets/base",
      "_model_module_version": "1.2.0",
      "_model_name": "LayoutModel",
      "_view_count": null,
      "_view_module": "@jupyter-widgets/base",
      "_view_module_version": "1.2.0",
      "_view_name": "LayoutView",
      "align_content": null,
      "align_items": null,
      "align_self": null,
      "border": null,
      "bottom": null,
      "display": null,
      "flex": null,
      "flex_flow": null,
      "grid_area": null,
      "grid_auto_columns": null,
      "grid_auto_flow": null,
      "grid_auto_rows": null,
      "grid_column": null,
      "grid_gap": null,
      "grid_row": null,
      "grid_template_areas": null,
      "grid_template_columns": null,
      "grid_template_rows": null,
      "height": null,
      "justify_content": null,
      "justify_items": null,
      "left": null,
      "margin": null,
      "max_height": null,
      "max_width": null,
      "min_height": null,
      "min_width": null,
      "object_fit": null,
      "object_position": null,
      "order": null,
      "overflow": null,
      "overflow_x": null,
      "overflow_y": null,
      "padding": null,
      "right": null,
      "top": null,
      "visibility": null,
      "width": null
     }
    },
    "5138624410bb4a17bda0df553b85b177": {
     "model_module": "@jupyter-widgets/controls",
     "model_name": "FloatProgressModel",
     "state": {
      "_dom_classes": [],
      "_model_module": "@jupyter-widgets/controls",
      "_model_module_version": "1.5.0",
      "_model_name": "FloatProgressModel",
      "_view_count": null,
      "_view_module": "@jupyter-widgets/controls",
      "_view_module_version": "1.5.0",
      "_view_name": "ProgressView",
      "bar_style": "success",
      "description": "100%",
      "description_tooltip": null,
      "layout": "IPY_MODEL_7765d2e252d94a3b89d1a6be82fc4fc0",
      "max": 23802,
      "min": 0,
      "orientation": "horizontal",
      "style": "IPY_MODEL_83c90173ac5f430a875e0e7c8cc47073",
      "value": 23802
     }
    },
    "51d06128a21f4d15ba0c7aa4b1a2337c": {
     "model_module": "@jupyter-widgets/controls",
     "model_name": "HTMLModel",
     "state": {
      "_dom_classes": [],
      "_model_module": "@jupyter-widgets/controls",
      "_model_module_version": "1.5.0",
      "_model_name": "HTMLModel",
      "_view_count": null,
      "_view_module": "@jupyter-widgets/controls",
      "_view_module_version": "1.5.0",
      "_view_name": "HTMLView",
      "description": "",
      "description_tooltip": null,
      "layout": "IPY_MODEL_9a25809ded9e421ea0187b1e208e67a8",
      "placeholder": "​",
      "style": "IPY_MODEL_36d446d79a5b42ac89b81591e1ddf610",
      "value": " 112/112 [00:01&lt;00:00, 98.0B/s]"
     }
    },
    "567f0182ae754d1c83a5f4ee89010140": {
     "model_module": "@jupyter-widgets/controls",
     "model_name": "ProgressStyleModel",
     "state": {
      "_model_module": "@jupyter-widgets/controls",
      "_model_module_version": "1.5.0",
      "_model_name": "ProgressStyleModel",
      "_view_count": null,
      "_view_module": "@jupyter-widgets/base",
      "_view_module_version": "1.2.0",
      "_view_name": "StyleView",
      "bar_color": null,
      "description_width": "initial"
     }
    },
    "5a6b9cc26a724984a1b16abfcbf8c59d": {
     "model_module": "@jupyter-widgets/controls",
     "model_name": "HBoxModel",
     "state": {
      "_dom_classes": [],
      "_model_module": "@jupyter-widgets/controls",
      "_model_module_version": "1.5.0",
      "_model_name": "HBoxModel",
      "_view_count": null,
      "_view_module": "@jupyter-widgets/controls",
      "_view_module_version": "1.5.0",
      "_view_name": "HBoxView",
      "box_style": "",
      "children": [
       "IPY_MODEL_ee85b9a2c64046919377d73a1f469ec0",
       "IPY_MODEL_02e1861c98384716bc0795649a2f649a"
      ],
      "layout": "IPY_MODEL_25ddb71dc0794b6cab615cc10daf442e"
     }
    },
    "5c4f37bb9d80474db8b345b1346c0a63": {
     "model_module": "@jupyter-widgets/controls",
     "model_name": "DescriptionStyleModel",
     "state": {
      "_model_module": "@jupyter-widgets/controls",
      "_model_module_version": "1.5.0",
      "_model_name": "DescriptionStyleModel",
      "_view_count": null,
      "_view_module": "@jupyter-widgets/base",
      "_view_module_version": "1.2.0",
      "_view_name": "StyleView",
      "description_width": ""
     }
    },
    "61478d924bea42f1ab04b3d7972d5dc5": {
     "model_module": "@jupyter-widgets/controls",
     "model_name": "DescriptionStyleModel",
     "state": {
      "_model_module": "@jupyter-widgets/controls",
      "_model_module_version": "1.5.0",
      "_model_name": "DescriptionStyleModel",
      "_view_count": null,
      "_view_module": "@jupyter-widgets/base",
      "_view_module_version": "1.2.0",
      "_view_name": "StyleView",
      "description_width": ""
     }
    },
    "61a16ccb23b341d3a2b1296d2709154d": {
     "model_module": "@jupyter-widgets/controls",
     "model_name": "DescriptionStyleModel",
     "state": {
      "_model_module": "@jupyter-widgets/controls",
      "_model_module_version": "1.5.0",
      "_model_name": "DescriptionStyleModel",
      "_view_count": null,
      "_view_module": "@jupyter-widgets/base",
      "_view_module_version": "1.2.0",
      "_view_name": "StyleView",
      "description_width": ""
     }
    },
    "6210bc85d6084baa9339d8c61a9cebb1": {
     "model_module": "@jupyter-widgets/base",
     "model_name": "LayoutModel",
     "state": {
      "_model_module": "@jupyter-widgets/base",
      "_model_module_version": "1.2.0",
      "_model_name": "LayoutModel",
      "_view_count": null,
      "_view_module": "@jupyter-widgets/base",
      "_view_module_version": "1.2.0",
      "_view_name": "LayoutView",
      "align_content": null,
      "align_items": null,
      "align_self": null,
      "border": null,
      "bottom": null,
      "display": null,
      "flex": null,
      "flex_flow": null,
      "grid_area": null,
      "grid_auto_columns": null,
      "grid_auto_flow": null,
      "grid_auto_rows": null,
      "grid_column": null,
      "grid_gap": null,
      "grid_row": null,
      "grid_template_areas": null,
      "grid_template_columns": null,
      "grid_template_rows": null,
      "height": null,
      "justify_content": null,
      "justify_items": null,
      "left": null,
      "margin": null,
      "max_height": null,
      "max_width": null,
      "min_height": null,
      "min_width": null,
      "object_fit": null,
      "object_position": null,
      "order": null,
      "overflow": null,
      "overflow_x": null,
      "overflow_y": null,
      "padding": null,
      "right": null,
      "top": null,
      "visibility": null,
      "width": null
     }
    },
    "635e85b77f124c818e719c571ddce761": {
     "model_module": "@jupyter-widgets/base",
     "model_name": "LayoutModel",
     "state": {
      "_model_module": "@jupyter-widgets/base",
      "_model_module_version": "1.2.0",
      "_model_name": "LayoutModel",
      "_view_count": null,
      "_view_module": "@jupyter-widgets/base",
      "_view_module_version": "1.2.0",
      "_view_name": "LayoutView",
      "align_content": null,
      "align_items": null,
      "align_self": null,
      "border": null,
      "bottom": null,
      "display": null,
      "flex": null,
      "flex_flow": null,
      "grid_area": null,
      "grid_auto_columns": null,
      "grid_auto_flow": null,
      "grid_auto_rows": null,
      "grid_column": null,
      "grid_gap": null,
      "grid_row": null,
      "grid_template_areas": null,
      "grid_template_columns": null,
      "grid_template_rows": null,
      "height": null,
      "justify_content": null,
      "justify_items": null,
      "left": null,
      "margin": null,
      "max_height": null,
      "max_width": null,
      "min_height": null,
      "min_width": null,
      "object_fit": null,
      "object_position": null,
      "order": null,
      "overflow": null,
      "overflow_x": null,
      "overflow_y": null,
      "padding": null,
      "right": null,
      "top": null,
      "visibility": null,
      "width": null
     }
    },
    "63be850c06de44409bbf1559bbb89b81": {
     "model_module": "@jupyter-widgets/controls",
     "model_name": "ProgressStyleModel",
     "state": {
      "_model_module": "@jupyter-widgets/controls",
      "_model_module_version": "1.5.0",
      "_model_name": "ProgressStyleModel",
      "_view_count": null,
      "_view_module": "@jupyter-widgets/base",
      "_view_module_version": "1.2.0",
      "_view_name": "StyleView",
      "bar_color": null,
      "description_width": "initial"
     }
    },
    "65018498ec064d41912498864c6136e4": {
     "model_module": "@jupyter-widgets/controls",
     "model_name": "HBoxModel",
     "state": {
      "_dom_classes": [],
      "_model_module": "@jupyter-widgets/controls",
      "_model_module_version": "1.5.0",
      "_model_name": "HBoxModel",
      "_view_count": null,
      "_view_module": "@jupyter-widgets/controls",
      "_view_module_version": "1.5.0",
      "_view_name": "HBoxView",
      "box_style": "",
      "children": [
       "IPY_MODEL_08d5c08a6dba4967bc0f8e99d5890ff1",
       "IPY_MODEL_87599501d2114ebfaf0cff168e669d56"
      ],
      "layout": "IPY_MODEL_a4c06561fb7d439c944a64f2130fbf88"
     }
    },
    "6e03349d5f164bc4aff9eb304ea99761": {
     "model_module": "@jupyter-widgets/controls",
     "model_name": "DescriptionStyleModel",
     "state": {
      "_model_module": "@jupyter-widgets/controls",
      "_model_module_version": "1.5.0",
      "_model_name": "DescriptionStyleModel",
      "_view_count": null,
      "_view_module": "@jupyter-widgets/base",
      "_view_module_version": "1.2.0",
      "_view_name": "StyleView",
      "description_width": ""
     }
    },
    "6fc0a0c12a0b4ec89eaf002571395e8c": {
     "model_module": "@jupyter-widgets/base",
     "model_name": "LayoutModel",
     "state": {
      "_model_module": "@jupyter-widgets/base",
      "_model_module_version": "1.2.0",
      "_model_name": "LayoutModel",
      "_view_count": null,
      "_view_module": "@jupyter-widgets/base",
      "_view_module_version": "1.2.0",
      "_view_name": "LayoutView",
      "align_content": null,
      "align_items": null,
      "align_self": null,
      "border": null,
      "bottom": null,
      "display": null,
      "flex": null,
      "flex_flow": null,
      "grid_area": null,
      "grid_auto_columns": null,
      "grid_auto_flow": null,
      "grid_auto_rows": null,
      "grid_column": null,
      "grid_gap": null,
      "grid_row": null,
      "grid_template_areas": null,
      "grid_template_columns": null,
      "grid_template_rows": null,
      "height": null,
      "justify_content": null,
      "justify_items": null,
      "left": null,
      "margin": null,
      "max_height": null,
      "max_width": null,
      "min_height": null,
      "min_width": null,
      "object_fit": null,
      "object_position": null,
      "order": null,
      "overflow": null,
      "overflow_x": null,
      "overflow_y": null,
      "padding": null,
      "right": null,
      "top": null,
      "visibility": null,
      "width": null
     }
    },
    "7125ae161cae4dc88adb76fb3aa468b9": {
     "model_module": "@jupyter-widgets/base",
     "model_name": "LayoutModel",
     "state": {
      "_model_module": "@jupyter-widgets/base",
      "_model_module_version": "1.2.0",
      "_model_name": "LayoutModel",
      "_view_count": null,
      "_view_module": "@jupyter-widgets/base",
      "_view_module_version": "1.2.0",
      "_view_name": "LayoutView",
      "align_content": null,
      "align_items": null,
      "align_self": null,
      "border": null,
      "bottom": null,
      "display": null,
      "flex": null,
      "flex_flow": null,
      "grid_area": null,
      "grid_auto_columns": null,
      "grid_auto_flow": null,
      "grid_auto_rows": null,
      "grid_column": null,
      "grid_gap": null,
      "grid_row": null,
      "grid_template_areas": null,
      "grid_template_columns": null,
      "grid_template_rows": null,
      "height": null,
      "justify_content": null,
      "justify_items": null,
      "left": null,
      "margin": null,
      "max_height": null,
      "max_width": null,
      "min_height": null,
      "min_width": null,
      "object_fit": null,
      "object_position": null,
      "order": null,
      "overflow": null,
      "overflow_x": null,
      "overflow_y": null,
      "padding": null,
      "right": null,
      "top": null,
      "visibility": null,
      "width": null
     }
    },
    "722e6026e95e416c82c3743e2b46dae7": {
     "model_module": "@jupyter-widgets/controls",
     "model_name": "ProgressStyleModel",
     "state": {
      "_model_module": "@jupyter-widgets/controls",
      "_model_module_version": "1.5.0",
      "_model_name": "ProgressStyleModel",
      "_view_count": null,
      "_view_module": "@jupyter-widgets/base",
      "_view_module_version": "1.2.0",
      "_view_name": "StyleView",
      "bar_color": null,
      "description_width": "initial"
     }
    },
    "729577a77c66471db30cc30d88f39673": {
     "model_module": "@jupyter-widgets/controls",
     "model_name": "HTMLModel",
     "state": {
      "_dom_classes": [],
      "_model_module": "@jupyter-widgets/controls",
      "_model_module_version": "1.5.0",
      "_model_name": "HTMLModel",
      "_view_count": null,
      "_view_module": "@jupyter-widgets/controls",
      "_view_module_version": "1.5.0",
      "_view_name": "HTMLView",
      "description": "",
      "description_tooltip": null,
      "layout": "IPY_MODEL_906db6e8395240dbbd9de42116cfadd9",
      "placeholder": "​",
      "style": "IPY_MODEL_6e03349d5f164bc4aff9eb304ea99761",
      "value": " 5950/5950 [13:51&lt;00:00,  7.15it/s]"
     }
    },
    "72d2ab24343c477aa39a00d6719639bc": {
     "model_module": "@jupyter-widgets/base",
     "model_name": "LayoutModel",
     "state": {
      "_model_module": "@jupyter-widgets/base",
      "_model_module_version": "1.2.0",
      "_model_name": "LayoutModel",
      "_view_count": null,
      "_view_module": "@jupyter-widgets/base",
      "_view_module_version": "1.2.0",
      "_view_name": "LayoutView",
      "align_content": null,
      "align_items": null,
      "align_self": null,
      "border": null,
      "bottom": null,
      "display": null,
      "flex": null,
      "flex_flow": null,
      "grid_area": null,
      "grid_auto_columns": null,
      "grid_auto_flow": null,
      "grid_auto_rows": null,
      "grid_column": null,
      "grid_gap": null,
      "grid_row": null,
      "grid_template_areas": null,
      "grid_template_columns": null,
      "grid_template_rows": null,
      "height": null,
      "justify_content": null,
      "justify_items": null,
      "left": null,
      "margin": null,
      "max_height": null,
      "max_width": null,
      "min_height": null,
      "min_width": null,
      "object_fit": null,
      "object_position": null,
      "order": null,
      "overflow": null,
      "overflow_x": null,
      "overflow_y": null,
      "padding": null,
      "right": null,
      "top": null,
      "visibility": null,
      "width": null
     }
    },
    "73adb9c07a764038b4e697182ebd8128": {
     "model_module": "@jupyter-widgets/base",
     "model_name": "LayoutModel",
     "state": {
      "_model_module": "@jupyter-widgets/base",
      "_model_module_version": "1.2.0",
      "_model_name": "LayoutModel",
      "_view_count": null,
      "_view_module": "@jupyter-widgets/base",
      "_view_module_version": "1.2.0",
      "_view_name": "LayoutView",
      "align_content": null,
      "align_items": null,
      "align_self": null,
      "border": null,
      "bottom": null,
      "display": null,
      "flex": null,
      "flex_flow": null,
      "grid_area": null,
      "grid_auto_columns": null,
      "grid_auto_flow": null,
      "grid_auto_rows": null,
      "grid_column": null,
      "grid_gap": null,
      "grid_row": null,
      "grid_template_areas": null,
      "grid_template_columns": null,
      "grid_template_rows": null,
      "height": null,
      "justify_content": null,
      "justify_items": null,
      "left": null,
      "margin": null,
      "max_height": null,
      "max_width": null,
      "min_height": null,
      "min_width": null,
      "object_fit": null,
      "object_position": null,
      "order": null,
      "overflow": null,
      "overflow_x": null,
      "overflow_y": null,
      "padding": null,
      "right": null,
      "top": null,
      "visibility": null,
      "width": null
     }
    },
    "746c4a1019cc456782ac4752d95af0c2": {
     "model_module": "@jupyter-widgets/controls",
     "model_name": "ProgressStyleModel",
     "state": {
      "_model_module": "@jupyter-widgets/controls",
      "_model_module_version": "1.5.0",
      "_model_name": "ProgressStyleModel",
      "_view_count": null,
      "_view_module": "@jupyter-widgets/base",
      "_view_module_version": "1.2.0",
      "_view_name": "StyleView",
      "bar_color": null,
      "description_width": "initial"
     }
    },
    "74e3f25499cd4213bf341ceedfdc02b4": {
     "model_module": "@jupyter-widgets/controls",
     "model_name": "DescriptionStyleModel",
     "state": {
      "_model_module": "@jupyter-widgets/controls",
      "_model_module_version": "1.5.0",
      "_model_name": "DescriptionStyleModel",
      "_view_count": null,
      "_view_module": "@jupyter-widgets/base",
      "_view_module_version": "1.2.0",
      "_view_name": "StyleView",
      "description_width": ""
     }
    },
    "7765d2e252d94a3b89d1a6be82fc4fc0": {
     "model_module": "@jupyter-widgets/base",
     "model_name": "LayoutModel",
     "state": {
      "_model_module": "@jupyter-widgets/base",
      "_model_module_version": "1.2.0",
      "_model_name": "LayoutModel",
      "_view_count": null,
      "_view_module": "@jupyter-widgets/base",
      "_view_module_version": "1.2.0",
      "_view_name": "LayoutView",
      "align_content": null,
      "align_items": null,
      "align_self": null,
      "border": null,
      "bottom": null,
      "display": null,
      "flex": null,
      "flex_flow": null,
      "grid_area": null,
      "grid_auto_columns": null,
      "grid_auto_flow": null,
      "grid_auto_rows": null,
      "grid_column": null,
      "grid_gap": null,
      "grid_row": null,
      "grid_template_areas": null,
      "grid_template_columns": null,
      "grid_template_rows": null,
      "height": null,
      "justify_content": null,
      "justify_items": null,
      "left": null,
      "margin": null,
      "max_height": null,
      "max_width": null,
      "min_height": null,
      "min_width": null,
      "object_fit": null,
      "object_position": null,
      "order": null,
      "overflow": null,
      "overflow_x": null,
      "overflow_y": null,
      "padding": null,
      "right": null,
      "top": null,
      "visibility": null,
      "width": null
     }
    },
    "79e00bc9202b4b81853efccbd17bb9a3": {
     "model_module": "@jupyter-widgets/controls",
     "model_name": "ProgressStyleModel",
     "state": {
      "_model_module": "@jupyter-widgets/controls",
      "_model_module_version": "1.5.0",
      "_model_name": "ProgressStyleModel",
      "_view_count": null,
      "_view_module": "@jupyter-widgets/base",
      "_view_module_version": "1.2.0",
      "_view_name": "StyleView",
      "bar_color": null,
      "description_width": "initial"
     }
    },
    "7c44d6f31a214b01b2dac18ae9f1ad29": {
     "model_module": "@jupyter-widgets/controls",
     "model_name": "HTMLModel",
     "state": {
      "_dom_classes": [],
      "_model_module": "@jupyter-widgets/controls",
      "_model_module_version": "1.5.0",
      "_model_name": "HTMLModel",
      "_view_count": null,
      "_view_module": "@jupyter-widgets/controls",
      "_view_module_version": "1.5.0",
      "_view_name": "HTMLView",
      "description": "",
      "description_tooltip": null,
      "layout": "IPY_MODEL_4c5b2ab3729a42d8a0c2bc00cecfa13d",
      "placeholder": "​",
      "style": "IPY_MODEL_74e3f25499cd4213bf341ceedfdc02b4",
      "value": " 21/21 [00:08&lt;00:00,  2.56it/s]"
     }
    },
    "7d2866fa4cbc4bd18ae5fce2958c6748": {
     "model_module": "@jupyter-widgets/base",
     "model_name": "LayoutModel",
     "state": {
      "_model_module": "@jupyter-widgets/base",
      "_model_module_version": "1.2.0",
      "_model_name": "LayoutModel",
      "_view_count": null,
      "_view_module": "@jupyter-widgets/base",
      "_view_module_version": "1.2.0",
      "_view_name": "LayoutView",
      "align_content": null,
      "align_items": null,
      "align_self": null,
      "border": null,
      "bottom": null,
      "display": null,
      "flex": null,
      "flex_flow": null,
      "grid_area": null,
      "grid_auto_columns": null,
      "grid_auto_flow": null,
      "grid_auto_rows": null,
      "grid_column": null,
      "grid_gap": null,
      "grid_row": null,
      "grid_template_areas": null,
      "grid_template_columns": null,
      "grid_template_rows": null,
      "height": null,
      "justify_content": null,
      "justify_items": null,
      "left": null,
      "margin": null,
      "max_height": null,
      "max_width": null,
      "min_height": null,
      "min_width": null,
      "object_fit": null,
      "object_position": null,
      "order": null,
      "overflow": null,
      "overflow_x": null,
      "overflow_y": null,
      "padding": null,
      "right": null,
      "top": null,
      "visibility": null,
      "width": null
     }
    },
    "7daa6e72e8a646e593430d115f0f2ced": {
     "model_module": "@jupyter-widgets/controls",
     "model_name": "HBoxModel",
     "state": {
      "_dom_classes": [],
      "_model_module": "@jupyter-widgets/controls",
      "_model_module_version": "1.5.0",
      "_model_name": "HBoxModel",
      "_view_count": null,
      "_view_module": "@jupyter-widgets/controls",
      "_view_module_version": "1.5.0",
      "_view_name": "HBoxView",
      "box_style": "",
      "children": [
       "IPY_MODEL_d4c57ff6acc0462d95a9c68e6ca39f7b",
       "IPY_MODEL_10d6fc0e58b443ebb9035bdab2b34d48"
      ],
      "layout": "IPY_MODEL_0562bdfb28c54cbfa7c408bb4890e5bc"
     }
    },
    "818971a2ecd04d799af0c144e4039976": {
     "model_module": "@jupyter-widgets/base",
     "model_name": "LayoutModel",
     "state": {
      "_model_module": "@jupyter-widgets/base",
      "_model_module_version": "1.2.0",
      "_model_name": "LayoutModel",
      "_view_count": null,
      "_view_module": "@jupyter-widgets/base",
      "_view_module_version": "1.2.0",
      "_view_name": "LayoutView",
      "align_content": null,
      "align_items": null,
      "align_self": null,
      "border": null,
      "bottom": null,
      "display": null,
      "flex": null,
      "flex_flow": null,
      "grid_area": null,
      "grid_auto_columns": null,
      "grid_auto_flow": null,
      "grid_auto_rows": null,
      "grid_column": null,
      "grid_gap": null,
      "grid_row": null,
      "grid_template_areas": null,
      "grid_template_columns": null,
      "grid_template_rows": null,
      "height": null,
      "justify_content": null,
      "justify_items": null,
      "left": null,
      "margin": null,
      "max_height": null,
      "max_width": null,
      "min_height": null,
      "min_width": null,
      "object_fit": null,
      "object_position": null,
      "order": null,
      "overflow": null,
      "overflow_x": null,
      "overflow_y": null,
      "padding": null,
      "right": null,
      "top": null,
      "visibility": null,
      "width": null
     }
    },
    "83c90173ac5f430a875e0e7c8cc47073": {
     "model_module": "@jupyter-widgets/controls",
     "model_name": "ProgressStyleModel",
     "state": {
      "_model_module": "@jupyter-widgets/controls",
      "_model_module_version": "1.5.0",
      "_model_name": "ProgressStyleModel",
      "_view_count": null,
      "_view_module": "@jupyter-widgets/base",
      "_view_module_version": "1.2.0",
      "_view_name": "StyleView",
      "bar_color": null,
      "description_width": "initial"
     }
    },
    "87599501d2114ebfaf0cff168e669d56": {
     "model_module": "@jupyter-widgets/controls",
     "model_name": "HTMLModel",
     "state": {
      "_dom_classes": [],
      "_model_module": "@jupyter-widgets/controls",
      "_model_module_version": "1.5.0",
      "_model_name": "HTMLModel",
      "_view_count": null,
      "_view_module": "@jupyter-widgets/controls",
      "_view_module_version": "1.5.0",
      "_view_name": "HTMLView",
      "description": "",
      "description_tooltip": null,
      "layout": "IPY_MODEL_e79b232398be4000a846b59796cffaa5",
      "placeholder": "​",
      "style": "IPY_MODEL_9658962e4cc94eb5a59902c2ae9f466f",
      "value": " 462/462 [00:05&lt;00:00, 82.8B/s]"
     }
    },
    "8782ba48572a4cdab7e8cacef72a1da0": {
     "model_module": "@jupyter-widgets/controls",
     "model_name": "FloatProgressModel",
     "state": {
      "_dom_classes": [],
      "_model_module": "@jupyter-widgets/controls",
      "_model_module_version": "1.5.0",
      "_model_name": "FloatProgressModel",
      "_view_count": null,
      "_view_module": "@jupyter-widgets/controls",
      "_view_module_version": "1.5.0",
      "_view_name": "ProgressView",
      "bar_style": "success",
      "description": "100%",
      "description_tooltip": null,
      "layout": "IPY_MODEL_3253cdfb636a49ad84b0e37a172ac3c3",
      "max": 29752,
      "min": 0,
      "orientation": "horizontal",
      "style": "IPY_MODEL_79e00bc9202b4b81853efccbd17bb9a3",
      "value": 29752
     }
    },
    "89277a2e027541ef9eb50001fc004e02": {
     "model_module": "@jupyter-widgets/base",
     "model_name": "LayoutModel",
     "state": {
      "_model_module": "@jupyter-widgets/base",
      "_model_module_version": "1.2.0",
      "_model_name": "LayoutModel",
      "_view_count": null,
      "_view_module": "@jupyter-widgets/base",
      "_view_module_version": "1.2.0",
      "_view_name": "LayoutView",
      "align_content": null,
      "align_items": null,
      "align_self": null,
      "border": null,
      "bottom": null,
      "display": null,
      "flex": null,
      "flex_flow": null,
      "grid_area": null,
      "grid_auto_columns": null,
      "grid_auto_flow": null,
      "grid_auto_rows": null,
      "grid_column": null,
      "grid_gap": null,
      "grid_row": null,
      "grid_template_areas": null,
      "grid_template_columns": null,
      "grid_template_rows": null,
      "height": null,
      "justify_content": null,
      "justify_items": null,
      "left": null,
      "margin": null,
      "max_height": null,
      "max_width": null,
      "min_height": null,
      "min_width": null,
      "object_fit": null,
      "object_position": null,
      "order": null,
      "overflow": null,
      "overflow_x": null,
      "overflow_y": null,
      "padding": null,
      "right": null,
      "top": null,
      "visibility": null,
      "width": null
     }
    },
    "89bb17d2e5ce40749999e31dbf9a5df0": {
     "model_module": "@jupyter-widgets/controls",
     "model_name": "ProgressStyleModel",
     "state": {
      "_model_module": "@jupyter-widgets/controls",
      "_model_module_version": "1.5.0",
      "_model_name": "ProgressStyleModel",
      "_view_count": null,
      "_view_module": "@jupyter-widgets/base",
      "_view_module_version": "1.2.0",
      "_view_name": "StyleView",
      "bar_color": null,
      "description_width": "initial"
     }
    },
    "8a41533e8b4c47429025e96f9d32b078": {
     "model_module": "@jupyter-widgets/controls",
     "model_name": "FloatProgressModel",
     "state": {
      "_dom_classes": [],
      "_model_module": "@jupyter-widgets/controls",
      "_model_module_version": "1.5.0",
      "_model_name": "FloatProgressModel",
      "_view_count": null,
      "_view_module": "@jupyter-widgets/controls",
      "_view_module_version": "1.5.0",
      "_view_name": "ProgressView",
      "bar_style": "success",
      "description": "100%",
      "description_tooltip": null,
      "layout": "IPY_MODEL_f7c3e2ab88e44868ad25308310e571bb",
      "max": 11901,
      "min": 0,
      "orientation": "horizontal",
      "style": "IPY_MODEL_c55f630fecc54445ab322cefee3eb2aa",
      "value": 11901
     }
    },
    "8f5e7392fca746a4919c971d587603c8": {
     "model_module": "@jupyter-widgets/controls",
     "model_name": "FloatProgressModel",
     "state": {
      "_dom_classes": [],
      "_model_module": "@jupyter-widgets/controls",
      "_model_module_version": "1.5.0",
      "_model_name": "FloatProgressModel",
      "_view_count": null,
      "_view_module": "@jupyter-widgets/controls",
      "_view_module_version": "1.5.0",
      "_view_name": "ProgressView",
      "bar_style": "success",
      "description": "Downloading: 100%",
      "description_tooltip": null,
      "layout": "IPY_MODEL_cc28b7bf09434cf8b15f8ec2ab8874fa",
      "max": 433503000,
      "min": 0,
      "orientation": "horizontal",
      "style": "IPY_MODEL_89bb17d2e5ce40749999e31dbf9a5df0",
      "value": 433503000
     }
    },
    "906db6e8395240dbbd9de42116cfadd9": {
     "model_module": "@jupyter-widgets/base",
     "model_name": "LayoutModel",
     "state": {
      "_model_module": "@jupyter-widgets/base",
      "_model_module_version": "1.2.0",
      "_model_name": "LayoutModel",
      "_view_count": null,
      "_view_module": "@jupyter-widgets/base",
      "_view_module_version": "1.2.0",
      "_view_name": "LayoutView",
      "align_content": null,
      "align_items": null,
      "align_self": null,
      "border": null,
      "bottom": null,
      "display": null,
      "flex": null,
      "flex_flow": null,
      "grid_area": null,
      "grid_auto_columns": null,
      "grid_auto_flow": null,
      "grid_auto_rows": null,
      "grid_column": null,
      "grid_gap": null,
      "grid_row": null,
      "grid_template_areas": null,
      "grid_template_columns": null,
      "grid_template_rows": null,
      "height": null,
      "justify_content": null,
      "justify_items": null,
      "left": null,
      "margin": null,
      "max_height": null,
      "max_width": null,
      "min_height": null,
      "min_width": null,
      "object_fit": null,
      "object_position": null,
      "order": null,
      "overflow": null,
      "overflow_x": null,
      "overflow_y": null,
      "padding": null,
      "right": null,
      "top": null,
      "visibility": null,
      "width": null
     }
    },
    "95a3667c7c6e4a30968bf38bc11ec102": {
     "model_module": "@jupyter-widgets/controls",
     "model_name": "DescriptionStyleModel",
     "state": {
      "_model_module": "@jupyter-widgets/controls",
      "_model_module_version": "1.5.0",
      "_model_name": "DescriptionStyleModel",
      "_view_count": null,
      "_view_module": "@jupyter-widgets/base",
      "_view_module_version": "1.2.0",
      "_view_name": "StyleView",
      "description_width": ""
     }
    },
    "9658962e4cc94eb5a59902c2ae9f466f": {
     "model_module": "@jupyter-widgets/controls",
     "model_name": "DescriptionStyleModel",
     "state": {
      "_model_module": "@jupyter-widgets/controls",
      "_model_module_version": "1.5.0",
      "_model_name": "DescriptionStyleModel",
      "_view_count": null,
      "_view_module": "@jupyter-widgets/base",
      "_view_module_version": "1.2.0",
      "_view_name": "StyleView",
      "description_width": ""
     }
    },
    "984438296fee45daa28b574e0abc7bac": {
     "model_module": "@jupyter-widgets/controls",
     "model_name": "FloatProgressModel",
     "state": {
      "_dom_classes": [],
      "_model_module": "@jupyter-widgets/controls",
      "_model_module_version": "1.5.0",
      "_model_name": "FloatProgressModel",
      "_view_count": null,
      "_view_module": "@jupyter-widgets/controls",
      "_view_module_version": "1.5.0",
      "_view_name": "ProgressView",
      "bar_style": "success",
      "description": "100%",
      "description_tooltip": null,
      "layout": "IPY_MODEL_6210bc85d6084baa9339d8c61a9cebb1",
      "max": 11901,
      "min": 0,
      "orientation": "horizontal",
      "style": "IPY_MODEL_0de02399eb8e442aa7718d1d9ca297df",
      "value": 11901
     }
    },
    "99d729853a2d4b88a4c54b94287d102a": {
     "model_module": "@jupyter-widgets/base",
     "model_name": "LayoutModel",
     "state": {
      "_model_module": "@jupyter-widgets/base",
      "_model_module_version": "1.2.0",
      "_model_name": "LayoutModel",
      "_view_count": null,
      "_view_module": "@jupyter-widgets/base",
      "_view_module_version": "1.2.0",
      "_view_name": "LayoutView",
      "align_content": null,
      "align_items": null,
      "align_self": null,
      "border": null,
      "bottom": null,
      "display": null,
      "flex": null,
      "flex_flow": null,
      "grid_area": null,
      "grid_auto_columns": null,
      "grid_auto_flow": null,
      "grid_auto_rows": null,
      "grid_column": null,
      "grid_gap": null,
      "grid_row": null,
      "grid_template_areas": null,
      "grid_template_columns": null,
      "grid_template_rows": null,
      "height": null,
      "justify_content": null,
      "justify_items": null,
      "left": null,
      "margin": null,
      "max_height": null,
      "max_width": null,
      "min_height": null,
      "min_width": null,
      "object_fit": null,
      "object_position": null,
      "order": null,
      "overflow": null,
      "overflow_x": null,
      "overflow_y": null,
      "padding": null,
      "right": null,
      "top": null,
      "visibility": null,
      "width": null
     }
    },
    "9a25809ded9e421ea0187b1e208e67a8": {
     "model_module": "@jupyter-widgets/base",
     "model_name": "LayoutModel",
     "state": {
      "_model_module": "@jupyter-widgets/base",
      "_model_module_version": "1.2.0",
      "_model_name": "LayoutModel",
      "_view_count": null,
      "_view_module": "@jupyter-widgets/base",
      "_view_module_version": "1.2.0",
      "_view_name": "LayoutView",
      "align_content": null,
      "align_items": null,
      "align_self": null,
      "border": null,
      "bottom": null,
      "display": null,
      "flex": null,
      "flex_flow": null,
      "grid_area": null,
      "grid_auto_columns": null,
      "grid_auto_flow": null,
      "grid_auto_rows": null,
      "grid_column": null,
      "grid_gap": null,
      "grid_row": null,
      "grid_template_areas": null,
      "grid_template_columns": null,
      "grid_template_rows": null,
      "height": null,
      "justify_content": null,
      "justify_items": null,
      "left": null,
      "margin": null,
      "max_height": null,
      "max_width": null,
      "min_height": null,
      "min_width": null,
      "object_fit": null,
      "object_position": null,
      "order": null,
      "overflow": null,
      "overflow_x": null,
      "overflow_y": null,
      "padding": null,
      "right": null,
      "top": null,
      "visibility": null,
      "width": null
     }
    },
    "a139b2da98eb4b3fa081418ba7e78902": {
     "model_module": "@jupyter-widgets/controls",
     "model_name": "HBoxModel",
     "state": {
      "_dom_classes": [],
      "_model_module": "@jupyter-widgets/controls",
      "_model_module_version": "1.5.0",
      "_model_name": "HBoxModel",
      "_view_count": null,
      "_view_module": "@jupyter-widgets/controls",
      "_view_module_version": "1.5.0",
      "_view_name": "HBoxView",
      "box_style": "",
      "children": [
       "IPY_MODEL_d8e90b80b68849d08515fbd61ae44efb",
       "IPY_MODEL_00ee7b72e9e24616b64a21060f179cf6"
      ],
      "layout": "IPY_MODEL_99d729853a2d4b88a4c54b94287d102a"
     }
    },
    "a4c06561fb7d439c944a64f2130fbf88": {
     "model_module": "@jupyter-widgets/base",
     "model_name": "LayoutModel",
     "state": {
      "_model_module": "@jupyter-widgets/base",
      "_model_module_version": "1.2.0",
      "_model_name": "LayoutModel",
      "_view_count": null,
      "_view_module": "@jupyter-widgets/base",
      "_view_module_version": "1.2.0",
      "_view_name": "LayoutView",
      "align_content": null,
      "align_items": null,
      "align_self": null,
      "border": null,
      "bottom": null,
      "display": null,
      "flex": null,
      "flex_flow": null,
      "grid_area": null,
      "grid_auto_columns": null,
      "grid_auto_flow": null,
      "grid_auto_rows": null,
      "grid_column": null,
      "grid_gap": null,
      "grid_row": null,
      "grid_template_areas": null,
      "grid_template_columns": null,
      "grid_template_rows": null,
      "height": null,
      "justify_content": null,
      "justify_items": null,
      "left": null,
      "margin": null,
      "max_height": null,
      "max_width": null,
      "min_height": null,
      "min_width": null,
      "object_fit": null,
      "object_position": null,
      "order": null,
      "overflow": null,
      "overflow_x": null,
      "overflow_y": null,
      "padding": null,
      "right": null,
      "top": null,
      "visibility": null,
      "width": null
     }
    },
    "a53896887dcd4593b165bf6ecd764e3b": {
     "model_module": "@jupyter-widgets/base",
     "model_name": "LayoutModel",
     "state": {
      "_model_module": "@jupyter-widgets/base",
      "_model_module_version": "1.2.0",
      "_model_name": "LayoutModel",
      "_view_count": null,
      "_view_module": "@jupyter-widgets/base",
      "_view_module_version": "1.2.0",
      "_view_name": "LayoutView",
      "align_content": null,
      "align_items": null,
      "align_self": null,
      "border": null,
      "bottom": null,
      "display": null,
      "flex": null,
      "flex_flow": null,
      "grid_area": null,
      "grid_auto_columns": null,
      "grid_auto_flow": null,
      "grid_auto_rows": null,
      "grid_column": null,
      "grid_gap": null,
      "grid_row": null,
      "grid_template_areas": null,
      "grid_template_columns": null,
      "grid_template_rows": null,
      "height": null,
      "justify_content": null,
      "justify_items": null,
      "left": null,
      "margin": null,
      "max_height": null,
      "max_width": null,
      "min_height": null,
      "min_width": null,
      "object_fit": null,
      "object_position": null,
      "order": null,
      "overflow": null,
      "overflow_x": null,
      "overflow_y": null,
      "padding": null,
      "right": null,
      "top": null,
      "visibility": null,
      "width": null
     }
    },
    "a6c428e2ebe54f32b7e87c6211011562": {
     "model_module": "@jupyter-widgets/controls",
     "model_name": "DescriptionStyleModel",
     "state": {
      "_model_module": "@jupyter-widgets/controls",
      "_model_module_version": "1.5.0",
      "_model_name": "DescriptionStyleModel",
      "_view_count": null,
      "_view_module": "@jupyter-widgets/base",
      "_view_module_version": "1.2.0",
      "_view_name": "StyleView",
      "description_width": ""
     }
    },
    "a7286a62b1c2475a8cc4370cea435b6f": {
     "model_module": "@jupyter-widgets/controls",
     "model_name": "FloatProgressModel",
     "state": {
      "_dom_classes": [],
      "_model_module": "@jupyter-widgets/controls",
      "_model_module_version": "1.5.0",
      "_model_name": "FloatProgressModel",
      "_view_count": null,
      "_view_module": "@jupyter-widgets/controls",
      "_view_module_version": "1.5.0",
      "_view_name": "ProgressView",
      "bar_style": "success",
      "description": "100%",
      "description_tooltip": null,
      "layout": "IPY_MODEL_7d2866fa4cbc4bd18ae5fce2958c6748",
      "max": 21,
      "min": 0,
      "orientation": "horizontal",
      "style": "IPY_MODEL_bb0e54c5180a456ab402a5b19149df13",
      "value": 21
     }
    },
    "a759d19122854620991002a0fda238ee": {
     "model_module": "@jupyter-widgets/controls",
     "model_name": "HBoxModel",
     "state": {
      "_dom_classes": [],
      "_model_module": "@jupyter-widgets/controls",
      "_model_module_version": "1.5.0",
      "_model_name": "HBoxModel",
      "_view_count": null,
      "_view_module": "@jupyter-widgets/controls",
      "_view_module_version": "1.5.0",
      "_view_name": "HBoxView",
      "box_style": "",
      "children": [
       "IPY_MODEL_3464fdf5b7a24289b9274099068c8de1",
       "IPY_MODEL_51d06128a21f4d15ba0c7aa4b1a2337c"
      ],
      "layout": "IPY_MODEL_4ab5c680833141c6a53ce3407dd9cba8"
     }
    },
    "a936668c3ca247cda04a3611ddb2ea5f": {
     "model_module": "@jupyter-widgets/controls",
     "model_name": "HBoxModel",
     "state": {
      "_dom_classes": [],
      "_model_module": "@jupyter-widgets/controls",
      "_model_module_version": "1.5.0",
      "_model_name": "HBoxModel",
      "_view_count": null,
      "_view_module": "@jupyter-widgets/controls",
      "_view_module_version": "1.5.0",
      "_view_name": "HBoxView",
      "box_style": "",
      "children": [
       "IPY_MODEL_8782ba48572a4cdab7e8cacef72a1da0",
       "IPY_MODEL_e8f1cda2e6224b44985ef8b5e0b60454"
      ],
      "layout": "IPY_MODEL_33a61a9f455644c782bdee4ab9d097bf"
     }
    },
    "ad0606d7e2f349b4bd16dbde65344049": {
     "model_module": "@jupyter-widgets/controls",
     "model_name": "HTMLModel",
     "state": {
      "_dom_classes": [],
      "_model_module": "@jupyter-widgets/controls",
      "_model_module_version": "1.5.0",
      "_model_name": "HTMLModel",
      "_view_count": null,
      "_view_module": "@jupyter-widgets/controls",
      "_view_module_version": "1.5.0",
      "_view_name": "HTMLView",
      "description": "",
      "description_tooltip": null,
      "layout": "IPY_MODEL_39267dff22c5487d9608114796b3f89a",
      "placeholder": "​",
      "style": "IPY_MODEL_a6c428e2ebe54f32b7e87c6211011562",
      "value": " 21/21 [00:41&lt;00:00,  2.00s/it]"
     }
    },
    "ad3e132e70564efbbe5a5be556ade78e": {
     "model_module": "@jupyter-widgets/base",
     "model_name": "LayoutModel",
     "state": {
      "_model_module": "@jupyter-widgets/base",
      "_model_module_version": "1.2.0",
      "_model_name": "LayoutModel",
      "_view_count": null,
      "_view_module": "@jupyter-widgets/base",
      "_view_module_version": "1.2.0",
      "_view_name": "LayoutView",
      "align_content": null,
      "align_items": null,
      "align_self": null,
      "border": null,
      "bottom": null,
      "display": null,
      "flex": null,
      "flex_flow": null,
      "grid_area": null,
      "grid_auto_columns": null,
      "grid_auto_flow": null,
      "grid_auto_rows": null,
      "grid_column": null,
      "grid_gap": null,
      "grid_row": null,
      "grid_template_areas": null,
      "grid_template_columns": null,
      "grid_template_rows": null,
      "height": null,
      "justify_content": null,
      "justify_items": null,
      "left": null,
      "margin": null,
      "max_height": null,
      "max_width": null,
      "min_height": null,
      "min_width": null,
      "object_fit": null,
      "object_position": null,
      "order": null,
      "overflow": null,
      "overflow_x": null,
      "overflow_y": null,
      "padding": null,
      "right": null,
      "top": null,
      "visibility": null,
      "width": null
     }
    },
    "b482dd927b224608a4cd3c2ddabba701": {
     "model_module": "@jupyter-widgets/controls",
     "model_name": "HBoxModel",
     "state": {
      "_dom_classes": [],
      "_model_module": "@jupyter-widgets/controls",
      "_model_module_version": "1.5.0",
      "_model_name": "HBoxModel",
      "_view_count": null,
      "_view_module": "@jupyter-widgets/controls",
      "_view_module_version": "1.5.0",
      "_view_name": "HBoxView",
      "box_style": "",
      "children": [
       "IPY_MODEL_a7286a62b1c2475a8cc4370cea435b6f",
       "IPY_MODEL_7c44d6f31a214b01b2dac18ae9f1ad29"
      ],
      "layout": "IPY_MODEL_7125ae161cae4dc88adb76fb3aa468b9"
     }
    },
    "b6f799f9ce6e48bf931b7775eae1e06f": {
     "model_module": "@jupyter-widgets/base",
     "model_name": "LayoutModel",
     "state": {
      "_model_module": "@jupyter-widgets/base",
      "_model_module_version": "1.2.0",
      "_model_name": "LayoutModel",
      "_view_count": null,
      "_view_module": "@jupyter-widgets/base",
      "_view_module_version": "1.2.0",
      "_view_name": "LayoutView",
      "align_content": null,
      "align_items": null,
      "align_self": null,
      "border": null,
      "bottom": null,
      "display": null,
      "flex": null,
      "flex_flow": null,
      "grid_area": null,
      "grid_auto_columns": null,
      "grid_auto_flow": null,
      "grid_auto_rows": null,
      "grid_column": null,
      "grid_gap": null,
      "grid_row": null,
      "grid_template_areas": null,
      "grid_template_columns": null,
      "grid_template_rows": null,
      "height": null,
      "justify_content": null,
      "justify_items": null,
      "left": null,
      "margin": null,
      "max_height": null,
      "max_width": null,
      "min_height": null,
      "min_width": null,
      "object_fit": null,
      "object_position": null,
      "order": null,
      "overflow": null,
      "overflow_x": null,
      "overflow_y": null,
      "padding": null,
      "right": null,
      "top": null,
      "visibility": null,
      "width": null
     }
    },
    "b7d5dab680ac4cbc82d904aa7310dcff": {
     "model_module": "@jupyter-widgets/controls",
     "model_name": "HTMLModel",
     "state": {
      "_dom_classes": [],
      "_model_module": "@jupyter-widgets/controls",
      "_model_module_version": "1.5.0",
      "_model_name": "HTMLModel",
      "_view_count": null,
      "_view_module": "@jupyter-widgets/controls",
      "_view_module_version": "1.5.0",
      "_view_name": "HTMLView",
      "description": "",
      "description_tooltip": null,
      "layout": "IPY_MODEL_e65fde371ad1479c852b00f87345c55f",
      "placeholder": "​",
      "style": "IPY_MODEL_141db3029d0543629ef07bbefe72c1c9",
      "value": " 11901/11901 [23:09&lt;00:00,  8.57it/s]"
     }
    },
    "b9728fc3f2f646fd9f48f1b9a40dd5ed": {
     "model_module": "@jupyter-widgets/controls",
     "model_name": "ProgressStyleModel",
     "state": {
      "_model_module": "@jupyter-widgets/controls",
      "_model_module_version": "1.5.0",
      "_model_name": "ProgressStyleModel",
      "_view_count": null,
      "_view_module": "@jupyter-widgets/base",
      "_view_module_version": "1.2.0",
      "_view_name": "StyleView",
      "bar_color": null,
      "description_width": "initial"
     }
    },
    "bb0e54c5180a456ab402a5b19149df13": {
     "model_module": "@jupyter-widgets/controls",
     "model_name": "ProgressStyleModel",
     "state": {
      "_model_module": "@jupyter-widgets/controls",
      "_model_module_version": "1.5.0",
      "_model_name": "ProgressStyleModel",
      "_view_count": null,
      "_view_module": "@jupyter-widgets/base",
      "_view_module_version": "1.2.0",
      "_view_name": "StyleView",
      "bar_color": null,
      "description_width": "initial"
     }
    },
    "c55f630fecc54445ab322cefee3eb2aa": {
     "model_module": "@jupyter-widgets/controls",
     "model_name": "ProgressStyleModel",
     "state": {
      "_model_module": "@jupyter-widgets/controls",
      "_model_module_version": "1.5.0",
      "_model_name": "ProgressStyleModel",
      "_view_count": null,
      "_view_module": "@jupyter-widgets/base",
      "_view_module_version": "1.2.0",
      "_view_name": "StyleView",
      "bar_color": null,
      "description_width": "initial"
     }
    },
    "c649296c97d54b1bbacb3b5db8d78daf": {
     "model_module": "@jupyter-widgets/controls",
     "model_name": "HTMLModel",
     "state": {
      "_dom_classes": [],
      "_model_module": "@jupyter-widgets/controls",
      "_model_module_version": "1.5.0",
      "_model_name": "HTMLModel",
      "_view_count": null,
      "_view_module": "@jupyter-widgets/controls",
      "_view_module_version": "1.5.0",
      "_view_name": "HTMLView",
      "description": "",
      "description_tooltip": null,
      "layout": "IPY_MODEL_f36041888d61444882b1727bfabaea57",
      "placeholder": "​",
      "style": "IPY_MODEL_fa4e406f0bec4b67a308bd7e458abf4b",
      "value": " 5950/5950 [06:47&lt;00:00, 14.58it/s]"
     }
    },
    "cbc125898eeb4c3987b8c2fe6c7f5e63": {
     "model_module": "@jupyter-widgets/controls",
     "model_name": "DescriptionStyleModel",
     "state": {
      "_model_module": "@jupyter-widgets/controls",
      "_model_module_version": "1.5.0",
      "_model_name": "DescriptionStyleModel",
      "_view_count": null,
      "_view_module": "@jupyter-widgets/base",
      "_view_module_version": "1.2.0",
      "_view_name": "StyleView",
      "description_width": ""
     }
    },
    "cc28b7bf09434cf8b15f8ec2ab8874fa": {
     "model_module": "@jupyter-widgets/base",
     "model_name": "LayoutModel",
     "state": {
      "_model_module": "@jupyter-widgets/base",
      "_model_module_version": "1.2.0",
      "_model_name": "LayoutModel",
      "_view_count": null,
      "_view_module": "@jupyter-widgets/base",
      "_view_module_version": "1.2.0",
      "_view_name": "LayoutView",
      "align_content": null,
      "align_items": null,
      "align_self": null,
      "border": null,
      "bottom": null,
      "display": null,
      "flex": null,
      "flex_flow": null,
      "grid_area": null,
      "grid_auto_columns": null,
      "grid_auto_flow": null,
      "grid_auto_rows": null,
      "grid_column": null,
      "grid_gap": null,
      "grid_row": null,
      "grid_template_areas": null,
      "grid_template_columns": null,
      "grid_template_rows": null,
      "height": null,
      "justify_content": null,
      "justify_items": null,
      "left": null,
      "margin": null,
      "max_height": null,
      "max_width": null,
      "min_height": null,
      "min_width": null,
      "object_fit": null,
      "object_position": null,
      "order": null,
      "overflow": null,
      "overflow_x": null,
      "overflow_y": null,
      "padding": null,
      "right": null,
      "top": null,
      "visibility": null,
      "width": null
     }
    },
    "d0621090ac6d41799979ff83bdb20595": {
     "model_module": "@jupyter-widgets/base",
     "model_name": "LayoutModel",
     "state": {
      "_model_module": "@jupyter-widgets/base",
      "_model_module_version": "1.2.0",
      "_model_name": "LayoutModel",
      "_view_count": null,
      "_view_module": "@jupyter-widgets/base",
      "_view_module_version": "1.2.0",
      "_view_name": "LayoutView",
      "align_content": null,
      "align_items": null,
      "align_self": null,
      "border": null,
      "bottom": null,
      "display": null,
      "flex": null,
      "flex_flow": null,
      "grid_area": null,
      "grid_auto_columns": null,
      "grid_auto_flow": null,
      "grid_auto_rows": null,
      "grid_column": null,
      "grid_gap": null,
      "grid_row": null,
      "grid_template_areas": null,
      "grid_template_columns": null,
      "grid_template_rows": null,
      "height": null,
      "justify_content": null,
      "justify_items": null,
      "left": null,
      "margin": null,
      "max_height": null,
      "max_width": null,
      "min_height": null,
      "min_width": null,
      "object_fit": null,
      "object_position": null,
      "order": null,
      "overflow": null,
      "overflow_x": null,
      "overflow_y": null,
      "padding": null,
      "right": null,
      "top": null,
      "visibility": null,
      "width": null
     }
    },
    "d0fb647866b841bbb3eaf4dd049276be": {
     "model_module": "@jupyter-widgets/controls",
     "model_name": "HTMLModel",
     "state": {
      "_dom_classes": [],
      "_model_module": "@jupyter-widgets/controls",
      "_model_module_version": "1.5.0",
      "_model_name": "HTMLModel",
      "_view_count": null,
      "_view_module": "@jupyter-widgets/controls",
      "_view_module_version": "1.5.0",
      "_view_name": "HTMLView",
      "description": "",
      "description_tooltip": null,
      "layout": "IPY_MODEL_4fb6b7d5a58f44d2badbb3956bdddc6b",
      "placeholder": "​",
      "style": "IPY_MODEL_61478d924bea42f1ab04b3d7972d5dc5",
      "value": " 21/21 [00:57&lt;00:00,  2.74s/it]"
     }
    },
    "d25e9f98ff3849cc975302f96e448d82": {
     "model_module": "@jupyter-widgets/controls",
     "model_name": "ProgressStyleModel",
     "state": {
      "_model_module": "@jupyter-widgets/controls",
      "_model_module_version": "1.5.0",
      "_model_name": "ProgressStyleModel",
      "_view_count": null,
      "_view_module": "@jupyter-widgets/base",
      "_view_module_version": "1.2.0",
      "_view_name": "StyleView",
      "bar_color": null,
      "description_width": "initial"
     }
    },
    "d36ce15e8db64364b5ebd31d70e30c0d": {
     "model_module": "@jupyter-widgets/base",
     "model_name": "LayoutModel",
     "state": {
      "_model_module": "@jupyter-widgets/base",
      "_model_module_version": "1.2.0",
      "_model_name": "LayoutModel",
      "_view_count": null,
      "_view_module": "@jupyter-widgets/base",
      "_view_module_version": "1.2.0",
      "_view_name": "LayoutView",
      "align_content": null,
      "align_items": null,
      "align_self": null,
      "border": null,
      "bottom": null,
      "display": null,
      "flex": null,
      "flex_flow": null,
      "grid_area": null,
      "grid_auto_columns": null,
      "grid_auto_flow": null,
      "grid_auto_rows": null,
      "grid_column": null,
      "grid_gap": null,
      "grid_row": null,
      "grid_template_areas": null,
      "grid_template_columns": null,
      "grid_template_rows": null,
      "height": null,
      "justify_content": null,
      "justify_items": null,
      "left": null,
      "margin": null,
      "max_height": null,
      "max_width": null,
      "min_height": null,
      "min_width": null,
      "object_fit": null,
      "object_position": null,
      "order": null,
      "overflow": null,
      "overflow_x": null,
      "overflow_y": null,
      "padding": null,
      "right": null,
      "top": null,
      "visibility": null,
      "width": null
     }
    },
    "d4c57ff6acc0462d95a9c68e6ca39f7b": {
     "model_module": "@jupyter-widgets/controls",
     "model_name": "FloatProgressModel",
     "state": {
      "_dom_classes": [],
      "_model_module": "@jupyter-widgets/controls",
      "_model_module_version": "1.5.0",
      "_model_name": "FloatProgressModel",
      "_view_count": null,
      "_view_module": "@jupyter-widgets/controls",
      "_view_module_version": "1.5.0",
      "_view_name": "ProgressView",
      "bar_style": "success",
      "description": "Downloading: 100%",
      "description_tooltip": null,
      "layout": "IPY_MODEL_d36ce15e8db64364b5ebd31d70e30c0d",
      "max": 85,
      "min": 0,
      "orientation": "horizontal",
      "style": "IPY_MODEL_722e6026e95e416c82c3743e2b46dae7",
      "value": 85
     }
    },
    "d8e90b80b68849d08515fbd61ae44efb": {
     "model_module": "@jupyter-widgets/controls",
     "model_name": "FloatProgressModel",
     "state": {
      "_dom_classes": [],
      "_model_module": "@jupyter-widgets/controls",
      "_model_module_version": "1.5.0",
      "_model_name": "FloatProgressModel",
      "_view_count": null,
      "_view_module": "@jupyter-widgets/controls",
      "_view_module_version": "1.5.0",
      "_view_name": "ProgressView",
      "bar_style": "success",
      "description": "Downloading: 100%",
      "description_tooltip": null,
      "layout": "IPY_MODEL_eac2b657dc2d4123aeadafecde438f38",
      "max": 213450,
      "min": 0,
      "orientation": "horizontal",
      "style": "IPY_MODEL_63be850c06de44409bbf1559bbb89b81",
      "value": 213450
     }
    },
    "da967ffe3501442f90433dded3b60599": {
     "model_module": "@jupyter-widgets/base",
     "model_name": "LayoutModel",
     "state": {
      "_model_module": "@jupyter-widgets/base",
      "_model_module_version": "1.2.0",
      "_model_name": "LayoutModel",
      "_view_count": null,
      "_view_module": "@jupyter-widgets/base",
      "_view_module_version": "1.2.0",
      "_view_name": "LayoutView",
      "align_content": null,
      "align_items": null,
      "align_self": null,
      "border": null,
      "bottom": null,
      "display": null,
      "flex": null,
      "flex_flow": null,
      "grid_area": null,
      "grid_auto_columns": null,
      "grid_auto_flow": null,
      "grid_auto_rows": null,
      "grid_column": null,
      "grid_gap": null,
      "grid_row": null,
      "grid_template_areas": null,
      "grid_template_columns": null,
      "grid_template_rows": null,
      "height": null,
      "justify_content": null,
      "justify_items": null,
      "left": null,
      "margin": null,
      "max_height": null,
      "max_width": null,
      "min_height": null,
      "min_width": null,
      "object_fit": null,
      "object_position": null,
      "order": null,
      "overflow": null,
      "overflow_x": null,
      "overflow_y": null,
      "padding": null,
      "right": null,
      "top": null,
      "visibility": null,
      "width": null
     }
    },
    "e150aeada458449b94783cf9e9fa6cac": {
     "model_module": "@jupyter-widgets/controls",
     "model_name": "HTMLModel",
     "state": {
      "_dom_classes": [],
      "_model_module": "@jupyter-widgets/controls",
      "_model_module_version": "1.5.0",
      "_model_name": "HTMLModel",
      "_view_count": null,
      "_view_module": "@jupyter-widgets/controls",
      "_view_module_version": "1.5.0",
      "_view_name": "HTMLView",
      "description": "",
      "description_tooltip": null,
      "layout": "IPY_MODEL_194bf594b95b4680b07c72b10f1633c8",
      "placeholder": "​",
      "style": "IPY_MODEL_490949cf2153485a9820bf8e06477dbf",
      "value": " 23802/23802 [1:35:29&lt;00:00,  4.15it/s]"
     }
    },
    "e55aa4a7bfd04e4a9f20075314da02bd": {
     "model_module": "@jupyter-widgets/base",
     "model_name": "LayoutModel",
     "state": {
      "_model_module": "@jupyter-widgets/base",
      "_model_module_version": "1.2.0",
      "_model_name": "LayoutModel",
      "_view_count": null,
      "_view_module": "@jupyter-widgets/base",
      "_view_module_version": "1.2.0",
      "_view_name": "LayoutView",
      "align_content": null,
      "align_items": null,
      "align_self": null,
      "border": null,
      "bottom": null,
      "display": null,
      "flex": null,
      "flex_flow": null,
      "grid_area": null,
      "grid_auto_columns": null,
      "grid_auto_flow": null,
      "grid_auto_rows": null,
      "grid_column": null,
      "grid_gap": null,
      "grid_row": null,
      "grid_template_areas": null,
      "grid_template_columns": null,
      "grid_template_rows": null,
      "height": null,
      "justify_content": null,
      "justify_items": null,
      "left": null,
      "margin": null,
      "max_height": null,
      "max_width": null,
      "min_height": null,
      "min_width": null,
      "object_fit": null,
      "object_position": null,
      "order": null,
      "overflow": null,
      "overflow_x": null,
      "overflow_y": null,
      "padding": null,
      "right": null,
      "top": null,
      "visibility": null,
      "width": null
     }
    },
    "e65fde371ad1479c852b00f87345c55f": {
     "model_module": "@jupyter-widgets/base",
     "model_name": "LayoutModel",
     "state": {
      "_model_module": "@jupyter-widgets/base",
      "_model_module_version": "1.2.0",
      "_model_name": "LayoutModel",
      "_view_count": null,
      "_view_module": "@jupyter-widgets/base",
      "_view_module_version": "1.2.0",
      "_view_name": "LayoutView",
      "align_content": null,
      "align_items": null,
      "align_self": null,
      "border": null,
      "bottom": null,
      "display": null,
      "flex": null,
      "flex_flow": null,
      "grid_area": null,
      "grid_auto_columns": null,
      "grid_auto_flow": null,
      "grid_auto_rows": null,
      "grid_column": null,
      "grid_gap": null,
      "grid_row": null,
      "grid_template_areas": null,
      "grid_template_columns": null,
      "grid_template_rows": null,
      "height": null,
      "justify_content": null,
      "justify_items": null,
      "left": null,
      "margin": null,
      "max_height": null,
      "max_width": null,
      "min_height": null,
      "min_width": null,
      "object_fit": null,
      "object_position": null,
      "order": null,
      "overflow": null,
      "overflow_x": null,
      "overflow_y": null,
      "padding": null,
      "right": null,
      "top": null,
      "visibility": null,
      "width": null
     }
    },
    "e75d92bc44dd40fcbdd5cdd7ce89a6ac": {
     "model_module": "@jupyter-widgets/controls",
     "model_name": "HBoxModel",
     "state": {
      "_dom_classes": [],
      "_model_module": "@jupyter-widgets/controls",
      "_model_module_version": "1.5.0",
      "_model_name": "HBoxModel",
      "_view_count": null,
      "_view_module": "@jupyter-widgets/controls",
      "_view_module_version": "1.5.0",
      "_view_name": "HBoxView",
      "box_style": "",
      "children": [
       "IPY_MODEL_1df0c8acb3c748e189ac0ff98ae4f438",
       "IPY_MODEL_729577a77c66471db30cc30d88f39673"
      ],
      "layout": "IPY_MODEL_89277a2e027541ef9eb50001fc004e02"
     }
    },
    "e79b232398be4000a846b59796cffaa5": {
     "model_module": "@jupyter-widgets/base",
     "model_name": "LayoutModel",
     "state": {
      "_model_module": "@jupyter-widgets/base",
      "_model_module_version": "1.2.0",
      "_model_name": "LayoutModel",
      "_view_count": null,
      "_view_module": "@jupyter-widgets/base",
      "_view_module_version": "1.2.0",
      "_view_name": "LayoutView",
      "align_content": null,
      "align_items": null,
      "align_self": null,
      "border": null,
      "bottom": null,
      "display": null,
      "flex": null,
      "flex_flow": null,
      "grid_area": null,
      "grid_auto_columns": null,
      "grid_auto_flow": null,
      "grid_auto_rows": null,
      "grid_column": null,
      "grid_gap": null,
      "grid_row": null,
      "grid_template_areas": null,
      "grid_template_columns": null,
      "grid_template_rows": null,
      "height": null,
      "justify_content": null,
      "justify_items": null,
      "left": null,
      "margin": null,
      "max_height": null,
      "max_width": null,
      "min_height": null,
      "min_width": null,
      "object_fit": null,
      "object_position": null,
      "order": null,
      "overflow": null,
      "overflow_x": null,
      "overflow_y": null,
      "padding": null,
      "right": null,
      "top": null,
      "visibility": null,
      "width": null
     }
    },
    "e848b844fe2e425d82165bad05889d46": {
     "model_module": "@jupyter-widgets/base",
     "model_name": "LayoutModel",
     "state": {
      "_model_module": "@jupyter-widgets/base",
      "_model_module_version": "1.2.0",
      "_model_name": "LayoutModel",
      "_view_count": null,
      "_view_module": "@jupyter-widgets/base",
      "_view_module_version": "1.2.0",
      "_view_name": "LayoutView",
      "align_content": null,
      "align_items": null,
      "align_self": null,
      "border": null,
      "bottom": null,
      "display": null,
      "flex": null,
      "flex_flow": null,
      "grid_area": null,
      "grid_auto_columns": null,
      "grid_auto_flow": null,
      "grid_auto_rows": null,
      "grid_column": null,
      "grid_gap": null,
      "grid_row": null,
      "grid_template_areas": null,
      "grid_template_columns": null,
      "grid_template_rows": null,
      "height": null,
      "justify_content": null,
      "justify_items": null,
      "left": null,
      "margin": null,
      "max_height": null,
      "max_width": null,
      "min_height": null,
      "min_width": null,
      "object_fit": null,
      "object_position": null,
      "order": null,
      "overflow": null,
      "overflow_x": null,
      "overflow_y": null,
      "padding": null,
      "right": null,
      "top": null,
      "visibility": null,
      "width": null
     }
    },
    "e8b7bfc942cb4abdb9c4e8541b6fffc9": {
     "model_module": "@jupyter-widgets/controls",
     "model_name": "HBoxModel",
     "state": {
      "_dom_classes": [],
      "_model_module": "@jupyter-widgets/controls",
      "_model_module_version": "1.5.0",
      "_model_name": "HBoxModel",
      "_view_count": null,
      "_view_module": "@jupyter-widgets/controls",
      "_view_module_version": "1.5.0",
      "_view_name": "HBoxView",
      "box_style": "",
      "children": [
       "IPY_MODEL_f55b7ebe68ca4fe4b595aafe529f4051",
       "IPY_MODEL_1fc28295098d44a3975aba7f3c675c83"
      ],
      "layout": "IPY_MODEL_635e85b77f124c818e719c571ddce761"
     }
    },
    "e8f1cda2e6224b44985ef8b5e0b60454": {
     "model_module": "@jupyter-widgets/controls",
     "model_name": "HTMLModel",
     "state": {
      "_dom_classes": [],
      "_model_module": "@jupyter-widgets/controls",
      "_model_module_version": "1.5.0",
      "_model_name": "HTMLModel",
      "_view_count": null,
      "_view_module": "@jupyter-widgets/controls",
      "_view_module_version": "1.5.0",
      "_view_name": "HTMLView",
      "description": "",
      "description_tooltip": null,
      "layout": "IPY_MODEL_e55aa4a7bfd04e4a9f20075314da02bd",
      "placeholder": "​",
      "style": "IPY_MODEL_5c4f37bb9d80474db8b345b1346c0a63",
      "value": " 29752/29752 [01:43&lt;00:00, 288.09it/s]"
     }
    },
    "eac2b657dc2d4123aeadafecde438f38": {
     "model_module": "@jupyter-widgets/base",
     "model_name": "LayoutModel",
     "state": {
      "_model_module": "@jupyter-widgets/base",
      "_model_module_version": "1.2.0",
      "_model_name": "LayoutModel",
      "_view_count": null,
      "_view_module": "@jupyter-widgets/base",
      "_view_module_version": "1.2.0",
      "_view_name": "LayoutView",
      "align_content": null,
      "align_items": null,
      "align_self": null,
      "border": null,
      "bottom": null,
      "display": null,
      "flex": null,
      "flex_flow": null,
      "grid_area": null,
      "grid_auto_columns": null,
      "grid_auto_flow": null,
      "grid_auto_rows": null,
      "grid_column": null,
      "grid_gap": null,
      "grid_row": null,
      "grid_template_areas": null,
      "grid_template_columns": null,
      "grid_template_rows": null,
      "height": null,
      "justify_content": null,
      "justify_items": null,
      "left": null,
      "margin": null,
      "max_height": null,
      "max_width": null,
      "min_height": null,
      "min_width": null,
      "object_fit": null,
      "object_position": null,
      "order": null,
      "overflow": null,
      "overflow_x": null,
      "overflow_y": null,
      "padding": null,
      "right": null,
      "top": null,
      "visibility": null,
      "width": null
     }
    },
    "eae8ad25aa964a8f97b79b795108a547": {
     "model_module": "@jupyter-widgets/controls",
     "model_name": "HBoxModel",
     "state": {
      "_dom_classes": [],
      "_model_module": "@jupyter-widgets/controls",
      "_model_module_version": "1.5.0",
      "_model_name": "HBoxModel",
      "_view_count": null,
      "_view_module": "@jupyter-widgets/controls",
      "_view_module_version": "1.5.0",
      "_view_name": "HBoxView",
      "box_style": "",
      "children": [
       "IPY_MODEL_2b66013577604f149b066acf8bedb48b",
       "IPY_MODEL_d0fb647866b841bbb3eaf4dd049276be"
      ],
      "layout": "IPY_MODEL_818971a2ecd04d799af0c144e4039976"
     }
    },
    "eb00b3b244cd4ae8b2f5895217c59cae": {
     "model_module": "@jupyter-widgets/controls",
     "model_name": "DescriptionStyleModel",
     "state": {
      "_model_module": "@jupyter-widgets/controls",
      "_model_module_version": "1.5.0",
      "_model_name": "DescriptionStyleModel",
      "_view_count": null,
      "_view_module": "@jupyter-widgets/base",
      "_view_module_version": "1.2.0",
      "_view_name": "StyleView",
      "description_width": ""
     }
    },
    "eb3c70e689284973ae90b963c2a09c5d": {
     "model_module": "@jupyter-widgets/base",
     "model_name": "LayoutModel",
     "state": {
      "_model_module": "@jupyter-widgets/base",
      "_model_module_version": "1.2.0",
      "_model_name": "LayoutModel",
      "_view_count": null,
      "_view_module": "@jupyter-widgets/base",
      "_view_module_version": "1.2.0",
      "_view_name": "LayoutView",
      "align_content": null,
      "align_items": null,
      "align_self": null,
      "border": null,
      "bottom": null,
      "display": null,
      "flex": null,
      "flex_flow": null,
      "grid_area": null,
      "grid_auto_columns": null,
      "grid_auto_flow": null,
      "grid_auto_rows": null,
      "grid_column": null,
      "grid_gap": null,
      "grid_row": null,
      "grid_template_areas": null,
      "grid_template_columns": null,
      "grid_template_rows": null,
      "height": null,
      "justify_content": null,
      "justify_items": null,
      "left": null,
      "margin": null,
      "max_height": null,
      "max_width": null,
      "min_height": null,
      "min_width": null,
      "object_fit": null,
      "object_position": null,
      "order": null,
      "overflow": null,
      "overflow_x": null,
      "overflow_y": null,
      "padding": null,
      "right": null,
      "top": null,
      "visibility": null,
      "width": null
     }
    },
    "ee85b9a2c64046919377d73a1f469ec0": {
     "model_module": "@jupyter-widgets/controls",
     "model_name": "FloatProgressModel",
     "state": {
      "_dom_classes": [],
      "_model_module": "@jupyter-widgets/controls",
      "_model_module_version": "1.5.0",
      "_model_name": "FloatProgressModel",
      "_view_count": null,
      "_view_module": "@jupyter-widgets/controls",
      "_view_module_version": "1.5.0",
      "_view_name": "ProgressView",
      "bar_style": "success",
      "description": "100%",
      "description_tooltip": null,
      "layout": "IPY_MODEL_145af85a98ee4306aee72d203773eda8",
      "max": 47603,
      "min": 0,
      "orientation": "horizontal",
      "style": "IPY_MODEL_4692fe517c1447a48a3fe0514ddc9fcc",
      "value": 47603
     }
    },
    "eee7952885ba422abec930e8d292b64b": {
     "model_module": "@jupyter-widgets/base",
     "model_name": "LayoutModel",
     "state": {
      "_model_module": "@jupyter-widgets/base",
      "_model_module_version": "1.2.0",
      "_model_name": "LayoutModel",
      "_view_count": null,
      "_view_module": "@jupyter-widgets/base",
      "_view_module_version": "1.2.0",
      "_view_name": "LayoutView",
      "align_content": null,
      "align_items": null,
      "align_self": null,
      "border": null,
      "bottom": null,
      "display": null,
      "flex": null,
      "flex_flow": null,
      "grid_area": null,
      "grid_auto_columns": null,
      "grid_auto_flow": null,
      "grid_auto_rows": null,
      "grid_column": null,
      "grid_gap": null,
      "grid_row": null,
      "grid_template_areas": null,
      "grid_template_columns": null,
      "grid_template_rows": null,
      "height": null,
      "justify_content": null,
      "justify_items": null,
      "left": null,
      "margin": null,
      "max_height": null,
      "max_width": null,
      "min_height": null,
      "min_width": null,
      "object_fit": null,
      "object_position": null,
      "order": null,
      "overflow": null,
      "overflow_x": null,
      "overflow_y": null,
      "padding": null,
      "right": null,
      "top": null,
      "visibility": null,
      "width": null
     }
    },
    "f36041888d61444882b1727bfabaea57": {
     "model_module": "@jupyter-widgets/base",
     "model_name": "LayoutModel",
     "state": {
      "_model_module": "@jupyter-widgets/base",
      "_model_module_version": "1.2.0",
      "_model_name": "LayoutModel",
      "_view_count": null,
      "_view_module": "@jupyter-widgets/base",
      "_view_module_version": "1.2.0",
      "_view_name": "LayoutView",
      "align_content": null,
      "align_items": null,
      "align_self": null,
      "border": null,
      "bottom": null,
      "display": null,
      "flex": null,
      "flex_flow": null,
      "grid_area": null,
      "grid_auto_columns": null,
      "grid_auto_flow": null,
      "grid_auto_rows": null,
      "grid_column": null,
      "grid_gap": null,
      "grid_row": null,
      "grid_template_areas": null,
      "grid_template_columns": null,
      "grid_template_rows": null,
      "height": null,
      "justify_content": null,
      "justify_items": null,
      "left": null,
      "margin": null,
      "max_height": null,
      "max_width": null,
      "min_height": null,
      "min_width": null,
      "object_fit": null,
      "object_position": null,
      "order": null,
      "overflow": null,
      "overflow_x": null,
      "overflow_y": null,
      "padding": null,
      "right": null,
      "top": null,
      "visibility": null,
      "width": null
     }
    },
    "f55b7ebe68ca4fe4b595aafe529f4051": {
     "model_module": "@jupyter-widgets/controls",
     "model_name": "FloatProgressModel",
     "state": {
      "_dom_classes": [],
      "_model_module": "@jupyter-widgets/controls",
      "_model_module_version": "1.5.0",
      "_model_name": "FloatProgressModel",
      "_view_count": null,
      "_view_module": "@jupyter-widgets/controls",
      "_view_module_version": "1.5.0",
      "_view_name": "ProgressView",
      "bar_style": "success",
      "description": "100%",
      "description_tooltip": null,
      "layout": "IPY_MODEL_eee7952885ba422abec930e8d292b64b",
      "max": 23802,
      "min": 0,
      "orientation": "horizontal",
      "style": "IPY_MODEL_fcb4ff8c97d248c98dcee57691f7dbf3",
      "value": 23802
     }
    },
    "f56366a44d6c468785557ffee5d441f0": {
     "model_module": "@jupyter-widgets/base",
     "model_name": "LayoutModel",
     "state": {
      "_model_module": "@jupyter-widgets/base",
      "_model_module_version": "1.2.0",
      "_model_name": "LayoutModel",
      "_view_count": null,
      "_view_module": "@jupyter-widgets/base",
      "_view_module_version": "1.2.0",
      "_view_name": "LayoutView",
      "align_content": null,
      "align_items": null,
      "align_self": null,
      "border": null,
      "bottom": null,
      "display": null,
      "flex": null,
      "flex_flow": null,
      "grid_area": null,
      "grid_auto_columns": null,
      "grid_auto_flow": null,
      "grid_auto_rows": null,
      "grid_column": null,
      "grid_gap": null,
      "grid_row": null,
      "grid_template_areas": null,
      "grid_template_columns": null,
      "grid_template_rows": null,
      "height": null,
      "justify_content": null,
      "justify_items": null,
      "left": null,
      "margin": null,
      "max_height": null,
      "max_width": null,
      "min_height": null,
      "min_width": null,
      "object_fit": null,
      "object_position": null,
      "order": null,
      "overflow": null,
      "overflow_x": null,
      "overflow_y": null,
      "padding": null,
      "right": null,
      "top": null,
      "visibility": null,
      "width": null
     }
    },
    "f7c3e2ab88e44868ad25308310e571bb": {
     "model_module": "@jupyter-widgets/base",
     "model_name": "LayoutModel",
     "state": {
      "_model_module": "@jupyter-widgets/base",
      "_model_module_version": "1.2.0",
      "_model_name": "LayoutModel",
      "_view_count": null,
      "_view_module": "@jupyter-widgets/base",
      "_view_module_version": "1.2.0",
      "_view_name": "LayoutView",
      "align_content": null,
      "align_items": null,
      "align_self": null,
      "border": null,
      "bottom": null,
      "display": null,
      "flex": null,
      "flex_flow": null,
      "grid_area": null,
      "grid_auto_columns": null,
      "grid_auto_flow": null,
      "grid_auto_rows": null,
      "grid_column": null,
      "grid_gap": null,
      "grid_row": null,
      "grid_template_areas": null,
      "grid_template_columns": null,
      "grid_template_rows": null,
      "height": null,
      "justify_content": null,
      "justify_items": null,
      "left": null,
      "margin": null,
      "max_height": null,
      "max_width": null,
      "min_height": null,
      "min_width": null,
      "object_fit": null,
      "object_position": null,
      "order": null,
      "overflow": null,
      "overflow_x": null,
      "overflow_y": null,
      "padding": null,
      "right": null,
      "top": null,
      "visibility": null,
      "width": null
     }
    },
    "f7eec0f9542d4ac5a3af3f739c1c359d": {
     "model_module": "@jupyter-widgets/controls",
     "model_name": "FloatProgressModel",
     "state": {
      "_dom_classes": [],
      "_model_module": "@jupyter-widgets/controls",
      "_model_module_version": "1.5.0",
      "_model_name": "FloatProgressModel",
      "_view_count": null,
      "_view_module": "@jupyter-widgets/controls",
      "_view_module_version": "1.5.0",
      "_view_name": "ProgressView",
      "bar_style": "success",
      "description": "100%",
      "description_tooltip": null,
      "layout": "IPY_MODEL_e848b844fe2e425d82165bad05889d46",
      "max": 21,
      "min": 0,
      "orientation": "horizontal",
      "style": "IPY_MODEL_160bed6da476408bacfa7518eb551e60",
      "value": 21
     }
    },
    "f8b478d4db204b3c97897fd4ec0d3ef9": {
     "model_module": "@jupyter-widgets/controls",
     "model_name": "DescriptionStyleModel",
     "state": {
      "_model_module": "@jupyter-widgets/controls",
      "_model_module_version": "1.5.0",
      "_model_name": "DescriptionStyleModel",
      "_view_count": null,
      "_view_module": "@jupyter-widgets/base",
      "_view_module_version": "1.2.0",
      "_view_name": "StyleView",
      "description_width": ""
     }
    },
    "fa4e406f0bec4b67a308bd7e458abf4b": {
     "model_module": "@jupyter-widgets/controls",
     "model_name": "DescriptionStyleModel",
     "state": {
      "_model_module": "@jupyter-widgets/controls",
      "_model_module_version": "1.5.0",
      "_model_name": "DescriptionStyleModel",
      "_view_count": null,
      "_view_module": "@jupyter-widgets/base",
      "_view_module_version": "1.2.0",
      "_view_name": "StyleView",
      "description_width": ""
     }
    },
    "fb01838ecc62423fa6df9ce5605f5306": {
     "model_module": "@jupyter-widgets/controls",
     "model_name": "HBoxModel",
     "state": {
      "_dom_classes": [],
      "_model_module": "@jupyter-widgets/controls",
      "_model_module_version": "1.5.0",
      "_model_name": "HBoxModel",
      "_view_count": null,
      "_view_module": "@jupyter-widgets/controls",
      "_view_module_version": "1.5.0",
      "_view_name": "HBoxView",
      "box_style": "",
      "children": [
       "IPY_MODEL_2df5d7d36902402dabbd3ee68861b02b",
       "IPY_MODEL_c649296c97d54b1bbacb3b5db8d78daf"
      ],
      "layout": "IPY_MODEL_d0621090ac6d41799979ff83bdb20595"
     }
    },
    "fc9b64ffb78446f78b6c81bad09c572d": {
     "model_module": "@jupyter-widgets/base",
     "model_name": "LayoutModel",
     "state": {
      "_model_module": "@jupyter-widgets/base",
      "_model_module_version": "1.2.0",
      "_model_name": "LayoutModel",
      "_view_count": null,
      "_view_module": "@jupyter-widgets/base",
      "_view_module_version": "1.2.0",
      "_view_name": "LayoutView",
      "align_content": null,
      "align_items": null,
      "align_self": null,
      "border": null,
      "bottom": null,
      "display": null,
      "flex": null,
      "flex_flow": null,
      "grid_area": null,
      "grid_auto_columns": null,
      "grid_auto_flow": null,
      "grid_auto_rows": null,
      "grid_column": null,
      "grid_gap": null,
      "grid_row": null,
      "grid_template_areas": null,
      "grid_template_columns": null,
      "grid_template_rows": null,
      "height": null,
      "justify_content": null,
      "justify_items": null,
      "left": null,
      "margin": null,
      "max_height": null,
      "max_width": null,
      "min_height": null,
      "min_width": null,
      "object_fit": null,
      "object_position": null,
      "order": null,
      "overflow": null,
      "overflow_x": null,
      "overflow_y": null,
      "padding": null,
      "right": null,
      "top": null,
      "visibility": null,
      "width": null
     }
    },
    "fcb4ff8c97d248c98dcee57691f7dbf3": {
     "model_module": "@jupyter-widgets/controls",
     "model_name": "ProgressStyleModel",
     "state": {
      "_model_module": "@jupyter-widgets/controls",
      "_model_module_version": "1.5.0",
      "_model_name": "ProgressStyleModel",
      "_view_count": null,
      "_view_module": "@jupyter-widgets/base",
      "_view_module_version": "1.2.0",
      "_view_name": "StyleView",
      "bar_color": null,
      "description_width": "initial"
     }
    },
    "fef358b2cfe846b3adf435f522648c8b": {
     "model_module": "@jupyter-widgets/base",
     "model_name": "LayoutModel",
     "state": {
      "_model_module": "@jupyter-widgets/base",
      "_model_module_version": "1.2.0",
      "_model_name": "LayoutModel",
      "_view_count": null,
      "_view_module": "@jupyter-widgets/base",
      "_view_module_version": "1.2.0",
      "_view_name": "LayoutView",
      "align_content": null,
      "align_items": null,
      "align_self": null,
      "border": null,
      "bottom": null,
      "display": null,
      "flex": null,
      "flex_flow": null,
      "grid_area": null,
      "grid_auto_columns": null,
      "grid_auto_flow": null,
      "grid_auto_rows": null,
      "grid_column": null,
      "grid_gap": null,
      "grid_row": null,
      "grid_template_areas": null,
      "grid_template_columns": null,
      "grid_template_rows": null,
      "height": null,
      "justify_content": null,
      "justify_items": null,
      "left": null,
      "margin": null,
      "max_height": null,
      "max_width": null,
      "min_height": null,
      "min_width": null,
      "object_fit": null,
      "object_position": null,
      "order": null,
      "overflow": null,
      "overflow_x": null,
      "overflow_y": null,
      "padding": null,
      "right": null,
      "top": null,
      "visibility": null,
      "width": null
     }
    }
   }
  }
 },
 "nbformat": 4,
 "nbformat_minor": 4
}
